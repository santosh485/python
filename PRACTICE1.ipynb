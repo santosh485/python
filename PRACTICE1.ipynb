{
 "cells": [
  {
   "cell_type": "code",
   "execution_count": 3,
   "id": "048ab954",
   "metadata": {},
   "outputs": [
    {
     "name": "stdout",
     "output_type": "stream",
     "text": [
      "1\n",
      "4\n"
     ]
    }
   ],
   "source": [
    "a = 2\n",
    "b = 2\n",
    "c = a//b\n",
    "d = a**b\n",
    "print(c)\n",
    "print(d)"
   ]
  },
  {
   "cell_type": "code",
   "execution_count": 5,
   "id": "dc063bbf",
   "metadata": {},
   "outputs": [
    {
     "name": "stdout",
     "output_type": "stream",
     "text": [
      "30\n"
     ]
    }
   ],
   "source": [
    "a = '10'\n",
    "b = '20'\n",
    "c = int(a) + int(b)\n",
    "print(c)"
   ]
  },
  {
   "cell_type": "code",
   "execution_count": 11,
   "id": "35e85af5",
   "metadata": {},
   "outputs": [
    {
     "name": "stdout",
     "output_type": "stream",
     "text": [
      "False\n"
     ]
    }
   ],
   "source": [
    "a = True\n",
    "b = False\n",
    "print(a and b)"
   ]
  },
  {
   "cell_type": "code",
   "execution_count": 9,
   "id": "8ef1ac99",
   "metadata": {},
   "outputs": [
    {
     "name": "stdout",
     "output_type": "stream",
     "text": [
      "Tribhuvan University\n",
      "Tribhuvan University\n",
      "Tribhuvan University\n",
      "Tribhuvan University\n",
      "\n"
     ]
    }
   ],
   "source": [
    "a = 'Tribhuvan University\\n'\n",
    "print(a*4)"
   ]
  },
  {
   "cell_type": "code",
   "execution_count": 12,
   "id": "a2c0848b",
   "metadata": {},
   "outputs": [
    {
     "name": "stdout",
     "output_type": "stream",
     "text": [
      "This is the area of traingle  100.0\n"
     ]
    }
   ],
   "source": [
    "b = 10\n",
    "h = 20\n",
    "a = 1/2*b*h\n",
    "print('This is the area of traingle ',a)"
   ]
  },
  {
   "cell_type": "code",
   "execution_count": 13,
   "id": "b07ccf8e",
   "metadata": {},
   "outputs": [
    {
     "name": "stdout",
     "output_type": "stream",
     "text": [
      "Ente the value of b = 2\n",
      "Enter the value of h = 5\n",
      "The area of traingle is 5.0\n"
     ]
    }
   ],
   "source": [
    "b = int(input(\"Ente the value of b = \"))\n",
    "h = int(input(\"Enter the value of h = \"))\n",
    "a = 1/2*b*h\n",
    "print('The area of traingle is',a)"
   ]
  },
  {
   "cell_type": "code",
   "execution_count": 24,
   "id": "9b2b4bc6",
   "metadata": {},
   "outputs": [
    {
     "name": "stdout",
     "output_type": "stream",
     "text": [
      "Enter name =   ram\n",
      " Enter address =  hari\n",
      " Enter age=  25\n",
      "ram hari 25\n"
     ]
    }
   ],
   "source": [
    "name = input(\"Enter name =   \" )\n",
    "address = input(\" Enter address =  \" )\n",
    "age = int(input(\" Enter age=  \"  ))\n",
    "info = name+ \" \"+address+ \" \"+str(age)\n",
    "print(info)"
   ]
  },
  {
   "cell_type": "code",
   "execution_count": 26,
   "id": "78286e63",
   "metadata": {},
   "outputs": [
    {
     "name": "stdout",
     "output_type": "stream",
     "text": [
      "Enter name =   Santosh Basnet\n",
      " Enter address =  Nele 9 Solukhumbu\n",
      " Enter age=  26\n",
      "My name is Santosh Basnet. I live in Nele 9 Solukhumbu. I am  26 years old.\n"
     ]
    }
   ],
   "source": [
    "name = input(\"Enter name =   \" )\n",
    "address = input(\" Enter address =  \" )\n",
    "age = int(input(\" Enter age=  \"  ))\n",
    "info = \"My name is \" +name+ \". I live in \"+address+ \". I am  \"+str(age) + \" years old.\"\n",
    "print(info)"
   ]
  },
  {
   "cell_type": "code",
   "execution_count": 1,
   "id": "1a590d84",
   "metadata": {},
   "outputs": [
    {
     "name": "stdout",
     "output_type": "stream",
     "text": [
      "Enter a = 5\n",
      "Enter b = 5\n",
      "a is equal to b\n"
     ]
    }
   ],
   "source": [
    "a = int(input(\"Enter a = \"))\n",
    "b = int(input(\"Enter b = \"))\n",
    "if a>b:\n",
    "    print(\"a is greater than b\")\n",
    "elif b>a:\n",
    "    print(\"b is greater than a\")\n",
    "else:\n",
    "    print(\"a is equal to b\")"
   ]
  },
  {
   "cell_type": "code",
   "execution_count": 2,
   "id": "be05f510",
   "metadata": {},
   "outputs": [
    {
     "name": "stdout",
     "output_type": "stream",
     "text": [
      "Enter a = 5\n",
      "Enter b = 5\n",
      "5 a is divisible\n"
     ]
    }
   ],
   "source": [
    "a = int(input(\"Enter a = \"))\n",
    "b = int(input(\"Enter b = \"))\n",
    "if a%b==0:\n",
    "    print(a,\"a is divisible\")\n",
    "else:\n",
    "    print(a,\"a is not divisible by b\")"
   ]
  },
  {
   "cell_type": "code",
   "execution_count": 3,
   "id": "e056586f",
   "metadata": {},
   "outputs": [
    {
     "name": "stdout",
     "output_type": "stream",
     "text": [
      "Enter a = 5\n",
      "Enter b = 2\n",
      "5 a is odd\n"
     ]
    }
   ],
   "source": [
    "a = int(input(\"Enter a = \"))\n",
    "b = int(input(\"Enter b = \"))\n",
    "if a%2!=0:\n",
    "    print(a,\"a is odd\")\n",
    "else:\n",
    "    print(a,\"a even\")"
   ]
  },
  {
   "cell_type": "code",
   "execution_count": 5,
   "id": "a1d4c835",
   "metadata": {},
   "outputs": [
    {
     "name": "stdout",
     "output_type": "stream",
     "text": [
      "Enter a = 5\n",
      "Enter b = 5\n",
      "+ - / * ** /\n",
      "1.0\n"
     ]
    }
   ],
   "source": [
    "a = int(input(\"Enter a = \"))\n",
    "b = int(input(\"Enter b = \"))\n",
    "o = input(\"+ - / * ** \")\n",
    "if o == \"-\":\n",
    "    print(a-b)\n",
    "elif o ==\"+\":\n",
    "    print(a+b)\n",
    "elif o ==\"*\":\n",
    "    print(a*b)\n",
    "elif o ==\"**\":\n",
    "    print(a**b)\n",
    "else:\n",
    "    print(a/b)"
   ]
  },
  {
   "cell_type": "code",
   "execution_count": 6,
   "id": "fbd7bd63",
   "metadata": {},
   "outputs": [
    {
     "name": "stdout",
     "output_type": "stream",
     "text": [
      "Enter a = 5\n",
      "Enter b = 0\n",
      "Enter + - / /\n",
      "b shoulnot be zero\n"
     ]
    }
   ],
   "source": [
    "a = int(input(\"Enter a = \"))\n",
    "b = int(input(\"Enter b = \"))\n",
    "o = input(\"Enter + - / \")\n",
    "if o == \"+\":\n",
    "    print(a+b)\n",
    "elif o == \"/\":\n",
    "    if b != 0:\n",
    "        print(a/b)\n",
    "    else:\n",
    "        print(\"b shoulnot be zero\")\n",
    "else:\n",
    "    \n",
    "    print(\"Invalid\")"
   ]
  },
  {
   "cell_type": "code",
   "execution_count": 7,
   "id": "5a1a2e26",
   "metadata": {},
   "outputs": [
    {
     "name": "stdout",
     "output_type": "stream",
     "text": [
      "Enter a = 5\n",
      "Enter b = 5\n",
      "a and b are invalid number\n"
     ]
    }
   ],
   "source": [
    "a = int(input(\"Enter a = \"))\n",
    "b = int(input(\"Enter b = \"))\n",
    "if a%2 == 0 and b%2 == 0:\n",
    "    print(\"a and b are required number\")\n",
    "else:\n",
    "    print(\"a and b are invalid number\")"
   ]
  },
  {
   "cell_type": "code",
   "execution_count": 8,
   "id": "563295af",
   "metadata": {},
   "outputs": [
    {
     "name": "stdout",
     "output_type": "stream",
     "text": [
      "Enter a = 5\n",
      "Enter b = 6\n",
      "a and b are required number\n"
     ]
    }
   ],
   "source": [
    "a = int(input(\"Enter a = \"))\n",
    "b = int(input(\"Enter b = \"))\n",
    "if a%2 == 0 or b%2 == 0:\n",
    "    print(\"a and b are required number\")\n",
    "else:\n",
    "    print(\"a and b are invalid number\")"
   ]
  },
  {
   "cell_type": "code",
   "execution_count": 23,
   "id": "778116fa",
   "metadata": {},
   "outputs": [
    {
     "name": "stdout",
     "output_type": "stream",
     "text": [
      "0 Good Morning Nepal \n",
      "\n",
      "0 Good Morning Nepal \n",
      "\n",
      "0 Good Morning Nepal \n",
      "\n",
      "0 Good Morning Nepal \n",
      "\n",
      "0 Good Morning Nepal \n",
      "\n"
     ]
    }
   ],
   "source": [
    "a = (\"Good Morning Nepal \\n\")\n",
    "for i in range(5):\n",
    "    print(0,a)\n",
    "   "
   ]
  },
  {
   "cell_type": "code",
   "execution_count": 26,
   "id": "897f4ca5",
   "metadata": {},
   "outputs": [
    {
     "name": "stdout",
     "output_type": "stream",
     "text": [
      "1 Good Morning Nepal \n",
      "\n",
      "3 Good Morning Nepal \n",
      "\n"
     ]
    }
   ],
   "source": [
    "a = (\"Good Morning Nepal \\n\")\n",
    "for i in range(1,5,2):\n",
    "    print(i,a)\n",
    "   "
   ]
  },
  {
   "cell_type": "code",
   "execution_count": 32,
   "id": "aff6c4d4",
   "metadata": {},
   "outputs": [
    {
     "name": "stdout",
     "output_type": "stream",
     "text": [
      "Enter n = 10\n",
      "10\n",
      "20\n",
      "30\n",
      "40\n",
      "50\n",
      "60\n",
      "70\n",
      "80\n",
      "90\n",
      "100\n"
     ]
    }
   ],
   "source": [
    "n = int(input(\"Enter n = \"))\n",
    "for i in range(1,11):\n",
    "    print(n*i)"
   ]
  },
  {
   "cell_type": "code",
   "execution_count": 33,
   "id": "0becfebc",
   "metadata": {},
   "outputs": [
    {
     "name": "stdout",
     "output_type": "stream",
     "text": [
      "Enter n = 10\n",
      "10\n",
      "20\n",
      "30\n",
      "40\n",
      "50\n",
      "60\n",
      "70\n",
      "80\n",
      "90\n",
      "100\n",
      "Enter m = 20\n",
      "20\n",
      "40\n",
      "60\n",
      "80\n",
      "100\n",
      "120\n",
      "140\n",
      "160\n",
      "180\n",
      "200\n"
     ]
    }
   ],
   "source": [
    "n = int(input(\"Enter n = \"))\n",
    "for i in range(1,11):\n",
    "    print(n*i)\n",
    "m = int(input(\"Enter m = \"))\n",
    "for i in range(1,11):\n",
    "    print(m*i)"
   ]
  },
  {
   "cell_type": "code",
   "execution_count": 34,
   "id": "15399719",
   "metadata": {},
   "outputs": [
    {
     "name": "stdout",
     "output_type": "stream",
     "text": [
      "Enter n = 10\n",
      "10\n",
      "1010\n",
      "101010\n",
      "10101010\n",
      "1010101010\n",
      "101010101010\n",
      "10101010101010\n",
      "1010101010101010\n",
      "101010101010101010\n",
      "10101010101010101010\n",
      "Enter m = ram\n",
      "ram\n",
      "ramram\n",
      "ramramram\n",
      "ramramramram\n",
      "ramramramramram\n",
      "ramramramramramram\n",
      "ramramramramramramram\n",
      "ramramramramramramramram\n",
      "ramramramramramramramramram\n",
      "ramramramramramramramramramram\n"
     ]
    }
   ],
   "source": [
    "n = input(\"Enter n = \")\n",
    "for i in range(1,11):\n",
    "    print(n*i)\n",
    "m = input(\"Enter m = \")\n",
    "for i in range(1,11):\n",
    "    print(m*i)"
   ]
  },
  {
   "cell_type": "code",
   "execution_count": 41,
   "id": "c1865b3e",
   "metadata": {},
   "outputs": [
    {
     "name": "stdout",
     "output_type": "stream",
     "text": [
      "Enter n = 15\n",
      "15 x 1 = 15\n",
      "15 x 2 = 30\n",
      "15 x 3 = 45\n",
      "15 x 4 = 60\n",
      "15 x 5 = 75\n",
      "15 x 6 = 90\n",
      "15 x 7 = 105\n",
      "15 x 8 = 120\n",
      "15 x 9 = 135\n",
      "15 x 10 = 150\n"
     ]
    }
   ],
   "source": [
    "n = int(input(\"Enter n = \"))\n",
    "for i in range(1,11):\n",
    "    print(n,\"x\",i,\"=\",n*i)"
   ]
  },
  {
   "cell_type": "code",
   "execution_count": 1,
   "id": "085a2a1b",
   "metadata": {},
   "outputs": [
    {
     "name": "stdout",
     "output_type": "stream",
     "text": [
      "Enter n = 2\n",
      "Enter x =5\n",
      "5\n",
      "Enter x =5\n",
      "5\n",
      "Enter x =5\n",
      "5\n",
      "Enter x =5\n",
      "5\n"
     ]
    }
   ],
   "source": [
    "n = int(input(\"Enter n = \"))\n",
    "for i in range(1,5):\n",
    "    x = int(input(\"Enter x =\"))\n",
    "    print(x)"
   ]
  },
  {
   "cell_type": "code",
   "execution_count": 3,
   "id": "bc17f958",
   "metadata": {},
   "outputs": [
    {
     "name": "stdout",
     "output_type": "stream",
     "text": [
      "nter n = 2\n",
      "Enter x =25\n",
      "25\n",
      "Enter x =25\n",
      "50\n"
     ]
    }
   ],
   "source": [
    "s = 0 #anywhere may be zero\n",
    "n = int(input(\"nter n = \"))\n",
    "for i in range(n): #coke, fanta\n",
    "    x = int(input(\"Enter x =\"))\n",
    "    s = s+x\n",
    "    print(s)"
   ]
  },
  {
   "cell_type": "code",
   "execution_count": 4,
   "id": "5e462255",
   "metadata": {},
   "outputs": [
    {
     "name": "stdout",
     "output_type": "stream",
     "text": [
      "Enter n = 2\n",
      "Enter n = 2\n",
      "2\n",
      "Enter n = 2\n",
      "22\n"
     ]
    }
   ],
   "source": [
    "s = \"\"\n",
    "n = int(input(\"Enter n = \"))\n",
    "for i in range(n):\n",
    "    name = input(\"Enter n = \")\n",
    "    s = s+name\n",
    "    print(s)"
   ]
  },
  {
   "cell_type": "code",
   "execution_count": 5,
   "id": "ac26d73c",
   "metadata": {},
   "outputs": [
    {
     "name": "stdout",
     "output_type": "stream",
     "text": [
      "Enter n = 2\n",
      "Enter name = ffsfss\n",
      "Hariffsfss\n",
      "Enter name = rsfs\n",
      "Hariffsfssrsfs\n"
     ]
    }
   ],
   "source": [
    "s = \"Hari\"\n",
    "n = int(input(\"Enter n = \"))\n",
    "for i in range(n):\n",
    "    name = input( \"Enter name = \")\n",
    "    s = s + name\n",
    "    print(s)"
   ]
  },
  {
   "cell_type": "code",
   "execution_count": 7,
   "id": "4b3bb253",
   "metadata": {},
   "outputs": [
    {
     "name": "stdout",
     "output_type": "stream",
     "text": [
      "Enter n = 2\n",
      "Enter n = ram\n",
      "Enter phone = 2554\n",
      "Enter Girl name = hari\n",
      "ram2554hari\n",
      "\n",
      "Enter n = 1\n",
      "Enter phone = sfs\n",
      "Enter Girl name = fswe\n",
      "ram2554hari\n",
      "1sfsfswe\n",
      "\n"
     ]
    }
   ],
   "source": [
    "s = \"\"\n",
    "n = int(input(\"Enter n = \"))\n",
    "for i in range(n):\n",
    "    name = input(\"Enter n = \")\n",
    "    phone = input( \"Enter phone = \")\n",
    "    Girlname = input(\"Enter Girl name = \")\n",
    "    s = s+name+ phone+Girlname+\"\\n\"\n",
    "    print(s)"
   ]
  },
  {
   "cell_type": "code",
   "execution_count": 14,
   "id": "5e1305c8",
   "metadata": {},
   "outputs": [
    {
     "name": "stdout",
     "output_type": "stream",
     "text": [
      "Enter n = 2\n",
      "Enter name = dfs\n",
      "Enter price = 25\n",
      "dfs 25\n",
      "\n",
      "25\n",
      "Enter name = sfs2\n",
      "Enter price = 25\n",
      "dfs 25\n",
      "sfs2 25\n",
      "\n",
      "50\n"
     ]
    }
   ],
   "source": [
    "s = \"\"\n",
    "total = 0\n",
    "n = int(input(\"Enter n = \"))\n",
    "for i in range(n):\n",
    "    name = input(\"Enter name = \")\n",
    "    price = int(input( \"Enter price = \"))\n",
    "    s = s+name+\" \"+str(price)+\"\\n\"\n",
    "    total = total+price\n",
    "    print(s)\n",
    "    print(total)"
   ]
  },
  {
   "cell_type": "code",
   "execution_count": 20,
   "id": "066714a1",
   "metadata": {},
   "outputs": [
    {
     "name": "stdout",
     "output_type": "stream",
     "text": [
      "n o h t y P "
     ]
    }
   ],
   "source": [
    "a = \"Python\"\n",
    "for i in range(5,-1,-1):\n",
    "    print(a[i],end = \" \") #reverse"
   ]
  },
  {
   "cell_type": "code",
   "execution_count": 19,
   "id": "e278a71c",
   "metadata": {},
   "outputs": [
    {
     "name": "stdout",
     "output_type": "stream",
     "text": [
      "P y t h o n "
     ]
    }
   ],
   "source": [
    "a = \"Python\"\n",
    "for i in a:\n",
    "    print(i,end = \" \")"
   ]
  },
  {
   "cell_type": "code",
   "execution_count": 24,
   "id": "e501cc61",
   "metadata": {},
   "outputs": [
    {
     "name": "stdout",
     "output_type": "stream",
     "text": [
      "Apple Cat Dog "
     ]
    }
   ],
   "source": [
    "a = [\"Apple\",\"Cat\",\"Dog\"]\n",
    "for i in a:\n",
    "    print(i,end = \" \")"
   ]
  },
  {
   "cell_type": "code",
   "execution_count": 28,
   "id": "88381a14",
   "metadata": {},
   "outputs": [
    {
     "name": "stdout",
     "output_type": "stream",
     "text": [
      "Hellow World Hellow World Hellow World "
     ]
    }
   ],
   "source": [
    "a = \" 0 \"\n",
    "for i in a:\n",
    "    print(\"Hellow World\",end=\" \")"
   ]
  },
  {
   "cell_type": "code",
   "execution_count": 1,
   "id": "ccbf62e2",
   "metadata": {},
   "outputs": [
    {
     "name": "stdout",
     "output_type": "stream",
     "text": [
      "Hello world\n",
      "Hello world\n",
      "Hello world\n"
     ]
    }
   ],
   "source": [
    "a = 0\n",
    "while a<5:\n",
    "    print(\"Hello world\")\n",
    "    a = a+2"
   ]
  },
  {
   "cell_type": "code",
   "execution_count": 2,
   "id": "5cea5bcd",
   "metadata": {},
   "outputs": [
    {
     "name": "stdout",
     "output_type": "stream",
     "text": [
      "0 Hellow World\n",
      "2 Hellow World\n",
      "4 Hellow World\n"
     ]
    }
   ],
   "source": [
    "a = 0\n",
    "while a<5:\n",
    "    print(a,\"Hellow World\")\n",
    "    a+=2"
   ]
  },
  {
   "cell_type": "code",
   "execution_count": 7,
   "id": "95e9e340",
   "metadata": {},
   "outputs": [
    {
     "name": "stdout",
     "output_type": "stream",
     "text": [
      "Enter value of n = 15\n"
     ]
    }
   ],
   "source": [
    "n = int(input(\"Enter value of n = \"))\n",
    "while a<=15:\n",
    "    print(n*a)\n",
    "    a = a+1"
   ]
  },
  {
   "cell_type": "code",
   "execution_count": 8,
   "id": "8b227389",
   "metadata": {},
   "outputs": [
    {
     "name": "stdout",
     "output_type": "stream",
     "text": [
      "Enter n = 10\n",
      "10 * 10\n",
      "10 * 20\n",
      "10 * 30\n",
      "10 * 40\n",
      "10 * 50\n",
      "10 * 60\n",
      "10 * 70\n",
      "10 * 80\n",
      "10 * 90\n",
      "10 * 100\n"
     ]
    }
   ],
   "source": [
    "n = int(input(\"Enter n = \"))\n",
    "a = 1\n",
    "while a<=10:\n",
    "    print(n,\"*\",n*a)\n",
    "    a = a+1"
   ]
  },
  {
   "cell_type": "code",
   "execution_count": 9,
   "id": "3ebefef6",
   "metadata": {},
   "outputs": [
    {
     "name": "stdout",
     "output_type": "stream",
     "text": [
      "Enter n = 10\n",
      "10 * 1 = 10\n",
      "10 * 2 = 20\n",
      "10 * 3 = 30\n",
      "10 * 4 = 40\n",
      "10 * 5 = 50\n",
      "10 * 6 = 60\n",
      "10 * 7 = 70\n",
      "10 * 8 = 80\n",
      "10 * 9 = 90\n",
      "10 * 10 = 100\n"
     ]
    }
   ],
   "source": [
    "n = int(input(\"Enter n = \"))\n",
    "a = 1\n",
    "while a<=10:\n",
    "        print(n,\"*\",a,\"=\",n*a)\n",
    "        a = a+1"
   ]
  },
  {
   "cell_type": "code",
   "execution_count": 10,
   "id": "82f07c7e",
   "metadata": {},
   "outputs": [
    {
     "name": "stdout",
     "output_type": "stream",
     "text": [
      "5\n",
      "4\n",
      "3\n",
      "2\n",
      "1\n"
     ]
    }
   ],
   "source": [
    "a = 5\n",
    "while 0<a:\n",
    "    print(a)\n",
    "    a = a-1"
   ]
  },
  {
   "cell_type": "code",
   "execution_count": 1,
   "id": "f291cb0d",
   "metadata": {},
   "outputs": [
    {
     "name": "stdout",
     "output_type": "stream",
     "text": [
      "Apple\n",
      "Ball\n",
      "Cat\n"
     ]
    }
   ],
   "source": [
    "a = [\"Apple\",\"Ball\",\"Cat\"]\n",
    "for i in a:\n",
    "    if i == \"Ball\":\n",
    "        pass\n",
    "    print(i)"
   ]
  },
  {
   "cell_type": "code",
   "execution_count": 2,
   "id": "2514f1af",
   "metadata": {},
   "outputs": [
    {
     "name": "stdout",
     "output_type": "stream",
     "text": [
      "Apple\n"
     ]
    }
   ],
   "source": [
    "a = [\"Apple\",\"Ball\",\"Cat\"]\n",
    "for i in a:\n",
    "    if i == \"Ball\":\n",
    "        break\n",
    "    print(i)"
   ]
  },
  {
   "cell_type": "code",
   "execution_count": 3,
   "id": "66a24a0c",
   "metadata": {},
   "outputs": [
    {
     "name": "stdout",
     "output_type": "stream",
     "text": [
      "Apple\n",
      "Cat\n"
     ]
    }
   ],
   "source": [
    "a = [\"Apple\",\"Ball\",\"Cat\"]\n",
    "for i in a:\n",
    "    if i == \"Ball\":\n",
    "        continue\n",
    "    print(i)"
   ]
  },
  {
   "cell_type": "code",
   "execution_count": 4,
   "id": "96745110",
   "metadata": {},
   "outputs": [
    {
     "name": "stdout",
     "output_type": "stream",
     "text": [
      "1\n",
      "3\n",
      "5\n",
      "7\n",
      "9\n",
      "11\n",
      "13\n",
      "15\n",
      "17\n",
      "19\n"
     ]
    }
   ],
   "source": [
    "for i in range(1,21):\n",
    "    if i%2==0:\n",
    "        continue\n",
    "    print(i)"
   ]
  },
  {
   "cell_type": "code",
   "execution_count": 6,
   "id": "3af8f2d6",
   "metadata": {},
   "outputs": [
    {
     "name": "stdout",
     "output_type": "stream",
     "text": [
      "Hello"
     ]
    }
   ],
   "source": [
    "a = \"Hellow World\"\n",
    "for i in a:\n",
    "    if i == 'w':\n",
    "        break\n",
    "    print(i,end = \"\")"
   ]
  },
  {
   "cell_type": "code",
   "execution_count": 7,
   "id": "1726cd90",
   "metadata": {},
   "outputs": [
    {
     "name": "stdout",
     "output_type": "stream",
     "text": [
      "Hello World"
     ]
    }
   ],
   "source": [
    "a = \"Hello World\"\n",
    "n = len(a)\n",
    "b = 0\n",
    "while b<n:\n",
    "    print(a[b],end = \"\")\n",
    "    b = b+1"
   ]
  },
  {
   "cell_type": "code",
   "execution_count": 9,
   "id": "f9717633",
   "metadata": {},
   "outputs": [
    {
     "name": "stdout",
     "output_type": "stream",
     "text": [
      "Enter = 3\n",
      "5\n",
      "2\n",
      "Enter = 4\n",
      "6\n",
      "4\n",
      "Enter = 4\n",
      "6\n",
      "6\n"
     ]
    }
   ],
   "source": [
    "a = 0\n",
    "s = 0\n",
    "while a<5:\n",
    "    x = int(input(\"Enter = \"))\n",
    "    x = x+2\n",
    "    a = a+2\n",
    "    print(x)\n",
    "    print(a)"
   ]
  },
  {
   "cell_type": "code",
   "execution_count": 10,
   "id": "0469bcc7",
   "metadata": {},
   "outputs": [
    {
     "name": "stdout",
     "output_type": "stream",
     "text": [
      "Good Moring\n"
     ]
    }
   ],
   "source": [
    "def hello():\n",
    "    print(\"Good Moring\")\n",
    "hello()"
   ]
  },
  {
   "cell_type": "code",
   "execution_count": 11,
   "id": "49e7e0a4",
   "metadata": {},
   "outputs": [
    {
     "name": "stdout",
     "output_type": "stream",
     "text": [
      "Good Moring Nepal\n"
     ]
    }
   ],
   "source": [
    "x = \"Good Moring Nepal\"\n",
    "def good():\n",
    "    print(x)\n",
    "good()"
   ]
  },
  {
   "cell_type": "code",
   "execution_count": 15,
   "id": "dbe24001",
   "metadata": {},
   "outputs": [
    {
     "name": "stdout",
     "output_type": "stream",
     "text": [
      "Enter b = 5\n",
      "Enter h = 2\n",
      "5.0 The area of traingle was found \n"
     ]
    }
   ],
   "source": [
    "def area():\n",
    "    global a\n",
    "    b = int(input(\"Enter b = \"))\n",
    "    h = int(input(\"Enter h = \"))\n",
    "    a = 1/2*b*h\n",
    "    print(a,\"The area of traingle was found \")\n",
    "area()"
   ]
  },
  {
   "cell_type": "code",
   "execution_count": 17,
   "id": "6e064528",
   "metadata": {},
   "outputs": [
    {
     "name": "stdout",
     "output_type": "stream",
     "text": [
      "6\n"
     ]
    }
   ],
   "source": [
    "print(a)"
   ]
  },
  {
   "cell_type": "code",
   "execution_count": 21,
   "id": "8e65f594",
   "metadata": {},
   "outputs": [
    {
     "name": "stdout",
     "output_type": "stream",
     "text": [
      "Enter b = 5\n",
      "Enter h = 2\n",
      "5.0 The area of traingle was found \n",
      "This is the area of traingle \n"
     ]
    }
   ],
   "source": [
    "b = int(input(\"Enter b = \"))\n",
    "h = int(input(\"Enter h = \"))\n",
    "def area():\n",
    "    \n",
    "    a = 1/2*b*h\n",
    "    print(a,\"The area of traingle was found \")\n",
    "area()\n",
    "print(\"This is the area of traingle \")"
   ]
  },
  {
   "cell_type": "code",
   "execution_count": 22,
   "id": "a368e4f6",
   "metadata": {},
   "outputs": [
    {
     "name": "stdout",
     "output_type": "stream",
     "text": [
      "Enter b = 5\n",
      "Enter h = 2\n",
      "5.0\n",
      "5 2\n"
     ]
    }
   ],
   "source": [
    "b = int(input(\"Enter b = \"))\n",
    "h = int(input(\"Enter h = \"))\n",
    "def area():\n",
    "    a = 1/2*b*h\n",
    "    print(a)\n",
    "area()\n",
    "print(b,h)"
   ]
  },
  {
   "cell_type": "code",
   "execution_count": 26,
   "id": "671ef89c",
   "metadata": {},
   "outputs": [
    {
     "name": "stdout",
     "output_type": "stream",
     "text": [
      "Good Morning Nepal\n"
     ]
    }
   ],
   "source": [
    "def hello(x,y):\n",
    "    print(x,y)\n",
    "hello(\"Good Morning\",\"Nepal\")"
   ]
  },
  {
   "cell_type": "code",
   "execution_count": 28,
   "id": "051e7f2f",
   "metadata": {},
   "outputs": [
    {
     "name": "stdout",
     "output_type": "stream",
     "text": [
      "Enter the value of b = 5\n",
      "Enter the value of h = 2\n",
      "Enter the value of l= 5\n",
      "10\n",
      "50\n"
     ]
    }
   ],
   "source": [
    "def area(x,y):\n",
    "    a = b*h\n",
    "    print(a)\n",
    "def volume(x,y,z):\n",
    "    v = b*h*l\n",
    "    print(v)\n",
    "b = int(input(\"Enter the value of b = \"))\n",
    "h = int(input(\"Enter the value of h = \"))\n",
    "l = int(input(\"Enter the value of l= \"))\n",
    "area(b,h)\n",
    "volume(b,h,l)"
   ]
  },
  {
   "cell_type": "code",
   "execution_count": 30,
   "id": "38e170d2",
   "metadata": {},
   "outputs": [
    {
     "name": "stdout",
     "output_type": "stream",
     "text": [
      "Good\n",
      "Nepal\n",
      "Good Morning\n",
      "None\n"
     ]
    }
   ],
   "source": [
    "def language(lan = \"Good Morning\"):\n",
    "    print(lan)\n",
    "\n",
    "language(\"Good\")\n",
    "language(\"Nepal\")\n",
    "print(language())"
   ]
  },
  {
   "cell_type": "code",
   "execution_count": 31,
   "id": "c3f4218e",
   "metadata": {},
   "outputs": [
    {
     "name": "stdout",
     "output_type": "stream",
     "text": [
      "Good\n",
      "None\n"
     ]
    }
   ],
   "source": [
    "def language(lan = \"Good Morning\"):\n",
    "    print(lan)\n",
    "\n",
    "print(language(\"Good\"))"
   ]
  },
  {
   "cell_type": "code",
   "execution_count": 32,
   "id": "745d5afd",
   "metadata": {},
   "outputs": [
    {
     "name": "stdout",
     "output_type": "stream",
     "text": [
      "20\n"
     ]
    }
   ],
   "source": [
    "def hello():\n",
    "    l = 4\n",
    "    b = 5\n",
    "    a = l*b\n",
    "    return a\n",
    "print(hello())"
   ]
  },
  {
   "cell_type": "code",
   "execution_count": 38,
   "id": "72a00aad",
   "metadata": {},
   "outputs": [
    {
     "name": "stdout",
     "output_type": "stream",
     "text": [
      "The area is  20\n",
      "the volume is  200\n"
     ]
    }
   ],
   "source": [
    "def hello():\n",
    "    l = 4\n",
    "    b = 5\n",
    "    a = l*b\n",
    "    return a\n",
    "x = hello()\n",
    "h = 10\n",
    "v = x*h\n",
    "print(\"The area is \",x)\n",
    "print(\"the volume is \",v)"
   ]
  },
  {
   "cell_type": "code",
   "execution_count": 43,
   "id": "d07f5e0f",
   "metadata": {},
   "outputs": [
    {
     "name": "stdout",
     "output_type": "stream",
     "text": [
      "(20, 200)\n",
      "The area is  (20, 200)\n",
      "the volume is  200\n"
     ]
    }
   ],
   "source": [
    "def hello():\n",
    "    l = 4\n",
    "    b = 5\n",
    "    a = l*b\n",
    "    v = a*h\n",
    "    return a,v\n",
    "x = hello()\n",
    "area, volume = x\n",
    "print(x)\n",
    "print(\"The area is \",x)\n",
    "print(\"the volume is \",v)"
   ]
  },
  {
   "cell_type": "code",
   "execution_count": 45,
   "id": "15e48cee",
   "metadata": {},
   "outputs": [
    {
     "name": "stdout",
     "output_type": "stream",
     "text": [
      "Enter 5\n",
      "Enter 5\n",
      "enter 5\n",
      "25\n",
      "125\n"
     ]
    }
   ],
   "source": [
    "def cal(x,y,z):\n",
    "    a = l*b\n",
    "    v = a*h\n",
    "    return a,v\n",
    "l = int(input(\"Enter \"))\n",
    "b = int(input(\"Enter \"))\n",
    "h = int(input(\"enter \"))\n",
    "area, volume = cal(l,b,h)\n",
    "print(area)\n",
    "print(volume)"
   ]
  },
  {
   "cell_type": "code",
   "execution_count": 46,
   "id": "a172f9bd",
   "metadata": {},
   "outputs": [
    {
     "name": "stdout",
     "output_type": "stream",
     "text": [
      "3.141592653589793\n"
     ]
    }
   ],
   "source": [
    "import math as m\n",
    "print(m.pi)"
   ]
  },
  {
   "cell_type": "code",
   "execution_count": 48,
   "id": "d7590dc8",
   "metadata": {},
   "outputs": [
    {
     "data": {
      "text/plain": [
       "125.0"
      ]
     },
     "execution_count": 48,
     "metadata": {},
     "output_type": "execute_result"
    }
   ],
   "source": [
    "m.pow(5,3)"
   ]
  },
  {
   "cell_type": "code",
   "execution_count": 50,
   "id": "e639ea6d",
   "metadata": {},
   "outputs": [
    {
     "name": "stdout",
     "output_type": "stream",
     "text": [
      "1.0\n"
     ]
    }
   ],
   "source": [
    "a = m.pi/2\n",
    "print(m.sin(a))"
   ]
  },
  {
   "cell_type": "code",
   "execution_count": 55,
   "id": "3b29394e",
   "metadata": {},
   "outputs": [
    {
     "name": "stdout",
     "output_type": "stream",
     "text": [
      "Enter = 5\n",
      "75.0\n"
     ]
    }
   ],
   "source": [
    "import math as a\n",
    "r = int(input(\"Enter = \"))\n",
    "a = 3*m.pow(r,2)\n",
    "print(a)"
   ]
  },
  {
   "cell_type": "code",
   "execution_count": 56,
   "id": "6508a174",
   "metadata": {},
   "outputs": [
    {
     "name": "stdout",
     "output_type": "stream",
     "text": [
      "Hello World\n",
      "Enter y for more funcionty\n",
      "Hello World\n",
      "Enter y for more funciontu\n"
     ]
    }
   ],
   "source": [
    "def hello():\n",
    "    print(\"Hello World\")\n",
    "    x = input(\"Enter y for more funciont\")\n",
    "    if x ==\"y\":\n",
    "        hello()\n",
    "        \n",
    "hello()"
   ]
  },
  {
   "cell_type": "code",
   "execution_count": 59,
   "id": "c787a086",
   "metadata": {},
   "outputs": [
    {
     "name": "stdout",
     "output_type": "stream",
     "text": [
      "Enter p5\n",
      "Enter h2\n",
      "5.0\n",
      "Enter xy\n",
      "Enter p5\n",
      "Enter h2\n",
      "5.0\n",
      "Enter xy\n",
      "Enter p6\n",
      "Enter h3\n",
      "9.0\n",
      "Enter xy\n",
      "Enter p5\n",
      "Enter h5\n",
      "12.5\n",
      "Enter xl\n"
     ]
    }
   ],
   "source": [
    "def cal():\n",
    "    b = int(input(\"Enter p\"))\n",
    "    h = int(input(\"Enter h\"))\n",
    "    a = 1/2*b*h\n",
    "    print(a)\n",
    "    x = input(\"Enter x\")\n",
    "    if x == \"y\":\n",
    "        cal()\n",
    "    \n",
    "cal()"
   ]
  },
  {
   "cell_type": "code",
   "execution_count": 64,
   "id": "749f5af3",
   "metadata": {},
   "outputs": [
    {
     "name": "stdout",
     "output_type": "stream",
     "text": [
      "Enter n = 2\n",
      "Enter p5\n",
      "Enter h32\n",
      "80.0\n",
      "Enter p25\n",
      "Enter h25\n",
      "312.5\n"
     ]
    }
   ],
   "source": [
    "def cal():\n",
    "    b = int(input(\"Enter p\"))\n",
    "    h = int(input(\"Enter h\"))\n",
    "    a = 1/2*b*h\n",
    "    print(a)\n",
    "   \n",
    "n = int(input(\"Enter n = \"))\n",
    "for i in range(n):\n",
    "    cal()"
   ]
  },
  {
   "cell_type": "code",
   "execution_count": 75,
   "id": "dc31ad7e",
   "metadata": {},
   "outputs": [
    {
     "name": "stdout",
     "output_type": "stream",
     "text": [
      "Enter n = 5\n",
      "x5\n",
      "y5\n",
      "25\n",
      "None\n",
      "x5\n",
      "y5\n",
      "25\n",
      "None\n",
      "x5\n",
      "y5\n",
      "25\n",
      "None\n",
      "x55\n",
      "y5\n",
      "275\n",
      "None\n",
      "x5\n",
      "y5\n",
      "25\n",
      "None\n"
     ]
    }
   ],
   "source": [
    "def cal(x,y):\n",
    "    i = p*t\n",
    "    print(i)\n",
    "n = int(input(\"Enter n = \"))\n",
    "for i in range(n):\n",
    "    p = int(input(\"x\"))\n",
    "    t = int(input(\"y\"))\n",
    "    print(cal(p,t))"
   ]
  },
  {
   "cell_type": "code",
   "execution_count": 76,
   "id": "2bdce300",
   "metadata": {},
   "outputs": [
    {
     "name": "stdout",
     "output_type": "stream",
     "text": [
      "Enter a = 2\n",
      "Enter b = 5\n",
      "Enter + - * / /\n",
      "0.4\n",
      "Enter y for mol cal =y\n",
      "Enter a = 5\n",
      "Enter b = 5\n",
      "Enter + - * / j\n",
      "Invalid operator\n",
      "Enter y for mol cal =h\n"
     ]
    }
   ],
   "source": [
    "def cal():\n",
    "    a = int(input(\"Enter a = \"))\n",
    "    b = int(input(\"Enter b = \"))\n",
    "    o = input(\"Enter + - * / \")\n",
    "    if o == \"+\":\n",
    "        print(a+b)\n",
    "    elif o == \"-\":\n",
    "        print(a-b)\n",
    "    elif o == \"*\":\n",
    "        print(a*b)\n",
    "    elif o == \"/\":\n",
    "        if b !=0:\n",
    "            print(a/b)\n",
    "        else: print(\"b shold not be zero\")\n",
    "    else:\n",
    "        print(\"Invalid operator\")\n",
    "    x = input(\"Enter y for mol cal =\")\n",
    "    if x ==\"y\":\n",
    "        cal()\n",
    "cal()"
   ]
  },
  {
   "cell_type": "code",
   "execution_count": 80,
   "id": "57df1030",
   "metadata": {},
   "outputs": [
    {
     "name": "stdout",
     "output_type": "stream",
     "text": [
      "Enter n =2\n",
      "Enter name = sfs\n",
      "Enter phone= 5\n",
      "Enter name = 4\n",
      "Enter phone= 665\n",
      "sfs5\n",
      "4665\n",
      "\n",
      "\n",
      "sfs5\n",
      "4665\n",
      "\n",
      "\n"
     ]
    }
   ],
   "source": [
    "s =\"\"\n",
    "def phone_no(x=\"\",y=\"\"):\n",
    "    global s\n",
    "    s = s+x+y+\"\\n\"\n",
    "    return s\n",
    "n = int(input(\"Enter n =\"))\n",
    "\n",
    "for i in range(n):\n",
    "    name = input(\"Enter name = \")\n",
    "    phone = input(\"Enter phone= \")\n",
    "    phone_no(name,phone)\n",
    "\n",
    "print(phone_no())\n",
    "print(s)"
   ]
  },
  {
   "cell_type": "code",
   "execution_count": 93,
   "id": "475e1112",
   "metadata": {},
   "outputs": [
    {
     "name": "stdout",
     "output_type": "stream",
     "text": [
      "Enter n = 2\n",
      "Enter p52\n",
      "Enter h25\n"
     ]
    },
    {
     "ename": "TypeError",
     "evalue": "can only concatenate str (not \"int\") to str",
     "output_type": "error",
     "traceback": [
      "\u001b[1;31m---------------------------------------------------------------------------\u001b[0m",
      "\u001b[1;31mTypeError\u001b[0m                                 Traceback (most recent call last)",
      "\u001b[1;32m<ipython-input-93-e0b113f18318>\u001b[0m in \u001b[0;36m<module>\u001b[1;34m\u001b[0m\n\u001b[0;32m      8\u001b[0m     \u001b[0mname\u001b[0m \u001b[1;33m=\u001b[0m \u001b[0minput\u001b[0m\u001b[1;33m(\u001b[0m\u001b[1;34m\"Enter p\"\u001b[0m\u001b[1;33m)\u001b[0m\u001b[1;33m\u001b[0m\u001b[1;33m\u001b[0m\u001b[0m\n\u001b[0;32m      9\u001b[0m     \u001b[0mphone\u001b[0m \u001b[1;33m=\u001b[0m \u001b[0mint\u001b[0m\u001b[1;33m(\u001b[0m\u001b[0minput\u001b[0m\u001b[1;33m(\u001b[0m\u001b[1;34m\"Enter h\"\u001b[0m\u001b[1;33m)\u001b[0m\u001b[1;33m)\u001b[0m\u001b[1;33m\u001b[0m\u001b[1;33m\u001b[0m\u001b[0m\n\u001b[1;32m---> 10\u001b[1;33m     \u001b[0mhello\u001b[0m\u001b[1;33m(\u001b[0m\u001b[0mname\u001b[0m\u001b[1;33m,\u001b[0m\u001b[0mphone\u001b[0m\u001b[1;33m)\u001b[0m\u001b[1;33m\u001b[0m\u001b[1;33m\u001b[0m\u001b[0m\n\u001b[0m\u001b[0;32m     11\u001b[0m \u001b[1;33m\u001b[0m\u001b[0m\n\u001b[0;32m     12\u001b[0m \u001b[0mprint\u001b[0m\u001b[1;33m(\u001b[0m\u001b[0mhello\u001b[0m\u001b[1;33m(\u001b[0m\u001b[1;33m)\u001b[0m\u001b[1;33m)\u001b[0m\u001b[1;33m\u001b[0m\u001b[1;33m\u001b[0m\u001b[0m\n",
      "\u001b[1;32m<ipython-input-93-e0b113f18318>\u001b[0m in \u001b[0;36mhello\u001b[1;34m(x, y)\u001b[0m\n\u001b[0;32m      2\u001b[0m \u001b[1;32mdef\u001b[0m \u001b[0mhello\u001b[0m\u001b[1;33m(\u001b[0m\u001b[0mx\u001b[0m\u001b[1;33m=\u001b[0m\u001b[1;34m\"\"\u001b[0m\u001b[1;33m,\u001b[0m\u001b[0my\u001b[0m\u001b[1;33m=\u001b[0m\u001b[1;34m\"\"\u001b[0m\u001b[1;33m)\u001b[0m\u001b[1;33m:\u001b[0m\u001b[1;33m\u001b[0m\u001b[1;33m\u001b[0m\u001b[0m\n\u001b[0;32m      3\u001b[0m     \u001b[1;32mglobal\u001b[0m \u001b[0ms\u001b[0m\u001b[1;33m\u001b[0m\u001b[1;33m\u001b[0m\u001b[0m\n\u001b[1;32m----> 4\u001b[1;33m     \u001b[0ms\u001b[0m \u001b[1;33m=\u001b[0m \u001b[0mx\u001b[0m\u001b[1;33m+\u001b[0m\u001b[0my\u001b[0m\u001b[1;33m+\u001b[0m\u001b[1;34m\"\\n\"\u001b[0m\u001b[1;33m\u001b[0m\u001b[1;33m\u001b[0m\u001b[0m\n\u001b[0m\u001b[0;32m      5\u001b[0m     \u001b[1;32mreturn\u001b[0m \u001b[0ms\u001b[0m\u001b[1;33m\u001b[0m\u001b[1;33m\u001b[0m\u001b[0m\n\u001b[0;32m      6\u001b[0m \u001b[0mn\u001b[0m \u001b[1;33m=\u001b[0m \u001b[0mint\u001b[0m\u001b[1;33m(\u001b[0m\u001b[0minput\u001b[0m\u001b[1;33m(\u001b[0m\u001b[1;34m\"Enter n = \"\u001b[0m\u001b[1;33m)\u001b[0m\u001b[1;33m)\u001b[0m\u001b[1;33m\u001b[0m\u001b[1;33m\u001b[0m\u001b[0m\n",
      "\u001b[1;31mTypeError\u001b[0m: can only concatenate str (not \"int\") to str"
     ]
    }
   ],
   "source": [
    "s =\"\"\n",
    "def hello(x=\"\",y=\"\"):\n",
    "    global s\n",
    "    s = x+y+\"\\n\"\n",
    "    return s\n",
    "n = int(input(\"Enter n = \"))\n",
    "for i in range(n):\n",
    "    name = input(\"Enter p\")\n",
    "    phone = int(input(\"Enter h\"))\n",
    "    hello(name,phone)\n",
    "    \n",
    "print(hello())\n",
    "print(s)"
   ]
  },
  {
   "cell_type": "code",
   "execution_count": 97,
   "id": "21c7a112",
   "metadata": {},
   "outputs": [
    {
     "name": "stdout",
     "output_type": "stream",
     "text": [
      "HlowrdIa yhn\n",
      "23\n",
      "nohtyp ma I dlrow olleH\n"
     ]
    }
   ],
   "source": [
    "a = \"Hello world I am python\"\n",
    "print(a[0:25:2])\n",
    "print(len(a))\n",
    "print(a[25::-1])"
   ]
  },
  {
   "cell_type": "code",
   "execution_count": 107,
   "id": "039aca5a",
   "metadata": {},
   "outputs": [
    {
     "name": "stdout",
     "output_type": "stream",
     "text": [
      "Enter n =1\n",
      "Enter name =Santosh\n",
      "Ente surname = Basnet\n",
      "Santosh Basnet\n",
      "\n"
     ]
    }
   ],
   "source": [
    "s = \"\"\n",
    "n = int(input(\"Enter n =\"))\n",
    "for i in range(n):\n",
    "    name = input(\"Enter name =\")\n",
    "    surename = input(\"Ente surname = \")\n",
    "    data = f\"{name} {surename}\"\n",
    "    s = s+data+\"\\n\"\n",
    "print(s)"
   ]
  },
  {
   "cell_type": "code",
   "execution_count": 108,
   "id": "d5e52bba",
   "metadata": {},
   "outputs": [
    {
     "name": "stdout",
     "output_type": "stream",
     "text": [
      "SANTOSH\n"
     ]
    }
   ],
   "source": [
    "a = \"Santosh\"\n",
    "print(a.upper())"
   ]
  },
  {
   "cell_type": "code",
   "execution_count": 110,
   "id": "c5d21c11",
   "metadata": {},
   "outputs": [
    {
     "name": "stdout",
     "output_type": "stream",
     "text": [
      "Ramprasad Shyam Hari Gita\n",
      "Ram Shyam Hari Gita\n"
     ]
    }
   ],
   "source": [
    "a = \"Ram Shyam Hari Gita\"\n",
    "print(a.replace(\"Ram\",\"Ramprasad\"))\n",
    "print(a)"
   ]
  },
  {
   "cell_type": "code",
   "execution_count": 111,
   "id": "86548859",
   "metadata": {},
   "outputs": [
    {
     "name": "stdout",
     "output_type": "stream",
     "text": [
      "Enter name = Ram\n",
      "Yes\n",
      "2\n"
     ]
    }
   ],
   "source": [
    "a = \"Ram Shyam Hari Gita Ram\"\n",
    "name = input(\"Enter name = \")\n",
    "if \"Ram\" in a:\n",
    "    print(\"Yes\")\n",
    "    print(a.count(name))"
   ]
  },
  {
   "cell_type": "code",
   "execution_count": 112,
   "id": "0f311f19",
   "metadata": {},
   "outputs": [
    {
     "name": "stdout",
     "output_type": "stream",
     "text": [
      "['Apple', 'Cat', 'Ball', 'Dog']\n",
      "Apple\n"
     ]
    }
   ],
   "source": [
    "a = [\"Apple\",\"Cat\",\"Ball\",\"Dog\"] #Autoindex\n",
    "print(a)\n",
    "print(a[0])"
   ]
  },
  {
   "cell_type": "code",
   "execution_count": 114,
   "id": "8c897a59",
   "metadata": {},
   "outputs": [
    {
     "name": "stdout",
     "output_type": "stream",
     "text": [
      "Enter n = 2\n",
      "Enter name = sfs\n",
      "Enter name = sfs\n",
      "['sfs', 'sfs']\n"
     ]
    }
   ],
   "source": [
    "l = list()\n",
    "n = int(input(\"Enter n = \"))\n",
    "for i in range(n):\n",
    "    name = input(\"Enter name = \")\n",
    "    l = l+[name]\n",
    "print(l)"
   ]
  },
  {
   "cell_type": "code",
   "execution_count": 116,
   "id": "00b9603b",
   "metadata": {},
   "outputs": [
    {
     "name": "stdout",
     "output_type": "stream",
     "text": [
      "Enter n = 5\n",
      "Enteer x = 25\n",
      "Enteer x = 35\n",
      "Enteer x = 56\n",
      "Enteer x = 56\n",
      "Enteer x = 86\n",
      "[25, 35, 56, 56, 86]\n",
      "the sume of no is =  258\n",
      "The max value is =  86\n",
      "the miinimium =  25\n",
      "min 17.2\n"
     ]
    }
   ],
   "source": [
    "l = list()\n",
    "n = int(input(\"Enter n = \"))\n",
    "for i in range(n):\n",
    "    x = int(input(\"Enteer x = \"))\n",
    "    l = l+[x]\n",
    "print(l)\n",
    "print(\"the sume of no is = \",sum(l)) #better than loop\n",
    "print(\"The max value is = \",max(l))\n",
    "print(\"the miinimium = \",min(l))\n",
    "print(\"min\",max(l)/n)"
   ]
  },
  {
   "cell_type": "code",
   "execution_count": 118,
   "id": "f48b2cb0",
   "metadata": {},
   "outputs": [
    {
     "data": {
      "text/plain": [
       "<function list.sort(*, key=None, reverse=False)>"
      ]
     },
     "execution_count": 118,
     "metadata": {},
     "output_type": "execute_result"
    }
   ],
   "source": [
    "l.sort"
   ]
  },
  {
   "cell_type": "code",
   "execution_count": 119,
   "id": "8e155233",
   "metadata": {},
   "outputs": [
    {
     "data": {
      "text/plain": [
       "<function sorted(iterable, /, *, key=None, reverse=False)>"
      ]
     },
     "execution_count": 119,
     "metadata": {},
     "output_type": "execute_result"
    }
   ],
   "source": [
    "sorted"
   ]
  },
  {
   "cell_type": "code",
   "execution_count": 120,
   "id": "380a3d7e",
   "metadata": {},
   "outputs": [
    {
     "name": "stdout",
     "output_type": "stream",
     "text": [
      "['Apple', 'Ball', 'Cat', 'Dog', 'Fish']\n"
     ]
    }
   ],
   "source": [
    "#append(add to last) insert()\n",
    "a = [\"Apple\",\"Ball\",\"Cat\",\"Dog\"]\n",
    "b = \"Fish\"\n",
    "a.append(b)\n",
    "print(a)"
   ]
  },
  {
   "cell_type": "code",
   "execution_count": 121,
   "id": "98433001",
   "metadata": {},
   "outputs": [
    {
     "name": "stdout",
     "output_type": "stream",
     "text": [
      "Enter n = 2\n",
      "Enter name = ram\n",
      "Enter ntc number = 356\n",
      "Enter ncell no = 25\n",
      "Enter name = hari\n",
      "Enter ntc number = 256\n",
      "Enter ncell no = 256\n",
      "[['ram', 356, 25], ['hari', 256, 256]]\n"
     ]
    }
   ],
   "source": [
    "data = []\n",
    "n = int(input(\"Enter n = \"))\n",
    "for i in range(n):\n",
    "    name = input(\"Enter name = \")\n",
    "    ntc = int(input(\"Enter ntc number = \"))\n",
    "    ncell = int(input(\"Enter ncell no = \"))\n",
    "    info = [name,ntc,ncell]\n",
    "    data.append(info)\n",
    "    \n",
    "print(data)"
   ]
  },
  {
   "cell_type": "code",
   "execution_count": 122,
   "id": "5c70bcfa",
   "metadata": {},
   "outputs": [
    {
     "data": {
      "text/plain": [
       "[['ram', 356, 6524, 60620772], ['shyam', 254, 2535]]"
      ]
     },
     "execution_count": 122,
     "metadata": {},
     "output_type": "execute_result"
    }
   ],
   "source": [
    "a = [['ram', 356, 6524], ['shyam', 254, 2535]]\n",
    "a[0].append(60620772)\n",
    "a"
   ]
  },
  {
   "cell_type": "code",
   "execution_count": 123,
   "id": "e49b39aa",
   "metadata": {},
   "outputs": [
    {
     "name": "stdout",
     "output_type": "stream",
     "text": [
      "Enter n = 2\n",
      "Enter x = 5\n",
      "Enter x = 5\n",
      "(5, 5)\n"
     ]
    }
   ],
   "source": [
    "t = tuple()\n",
    "n = int(input(\"Enter n = \"))\n",
    "for i in range(n):\n",
    "    x = int(input(\"Enter x = \"))\n",
    "    t = t+(x,)\n",
    "    \n",
    "print(t)"
   ]
  },
  {
   "cell_type": "code",
   "execution_count": 2,
   "id": "cbc34fb2",
   "metadata": {},
   "outputs": [
    {
     "name": "stdout",
     "output_type": "stream",
     "text": [
      "3\n",
      "<class 'dict'>\n"
     ]
    }
   ],
   "source": [
    "a = {1:\"Python\",2:\"Good\",3:\"Gold\"}\n",
    "print(len(a))\n",
    "print(type(a))"
   ]
  },
  {
   "cell_type": "code",
   "execution_count": 6,
   "id": "ce9c3b75",
   "metadata": {},
   "outputs": [
    {
     "name": "stdout",
     "output_type": "stream",
     "text": [
      "{1: 'Python', 2: 'Good', 3: 'Gold', 'a': 'Kathmandu'}\n"
     ]
    }
   ],
   "source": [
    "a = {1:\"Python\",2:\"Good\",3:\"Gold\"}\n",
    "b = {\"a\":\"Kathmandu\"}\n",
    "a.update(b)\n",
    "print(a)"
   ]
  },
  {
   "cell_type": "code",
   "execution_count": 11,
   "id": "eb6c2ad2",
   "metadata": {},
   "outputs": [
    {
     "name": "stdout",
     "output_type": "stream",
     "text": [
      "{'b': 'Apple', 'c*2': 'Football'}\n"
     ]
    }
   ],
   "source": [
    "a = {}\n",
    "a[\"b\"] = \"Apple\"\n",
    "a[\"c*2\"] = \"Football\"\n",
    "a\n",
    "print(a)"
   ]
  },
  {
   "cell_type": "code",
   "execution_count": 14,
   "id": "4cb5a500",
   "metadata": {},
   "outputs": [
    {
     "name": "stdout",
     "output_type": "stream",
     "text": [
      "{1: 1, 2: 4, 3: 9, 4: 16, 5: 25, 6: 36, 7: 49}\n"
     ]
    }
   ],
   "source": [
    "d = {}\n",
    "for i in range(1,8):\n",
    "    d[i] = i**2\n",
    "print(d)"
   ]
  },
  {
   "cell_type": "code",
   "execution_count": 15,
   "id": "3a001be8",
   "metadata": {},
   "outputs": [
    {
     "name": "stdout",
     "output_type": "stream",
     "text": [
      "{1: 1, 2: 8, 3: 27, 4: 64, 5: 125, 6: 216, 7: 343, 8: 512, 9: 729}\n"
     ]
    }
   ],
   "source": [
    "j = {}\n",
    "for i in range (1,10):\n",
    "    j[i] = i**3\n",
    "print(j)"
   ]
  },
  {
   "cell_type": "code",
   "execution_count": 17,
   "id": "7e407332",
   "metadata": {},
   "outputs": [
    {
     "name": "stdout",
     "output_type": "stream",
     "text": [
      "Enter n = 5\n",
      "Enter name = Santosh Basnet\n",
      "Enter phone = 9860235222\n",
      "Enter name = Ram\n",
      "Enter phone = 35686558\n",
      "Enter name = Hari\n",
      "Enter phone = 98652653\n",
      "Enter name = Shyam\n",
      "Enter phone = 986053562\n",
      "Enter name = Sita\n",
      "Enter phone = 98653526\n",
      "{'Santosh Basnet': 9860235222, 'Ram': 35686558, 'Hari': 98652653, 'Shyam': 986053562, 'Sita': 98653526}\n"
     ]
    }
   ],
   "source": [
    "d = {}\n",
    "n = int(input(\"Enter n = \"))\n",
    "for i in range(n):\n",
    "    name = input(\"Enter name = \")\n",
    "    phone = int(input(\"Enter phone = \"))\n",
    "    key = name\n",
    "    value = phone\n",
    "    d[key] = value\n",
    "print(d)"
   ]
  },
  {
   "cell_type": "code",
   "execution_count": 19,
   "id": "c0284924",
   "metadata": {},
   "outputs": [
    {
     "name": "stdout",
     "output_type": "stream",
     "text": [
      "{'Ram': '986989898', 'Shyam': '98885887544'}\n"
     ]
    }
   ],
   "source": [
    "d = [(\"Ram\",\"986989898\"),(\"Shyam\",\"98885887544\")]\n",
    "dict(d)\n",
    "print(dict(d))"
   ]
  },
  {
   "cell_type": "code",
   "execution_count": 27,
   "id": "bb457bad",
   "metadata": {},
   "outputs": [
    {
     "name": "stdout",
     "output_type": "stream",
     "text": [
      "{'Ram': '986989898', 'Shyam': '98885887544'}\n"
     ]
    }
   ],
   "source": [
    "d = [(\"Ram\",\"986989898\"),(\"Shyam\",\"98885887544\")]\n",
    "e = [(\"dictionary\",\"9865625354\")]\n",
    "dict(d)\n",
    "dict(e)\n",
    "dict(d).update(dict(e))\n",
    "print(dict(d))\n"
   ]
  },
  {
   "cell_type": "code",
   "execution_count": 29,
   "id": "f034ce08",
   "metadata": {},
   "outputs": [
    {
     "name": "stdout",
     "output_type": "stream",
     "text": [
      "('Ram', '986989898')\n",
      "('Shyam', '98885887544')\n"
     ]
    }
   ],
   "source": [
    "for i in d:\n",
    "    print(i)"
   ]
  },
  {
   "cell_type": "code",
   "execution_count": 35,
   "id": "34334a12",
   "metadata": {},
   "outputs": [
    {
     "name": "stdout",
     "output_type": "stream",
     "text": [
      "1\n",
      "8\n",
      "27\n",
      "64\n",
      "125\n",
      "216\n",
      "343\n",
      "512\n",
      "729\n"
     ]
    }
   ],
   "source": [
    "for i in j.values():\n",
    "    print(i)"
   ]
  },
  {
   "cell_type": "code",
   "execution_count": 36,
   "id": "bbc0756f",
   "metadata": {},
   "outputs": [
    {
     "name": "stdout",
     "output_type": "stream",
     "text": [
      "Kathmandu\n"
     ]
    }
   ],
   "source": [
    "for i in b.values():\n",
    "    print(i)"
   ]
  },
  {
   "cell_type": "code",
   "execution_count": 37,
   "id": "bacc547a",
   "metadata": {},
   "outputs": [
    {
     "name": "stdout",
     "output_type": "stream",
     "text": [
      "(1, 1)\n",
      "(2, 8)\n",
      "(3, 27)\n",
      "(4, 64)\n",
      "(5, 125)\n",
      "(6, 216)\n",
      "(7, 343)\n",
      "(8, 512)\n",
      "(9, 729)\n"
     ]
    }
   ],
   "source": [
    "for i in j.items():\n",
    "    print(i)"
   ]
  },
  {
   "cell_type": "code",
   "execution_count": 38,
   "id": "d9092fb3",
   "metadata": {},
   "outputs": [
    {
     "data": {
      "text/plain": [
       "dict_items([(1, 1), (2, 8), (3, 27), (4, 64), (5, 125), (6, 216), (7, 343), (8, 512), (9, 729)])"
      ]
     },
     "execution_count": 38,
     "metadata": {},
     "output_type": "execute_result"
    }
   ],
   "source": [
    "j.items()"
   ]
  },
  {
   "cell_type": "code",
   "execution_count": 39,
   "id": "96608ab4",
   "metadata": {},
   "outputs": [
    {
     "data": {
      "text/plain": [
       "dict_values([1, 8, 27, 64, 125, 216, 343, 512, 729])"
      ]
     },
     "execution_count": 39,
     "metadata": {},
     "output_type": "execute_result"
    }
   ],
   "source": [
    "j.values()"
   ]
  },
  {
   "cell_type": "code",
   "execution_count": 40,
   "id": "b5b9e421",
   "metadata": {},
   "outputs": [
    {
     "data": {
      "text/plain": [
       "{'Ram': '9856526535', 'Hari': '9856452653'}"
      ]
     },
     "execution_count": 40,
     "metadata": {},
     "output_type": "execute_result"
    }
   ],
   "source": [
    "a = {(\"Ram\"):\"9856526535\",(\"Hari\"):\"9856452653\"}\n",
    "a"
   ]
  },
  {
   "cell_type": "code",
   "execution_count": 44,
   "id": "a8460734",
   "metadata": {},
   "outputs": [
    {
     "name": "stdout",
     "output_type": "stream",
     "text": [
      "Enter n = 1\n",
      "Enter name = Ram\n",
      "Enter phnone = 98659865\n",
      "Enter phone2 =  98659654\n",
      "Enter favourite = Coke\n"
     ]
    },
    {
     "ename": "TypeError",
     "evalue": "list indices must be integers or slices, not str",
     "output_type": "error",
     "traceback": [
      "\u001b[1;31m---------------------------------------------------------------------------\u001b[0m",
      "\u001b[1;31mTypeError\u001b[0m                                 Traceback (most recent call last)",
      "\u001b[1;32m<ipython-input-44-a077bdb7a450>\u001b[0m in \u001b[0;36m<module>\u001b[1;34m\u001b[0m\n\u001b[0;32m      8\u001b[0m     \u001b[0mkey\u001b[0m \u001b[1;33m=\u001b[0m \u001b[0mname\u001b[0m\u001b[1;33m\u001b[0m\u001b[1;33m\u001b[0m\u001b[0m\n\u001b[0;32m      9\u001b[0m     \u001b[0mvalue\u001b[0m \u001b[1;33m=\u001b[0m \u001b[1;34mf\"{phone} {phone2} {favourite}\"\u001b[0m\u001b[1;33m\u001b[0m\u001b[1;33m\u001b[0m\u001b[0m\n\u001b[1;32m---> 10\u001b[1;33m     \u001b[0md\u001b[0m\u001b[1;33m[\u001b[0m\u001b[0mkey\u001b[0m\u001b[1;33m]\u001b[0m \u001b[1;33m=\u001b[0m \u001b[0mvalue\u001b[0m\u001b[1;33m\u001b[0m\u001b[1;33m\u001b[0m\u001b[0m\n\u001b[0m\u001b[0;32m     11\u001b[0m \u001b[0mprint\u001b[0m\u001b[1;33m(\u001b[0m\u001b[0md\u001b[0m\u001b[1;33m)\u001b[0m\u001b[1;33m\u001b[0m\u001b[1;33m\u001b[0m\u001b[0m\n",
      "\u001b[1;31mTypeError\u001b[0m: list indices must be integers or slices, not str"
     ]
    }
   ],
   "source": [
    "d = []\n",
    "n = int(input(\"Enter n = \"))\n",
    "for i in range(n):\n",
    "    name = input(\"Enter name = \")\n",
    "    phone = int(input(\"Enter phnone = \"))\n",
    "    phone2 = int(input(\"Enter phone2 =  \"))\n",
    "    favourite = input(\"Enter favourite = \")\n",
    "    key = name\n",
    "    value = f\"{phone} {phone2} {favourite}\"\n",
    "    d[key] = value\n",
    "print(d)"
   ]
  },
  {
   "cell_type": "code",
   "execution_count": 45,
   "id": "bfd19dcd",
   "metadata": {},
   "outputs": [
    {
     "name": "stdout",
     "output_type": "stream",
     "text": [
      "Enter name = ram\n"
     ]
    },
    {
     "ename": "TypeError",
     "evalue": "list indices must be integers or slices, not str",
     "output_type": "error",
     "traceback": [
      "\u001b[1;31m---------------------------------------------------------------------------\u001b[0m",
      "\u001b[1;31mTypeError\u001b[0m                                 Traceback (most recent call last)",
      "\u001b[1;32m<ipython-input-45-2bd926389430>\u001b[0m in \u001b[0;36m<module>\u001b[1;34m\u001b[0m\n\u001b[0;32m      1\u001b[0m \u001b[0mname\u001b[0m \u001b[1;33m=\u001b[0m \u001b[0minput\u001b[0m\u001b[1;33m(\u001b[0m\u001b[1;34m\"Enter name = \"\u001b[0m\u001b[1;33m)\u001b[0m\u001b[1;33m\u001b[0m\u001b[1;33m\u001b[0m\u001b[0m\n\u001b[1;32m----> 2\u001b[1;33m \u001b[0mx\u001b[0m \u001b[1;33m=\u001b[0m \u001b[0md\u001b[0m\u001b[1;33m[\u001b[0m\u001b[0mname\u001b[0m\u001b[1;33m]\u001b[0m\u001b[1;33m\u001b[0m\u001b[1;33m\u001b[0m\u001b[0m\n\u001b[0m\u001b[0;32m      3\u001b[0m \u001b[0mprint\u001b[0m\u001b[1;33m(\u001b[0m\u001b[0mx\u001b[0m\u001b[1;33m.\u001b[0m\u001b[0msplit\u001b[0m\u001b[1;33m(\u001b[0m\u001b[1;33m)\u001b[0m\u001b[1;33m)\u001b[0m\u001b[1;33m\u001b[0m\u001b[1;33m\u001b[0m\u001b[0m\n",
      "\u001b[1;31mTypeError\u001b[0m: list indices must be integers or slices, not str"
     ]
    }
   ],
   "source": [
    "name = input(\"Enter name = \")\n",
    "x = d[name]\n",
    "print(x.split())"
   ]
  },
  {
   "cell_type": "code",
   "execution_count": null,
   "id": "ef8dc7fe",
   "metadata": {},
   "outputs": [],
   "source": []
  }
 ],
 "metadata": {
  "kernelspec": {
   "display_name": "Python 3",
   "language": "python",
   "name": "python3"
  },
  "language_info": {
   "codemirror_mode": {
    "name": "ipython",
    "version": 3
   },
   "file_extension": ".py",
   "mimetype": "text/x-python",
   "name": "python",
   "nbconvert_exporter": "python",
   "pygments_lexer": "ipython3",
   "version": "3.8.8"
  }
 },
 "nbformat": 4,
 "nbformat_minor": 5
}
