{
 "cells": [
  {
   "cell_type": "code",
   "execution_count": 1,
   "id": "06f366de",
   "metadata": {},
   "outputs": [
    {
     "name": "stdout",
     "output_type": "stream",
     "text": [
      "10\n"
     ]
    }
   ],
   "source": [
    "a = 10\n",
    "print(a)"
   ]
  },
  {
   "cell_type": "code",
   "execution_count": 7,
   "id": "14e1def7",
   "metadata": {},
   "outputs": [
    {
     "name": "stdout",
     "output_type": "stream",
     "text": [
      "Entee your namesan\n",
      "Enter your roll no.1\n",
      "Enter your addresska\n",
      "SN is 1My name is sanMy roll no is 1My address iska\n"
     ]
    }
   ],
   "source": [
    "a=1\n",
    "b=input(\"Entee your name\")\n",
    "c=int(input(\"Enter your roll no.\"))\n",
    "d=input(\"Enter your address\")\n",
    "info=\"SN is \"+str(a) + \"My name is \"+b +\"My roll no is \"+str(c)+\"My address is\"+d\n",
    "print(info)"
   ]
  },
  {
   "cell_type": "code",
   "execution_count": 8,
   "id": "cb478815",
   "metadata": {},
   "outputs": [
    {
     "name": "stdout",
     "output_type": "stream",
     "text": [
      "<class 'str'>\n"
     ]
    }
   ],
   "source": [
    "print(type(info))"
   ]
  },
  {
   "cell_type": "code",
   "execution_count": 10,
   "id": "9dce93fd",
   "metadata": {},
   "outputs": [
    {
     "name": "stdout",
     "output_type": "stream",
     "text": [
      "<class 'dict'>\n",
      "{'Name': 'Santosh', 'Address': 'Kathmandu', 'Scope': 'Science'}\n"
     ]
    },
    {
     "data": {
      "text/plain": [
       "{'Name': 'Santosh', 'Address': 'Kathmandu', 'Scope': 'Science'}"
      ]
     },
     "execution_count": 10,
     "metadata": {},
     "output_type": "execute_result"
    }
   ],
   "source": [
    "a={\"Name\":\"Santosh\",\"Address\":\"Kathmandu\",\"Scope\":\"Science\"}\n",
    "print(type(a))\n",
    "print(a)\n",
    "a"
   ]
  },
  {
   "cell_type": "code",
   "execution_count": 17,
   "id": "a4caae30",
   "metadata": {},
   "outputs": [
    {
     "name": "stdout",
     "output_type": "stream",
     "text": [
      "3\n",
      "<class 'dict'>\n",
      "{1: 'SN', 2: 'Name', 3: 'Address'}\n"
     ]
    }
   ],
   "source": [
    "b={1:\"SN\",2:\"Name\",3:\"Address\"}\n",
    "print(len(b))\n",
    "print(type(b))\n",
    "print(b)"
   ]
  },
  {
   "cell_type": "code",
   "execution_count": 19,
   "id": "29122e1a",
   "metadata": {},
   "outputs": [
    {
     "name": "stdout",
     "output_type": "stream",
     "text": [
      "SN\n"
     ]
    }
   ],
   "source": [
    "print(b[1])"
   ]
  },
  {
   "cell_type": "code",
   "execution_count": 20,
   "id": "919b1d35",
   "metadata": {},
   "outputs": [
    {
     "data": {
      "text/plain": [
       "{'Name': 'Santosh',\n",
       " 'Address': 'Kathmandu',\n",
       " 'Scope': 'Science',\n",
       " 1: 'SN',\n",
       " 2: 'Name',\n",
       " 3: 'Address'}"
      ]
     },
     "execution_count": 20,
     "metadata": {},
     "output_type": "execute_result"
    }
   ],
   "source": [
    "a.update(b)\n",
    "a"
   ]
  },
  {
   "cell_type": "code",
   "execution_count": 21,
   "id": "b19eae4e",
   "metadata": {},
   "outputs": [
    {
     "name": "stdout",
     "output_type": "stream",
     "text": [
      "{'Name': 'Santosh', 'Address': 'Kathmandu', 'Scope': 'Science', 1: 'SN', 2: 'Name', 3: 'Address'}\n"
     ]
    }
   ],
   "source": [
    "print(a)"
   ]
  },
  {
   "cell_type": "code",
   "execution_count": 27,
   "id": "f950ef43",
   "metadata": {},
   "outputs": [
    {
     "name": "stdout",
     "output_type": "stream",
     "text": [
      "Enter nameram\n",
      "1\n"
     ]
    },
    {
     "data": {
      "text/plain": [
       "{'name': 'ram', 'address': 'kathmandu', 'roll no': 1}"
      ]
     },
     "execution_count": 27,
     "metadata": {},
     "output_type": "execute_result"
    }
   ],
   "source": [
    "a={}\n",
    "a[\"name\"]=input(\"Enter name\")\n",
    "a[\"address\"]=\"kathmandu\"\n",
    "a[\"roll no\"]=int(input())\n",
    "a"
   ]
  },
  {
   "cell_type": "code",
   "execution_count": 28,
   "id": "4dba569b",
   "metadata": {},
   "outputs": [
    {
     "data": {
      "text/plain": [
       "{1: 2, 2: 4, 3: 6, 4: 8, 5: 10, 6: 12}"
      ]
     },
     "execution_count": 28,
     "metadata": {},
     "output_type": "execute_result"
    }
   ],
   "source": [
    "d={}\n",
    "for i in range(1,7):\n",
    "    d[i]=i*2\n",
    "d"
   ]
  },
  {
   "cell_type": "code",
   "execution_count": 35,
   "id": "885cf8ab",
   "metadata": {},
   "outputs": [
    {
     "name": "stdout",
     "output_type": "stream",
     "text": [
      "Enter the value of n1\n",
      "Enter nameram\n",
      "Enter addresssfsf\n",
      "Enter mobile985745\n"
     ]
    },
    {
     "data": {
      "text/plain": [
       "{'ram': 985745}"
      ]
     },
     "execution_count": 35,
     "metadata": {},
     "output_type": "execute_result"
    }
   ],
   "source": [
    "d={}\n",
    "n=int(input(\"Enter the value of n\"))\n",
    "for i in range(n):\n",
    "    name=input(\"Enter name\")\n",
    "    address=input(\"Enter address\")\n",
    "    phone =int(input(\"Enter mobile\"))\n",
    "    d[name]=phone\n",
    "    #d[name]=address\n",
    "d"
   ]
  },
  {
   "cell_type": "code",
   "execution_count": 34,
   "id": "44625871",
   "metadata": {},
   "outputs": [
    {
     "name": "stdout",
     "output_type": "stream",
     "text": [
      "{'ram': 'kathmandu'}\n"
     ]
    }
   ],
   "source": [
    "print(d)"
   ]
  },
  {
   "cell_type": "code",
   "execution_count": 44,
   "id": "76c3dc53",
   "metadata": {},
   "outputs": [
    {
     "data": {
      "text/plain": [
       "{'name': 'Ram', 'ram': 'shyam'}"
      ]
     },
     "execution_count": 44,
     "metadata": {},
     "output_type": "execute_result"
    }
   ],
   "source": [
    "d=[(\"name\", \"Ram\"),(\"ram\",\"shyam\")]\n",
    "d\n",
    "dict(d)"
   ]
  },
  {
   "cell_type": "code",
   "execution_count": 51,
   "id": "86aa7948",
   "metadata": {},
   "outputs": [],
   "source": [
    "a=dict(d)"
   ]
  },
  {
   "cell_type": "code",
   "execution_count": 52,
   "id": "76978264",
   "metadata": {},
   "outputs": [
    {
     "name": "stdout",
     "output_type": "stream",
     "text": [
      "Ram\n",
      "shyam\n"
     ]
    }
   ],
   "source": [
    "for i in a.values():\n",
    "    print(i)"
   ]
  },
  {
   "cell_type": "code",
   "execution_count": 55,
   "id": "07c129f5",
   "metadata": {},
   "outputs": [
    {
     "name": "stdout",
     "output_type": "stream",
     "text": [
      "name\n",
      "ram\n"
     ]
    }
   ],
   "source": [
    "for i in a:\n",
    "    print(i)"
   ]
  },
  {
   "cell_type": "code",
   "execution_count": 56,
   "id": "1d5d1e51",
   "metadata": {},
   "outputs": [
    {
     "name": "stdout",
     "output_type": "stream",
     "text": [
      "('name', 'Ram')\n",
      "('ram', 'shyam')\n"
     ]
    }
   ],
   "source": [
    "for i in a.items():\n",
    "    print(i)"
   ]
  },
  {
   "cell_type": "code",
   "execution_count": 57,
   "id": "2ea4e7c6",
   "metadata": {},
   "outputs": [
    {
     "data": {
      "text/plain": [
       "dict_keys(['name', 'ram'])"
      ]
     },
     "execution_count": 57,
     "metadata": {},
     "output_type": "execute_result"
    }
   ],
   "source": [
    "a.keys()"
   ]
  },
  {
   "cell_type": "code",
   "execution_count": 58,
   "id": "7ff3ae54",
   "metadata": {},
   "outputs": [
    {
     "data": {
      "text/plain": [
       "<function dict.items>"
      ]
     },
     "execution_count": 58,
     "metadata": {},
     "output_type": "execute_result"
    }
   ],
   "source": [
    "a.items"
   ]
  },
  {
   "cell_type": "code",
   "execution_count": 59,
   "id": "e503b208",
   "metadata": {},
   "outputs": [
    {
     "data": {
      "text/plain": [
       "dict_items([('name', 'Ram'), ('ram', 'shyam')])"
      ]
     },
     "execution_count": 59,
     "metadata": {},
     "output_type": "execute_result"
    }
   ],
   "source": [
    "a.items()"
   ]
  },
  {
   "cell_type": "code",
   "execution_count": 60,
   "id": "2888121d",
   "metadata": {},
   "outputs": [
    {
     "data": {
      "text/plain": [
       "dict_values(['Ram', 'shyam'])"
      ]
     },
     "execution_count": 60,
     "metadata": {},
     "output_type": "execute_result"
    }
   ],
   "source": [
    "a.values()"
   ]
  },
  {
   "cell_type": "code",
   "execution_count": 61,
   "id": "20a673ad",
   "metadata": {},
   "outputs": [
    {
     "data": {
      "text/plain": [
       "{'ram': '98778373737', 'hari': '99999889789'}"
      ]
     },
     "execution_count": 61,
     "metadata": {},
     "output_type": "execute_result"
    }
   ],
   "source": [
    "a={('ram'):'98778373737',(\"hari\"):\"99999889789\"}\n",
    "a"
   ]
  },
  {
   "cell_type": "code",
   "execution_count": 69,
   "id": "58dfc2ff",
   "metadata": {},
   "outputs": [
    {
     "name": "stdout",
     "output_type": "stream",
     "text": [
      "Enter the value of n1\n",
      "Enter the nameram\n",
      "Enter ncell number998899889\n",
      "Enter ntc number9988766788\n",
      "{'ram': '998899889 9988766788'}\n"
     ]
    }
   ],
   "source": [
    "d={}\n",
    "n=int(input(\"Enter the value of n\"))\n",
    "for i in range(n):\n",
    "    name=input(\"Enter the name\")\n",
    "    ncell=int(input(\"Enter ncell number\"))\n",
    "    ntc=int(input(\"Enter ntc number\"))\n",
    "    d[name]=f\"{ncell} {ntc}\"\n",
    "print(d)"
   ]
  },
  {
   "cell_type": "code",
   "execution_count": 70,
   "id": "0a969376",
   "metadata": {},
   "outputs": [
    {
     "name": "stdout",
     "output_type": "stream",
     "text": [
      "Enter name=ram\n",
      "['998899889', '9988766788']\n"
     ]
    }
   ],
   "source": [
    "name=input(\"Enter name=\")\n",
    "x=d[name]\n",
    "print(x.split())"
   ]
  },
  {
   "cell_type": "code",
   "execution_count": 73,
   "id": "21fb01af",
   "metadata": {},
   "outputs": [
    {
     "name": "stdout",
     "output_type": "stream",
     "text": [
      "Enter the value of n1\n",
      "Enter the nameram\n",
      "Enter ncell number9887\n",
      "Enter ntc number8877\n",
      "{'ram': [9887, 8877]}\n"
     ]
    }
   ],
   "source": [
    "d={}\n",
    "n=int(input(\"Enter the value of n\"))\n",
    "for i in range(n):\n",
    "    name=input(\"Enter the name\")\n",
    "    ncell=int(input(\"Enter ncell number\"))\n",
    "    ntc=int(input(\"Enter ntc number\"))\n",
    "    value=[ncell, ntc]\n",
    "    d[name]=value\n",
    "print(d)"
   ]
  },
  {
   "cell_type": "code",
   "execution_count": 77,
   "id": "75919b15",
   "metadata": {},
   "outputs": [
    {
     "data": {
      "text/plain": [
       "{'ram': [9887, 8877, 988736646]}"
      ]
     },
     "execution_count": 77,
     "metadata": {},
     "output_type": "execute_result"
    }
   ],
   "source": [
    "a={'ram': [9887, 8877]}\n",
    "a['ram'].append(988736646)\n",
    "a"
   ]
  },
  {
   "cell_type": "code",
   "execution_count": 79,
   "id": "f1958804",
   "metadata": {},
   "outputs": [
    {
     "data": {
      "text/plain": [
       "{'ram': [9887, 8877, 988736646], 'sita': [9333737, 388832828]}"
      ]
     },
     "execution_count": 79,
     "metadata": {},
     "output_type": "execute_result"
    }
   ],
   "source": [
    "a['sita']=[9333737, 388832828]\n",
    "a"
   ]
  },
  {
   "cell_type": "code",
   "execution_count": 83,
   "id": "acfd4a3e",
   "metadata": {},
   "outputs": [
    {
     "data": {
      "text/plain": [
       "{'ram': [9887, 8877, 988736646]}"
      ]
     },
     "execution_count": 83,
     "metadata": {},
     "output_type": "execute_result"
    }
   ],
   "source": [
    "a={'ram': [9887, 8877, 988736646], 'sita': [9333737, 388832828]}\n",
    "del a['sita']\n",
    "a"
   ]
  },
  {
   "cell_type": "code",
   "execution_count": 85,
   "id": "d92bb7b7",
   "metadata": {},
   "outputs": [
    {
     "name": "stdout",
     "output_type": "stream",
     "text": [
      "ram\n",
      "sita\n"
     ]
    }
   ],
   "source": [
    "a={'ram': [9887, 8877, 988736646], 'sita': [9333737, 388832828]}\n",
    "for i in a:\n",
    "    print(i)"
   ]
  },
  {
   "cell_type": "code",
   "execution_count": 86,
   "id": "20d3c0dc",
   "metadata": {},
   "outputs": [
    {
     "name": "stdout",
     "output_type": "stream",
     "text": [
      "[9887, 8877, 988736646]\n",
      "[9333737, 388832828]\n"
     ]
    }
   ],
   "source": [
    "for i in a.values():\n",
    "    print(i)"
   ]
  },
  {
   "cell_type": "code",
   "execution_count": 90,
   "id": "e93e922f",
   "metadata": {},
   "outputs": [
    {
     "name": "stdout",
     "output_type": "stream",
     "text": [
      "{'ram': [9887, 8877, 988736646], 'sita': <built-in method split of str object at 0x000001F045BD91C0>}\n"
     ]
    }
   ],
   "source": [
    "a={'ram': [9887, 8877, 988736646], 'sita': [9333737, 388832828]}\n",
    "a['sita']=x.split\n",
    "print(a)"
   ]
  },
  {
   "cell_type": "code",
   "execution_count": 91,
   "id": "a74da925",
   "metadata": {},
   "outputs": [
    {
     "name": "stdout",
     "output_type": "stream",
     "text": [
      "('ram', [9887, 8877, 988736646])\n",
      "('sita', [9333737, 388832828])\n",
      "('ram', [9887, 8877, 988736646])\n",
      "('sita', [9333737, 388832828])\n"
     ]
    }
   ],
   "source": [
    "a={'ram': [9887, 8877, 988736646], 'sita': [9333737, 388832828]}\n",
    "for i in a:\n",
    "    for j in a.items():\n",
    "        print(j)"
   ]
  },
  {
   "cell_type": "code",
   "execution_count": 94,
   "id": "183e947d",
   "metadata": {},
   "outputs": [
    {
     "name": "stdout",
     "output_type": "stream",
     "text": [
      "{'ram': 52658}\n"
     ]
    }
   ],
   "source": [
    "a = [{'ram': 52658}, {'Hari': 52658}, {'sflsfsam': 52658}]\n",
    "\n",
    "print(a[0])"
   ]
  },
  {
   "cell_type": "code",
   "execution_count": 95,
   "id": "77ad2b1a",
   "metadata": {},
   "outputs": [
    {
     "data": {
      "text/plain": [
       "[{'ram': 52658, 'Name': 'Ramprassad'}, {'Hari': 52658}, {'sflsfsam': 52658}]"
      ]
     },
     "execution_count": 95,
     "metadata": {},
     "output_type": "execute_result"
    }
   ],
   "source": [
    "a = [{'ram': 52658}, {'Hari': 52658}, {'sflsfsam': 52658}]\n",
    "a[0][\"Name\"]=\"Ramprassad\"\n",
    "a"
   ]
  },
  {
   "cell_type": "code",
   "execution_count": 96,
   "id": "c92eee3a",
   "metadata": {},
   "outputs": [
    {
     "data": {
      "text/plain": [
       "{1: {'ram': '25665 2356'}, 2: {'shyam': '235 653'}}"
      ]
     },
     "execution_count": 96,
     "metadata": {},
     "output_type": "execute_result"
    }
   ],
   "source": [
    "a = {1:{'ram': '25665 2356'}, \n",
    "     2: {'shyam': '235 653'}}\n",
    "\n",
    "a\n",
    "         "
   ]
  },
  {
   "cell_type": "code",
   "execution_count": 97,
   "id": "01ae6f28",
   "metadata": {},
   "outputs": [
    {
     "name": "stdout",
     "output_type": "stream",
     "text": [
      "Enter the value of n2\n",
      "Enter the nameram\n",
      "Enter the ncell number98773633\n",
      "Enter ntc number983736363\n",
      "Enter the namehari\n",
      "Enter the ncell number98377363\n",
      "Enter ntc number9877363637\n",
      "{1: {'Name': 'ram', 'ncell': '98773633', 'ntc': '983736363'}, 2: {'Name': 'hari', 'ncell': '98377363', 'ntc': '9877363637'}}\n"
     ]
    }
   ],
   "source": [
    "d={}\n",
    "n=int(input(\"Enter the value of n\"))\n",
    "for i in range(1,n+1):\n",
    "    nam=input(\"Enter the name\")\n",
    "    ncell=input(\"Enter the ncell number\")\n",
    "    ntc=input(\"Enter ntc number\")\n",
    "    key= i\n",
    "    value={\"Name\":nam,\"ncell\":ncell,\"ntc\":ntc}\n",
    "    d[key]=value\n",
    "print(d)"
   ]
  },
  {
   "cell_type": "code",
   "execution_count": 98,
   "id": "98f75f65",
   "metadata": {},
   "outputs": [
    {
     "name": "stdout",
     "output_type": "stream",
     "text": [
      "{'Name': 'ram', 'ncell': '98773633', 'ntc': '983736363'}\n",
      "{'Name': 'hari', 'ncell': '98377363', 'ntc': '9877363637'}\n"
     ]
    }
   ],
   "source": [
    "for i in d.values():\n",
    "    print(i)"
   ]
  },
  {
   "cell_type": "code",
   "execution_count": 101,
   "id": "674de126",
   "metadata": {},
   "outputs": [],
   "source": [
    "d[1][\"Name\"]=\"Balram\""
   ]
  },
  {
   "cell_type": "code",
   "execution_count": 102,
   "id": "2dcac230",
   "metadata": {},
   "outputs": [
    {
     "data": {
      "text/plain": [
       "{1: {'Name': 'Balram', 'ncell': '98773633', 'ntc': '983736363'},\n",
       " 2: {'Name': 'hari', 'ncell': '98377363', 'ntc': '9877363637'}}"
      ]
     },
     "execution_count": 102,
     "metadata": {},
     "output_type": "execute_result"
    }
   ],
   "source": [
    "d"
   ]
  },
  {
   "cell_type": "code",
   "execution_count": 105,
   "id": "f7913a23",
   "metadata": {},
   "outputs": [
    {
     "name": "stdout",
     "output_type": "stream",
     "text": [
      "(1, {'Name': 'Balram', 'ncell': '98773633', 'ntc': '983736363'})\n",
      "(2, {'Name': 'hari', 'ncell': '98377363', 'ntc': '9877363637'})\n",
      "(1, {'Name': 'Balram', 'ncell': '98773633', 'ntc': '983736363'})\n",
      "(2, {'Name': 'hari', 'ncell': '98377363', 'ntc': '9877363637'})\n"
     ]
    }
   ],
   "source": [
    "a={1: {'Name': 'Balram', 'ncell': '98773633', 'ntc': '983736363'},\n",
    " 2: {'Name': 'hari', 'ncell': '98377363', 'ntc': '9877363637'}}\n",
    "for i in a.values():\n",
    "    for j in a.items():\n",
    "        print(j)"
   ]
  },
  {
   "cell_type": "code",
   "execution_count": 108,
   "id": "5b9773ad",
   "metadata": {},
   "outputs": [
    {
     "name": "stdout",
     "output_type": "stream",
     "text": [
      "Enter the value of n2\n",
      "Enter nameApple\n",
      "Enter the value of quantity=2\n",
      "Enter nameApple\n",
      "Enter the value of quantity=3\n",
      "{1: {'name': 'Apple', 'price': 100, 'quantity': 2, 'total': 200}, 2: {'name': 'Apple', 'price': 100, 'quantity': 3, 'total': 300}}\n"
     ]
    }
   ],
   "source": [
    "d={}\n",
    "product={\"Apple\":100,\"Banana\":50}\n",
    "n = int(input(\"Enter the value of n\"))\n",
    "for i in range(1,n+1):\n",
    "    name=input(\"Enter name\")\n",
    "    price=product[name]\n",
    "    quantity=int(input(\"Enter the value of quantity=\"))\n",
    "    total=price*quantity\n",
    "    key=i\n",
    "    value={\"name\":name,\"price\":price,\"quantity\":quantity,\"total\":total}\n",
    "    d[key]=value\n",
    "print(d)"
   ]
  },
  {
   "cell_type": "code",
   "execution_count": 111,
   "id": "e541ab1b",
   "metadata": {},
   "outputs": [
    {
     "data": {
      "text/plain": [
       "{'ram': [998387373, 9889, 'www']}"
      ]
     },
     "execution_count": 111,
     "metadata": {},
     "output_type": "execute_result"
    }
   ],
   "source": [
    "a={\"ram\":[998387373,9889,\"www\"]}\n",
    "a"
   ]
  },
  {
   "cell_type": "code",
   "execution_count": 114,
   "id": "e6c798db",
   "metadata": {},
   "outputs": [
    {
     "name": "stdout",
     "output_type": "stream",
     "text": [
      "Ram\n",
      "98606201725\n",
      "9856895265\n",
      "Santosh\n",
      "985689568\n",
      "985658565\n"
     ]
    }
   ],
   "source": [
    "a = [{\"Name\":\"Ram\",\"Ntc\":98606201725,\"Ncell\":9856895265},\n",
    "     {\"Name\":\"Santosh\",\"Ntc\":985689568,\"Ncell\":985658565}]\n",
    "for i in a:\n",
    "    for j in i.values():\n",
    "        print(j)"
   ]
  },
  {
   "cell_type": "code",
   "execution_count": 115,
   "id": "3cc40f9b",
   "metadata": {},
   "outputs": [],
   "source": [
    "a=j"
   ]
  },
  {
   "cell_type": "code",
   "execution_count": 116,
   "id": "ce6bd0cb",
   "metadata": {},
   "outputs": [
    {
     "data": {
      "text/plain": [
       "985658565"
      ]
     },
     "execution_count": 116,
     "metadata": {},
     "output_type": "execute_result"
    }
   ],
   "source": [
    "a"
   ]
  },
  {
   "cell_type": "code",
   "execution_count": null,
   "id": "addef81d",
   "metadata": {},
   "outputs": [],
   "source": [
    "d = {}\n",
    "n = int(input(\"Enter n = \"))\n",
    "for i in range(1,n+1):\n",
    "    name = input(\"Enter name = \")\n",
    "    ntc = int(input(\"Enter ntc = \"))\n",
    "    ncell = int(input(\"Enter ncell = \"))\n",
    "    key = i\n",
    "    value = {\"Name\":name,\"ntc\":ntc,\"ncell\":ncell} \n",
    "    d[key] = value\n",
    "    \n",
    "print(d)"
   ]
  }
 ],
 "metadata": {
  "kernelspec": {
   "display_name": "Python 3",
   "language": "python",
   "name": "python3"
  },
  "language_info": {
   "codemirror_mode": {
    "name": "ipython",
    "version": 3
   },
   "file_extension": ".py",
   "mimetype": "text/x-python",
   "name": "python",
   "nbconvert_exporter": "python",
   "pygments_lexer": "ipython3",
   "version": "3.8.8"
  }
 },
 "nbformat": 4,
 "nbformat_minor": 5
}
