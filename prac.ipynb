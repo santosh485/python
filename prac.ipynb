{
 "cells": [
  {
   "cell_type": "code",
   "execution_count": 1,
   "id": "195a2773",
   "metadata": {},
   "outputs": [
    {
     "name": "stdout",
     "output_type": "stream",
     "text": [
      "Hello World\n"
     ]
    }
   ],
   "source": [
    "def hellow():\n",
    "    print(\"Hello World\")\n",
    "hellow()"
   ]
  },
  {
   "cell_type": "code",
   "execution_count": 6,
   "id": "e0bd5033",
   "metadata": {},
   "outputs": [
    {
     "name": "stdout",
     "output_type": "stream",
     "text": [
      "Enter the value of l=5\n",
      "Enter the value of b=5\n",
      "Area of circle is 25\n"
     ]
    }
   ],
   "source": [
    "def area():\n",
    "    l=int(input(\"Enter the value of l=\"))\n",
    "    b=int(input(\"Enter the value of b=\"))\n",
    "    a=l*b\n",
    "    print(\"Area of circle is\", a)\n",
    "area()"
   ]
  },
  {
   "cell_type": "code",
   "execution_count": 9,
   "id": "fb475925",
   "metadata": {},
   "outputs": [
    {
     "name": "stdout",
     "output_type": "stream",
     "text": [
      "Enter the value of l=4\n",
      "Enter the value of b=5\n",
      "20\n"
     ]
    }
   ],
   "source": [
    "l=int(input(\"Enter the value of l=\"))\n",
    "b=int(input(\"Enter the value of b=\"))\n",
    "def area():\n",
    "    global a\n",
    "    a=l*b\n",
    "    print(a)\n",
    "area()"
   ]
  },
  {
   "cell_type": "code",
   "execution_count": 13,
   "id": "85049680",
   "metadata": {},
   "outputs": [
    {
     "name": "stdout",
     "output_type": "stream",
     "text": [
      "Hello World\n"
     ]
    }
   ],
   "source": [
    "def hello(x, y):\n",
    "    print(x, y)\n",
    "hello(\"Hello\", \"World\")"
   ]
  },
  {
   "cell_type": "code",
   "execution_count": 14,
   "id": "b3f9a029",
   "metadata": {},
   "outputs": [
    {
     "name": "stdout",
     "output_type": "stream",
     "text": [
      "Enter l = 5\n",
      "Enter b = 4\n",
      "Enter b = 4\n",
      "20\n",
      "80\n"
     ]
    }
   ],
   "source": [
    "def area(x,y):\n",
    "    a=x*y\n",
    "    print(a)\n",
    "def volume(x,y,z):\n",
    "    v=x*y*z\n",
    "    print(v)\n",
    "l = int(input(\"Enter l = \"))\n",
    "b = int(input(\"Enter b = \"))\n",
    "h = int(input(\"Enter b = \"))\n",
    "area(l,b)\n",
    "volume(l,b,h)"
   ]
  },
  {
   "cell_type": "code",
   "execution_count": 16,
   "id": "05caf29b",
   "metadata": {},
   "outputs": [
    {
     "name": "stdout",
     "output_type": "stream",
     "text": [
      "C\n",
      "Python\n"
     ]
    }
   ],
   "source": [
    "def language(lan=\"Python\"):\n",
    "    print(lan)\n",
    "language(\"C\")\n",
    "language()"
   ]
  },
  {
   "cell_type": "code",
   "execution_count": 20,
   "id": "71ec6445",
   "metadata": {},
   "outputs": [],
   "source": [
    "def hello():\n",
    "    l=4\n",
    "    b=4\n",
    "    a=l*b\n",
    "    return a\n",
    "y= hello()"
   ]
  },
  {
   "cell_type": "code",
   "execution_count": 21,
   "id": "9fd50b5a",
   "metadata": {},
   "outputs": [
    {
     "name": "stdout",
     "output_type": "stream",
     "text": [
      "16\n"
     ]
    }
   ],
   "source": [
    "print(y)"
   ]
  },
  {
   "cell_type": "code",
   "execution_count": 25,
   "id": "9da57300",
   "metadata": {},
   "outputs": [
    {
     "name": "stdout",
     "output_type": "stream",
     "text": [
      "Area is  16\n",
      "Volume is  80\n"
     ]
    }
   ],
   "source": [
    "def hello():\n",
    "    l=4\n",
    "    b=4\n",
    "    a=l*b\n",
    "    h=5\n",
    "    v=a*h\n",
    "    return a, v\n",
    "area, volume = y= hello()\n",
    "print(\"Area is \", area)\n",
    "print(\"Volume is \", volume)"
   ]
  },
  {
   "cell_type": "code",
   "execution_count": 31,
   "id": "f9d28a8e",
   "metadata": {},
   "outputs": [
    {
     "name": "stdout",
     "output_type": "stream",
     "text": [
      "Enter l = 5\n",
      "Enter b = 5\n",
      "25\n"
     ]
    }
   ],
   "source": [
    "def area(x,y):\n",
    "    a = x*y\n",
    "    return a\n",
    "    \n",
    "l = int(input(\"Enter l = \"))\n",
    "b = int(input(\"Enter b = \"))\n",
    "print(area(l,b))"
   ]
  },
  {
   "cell_type": "code",
   "execution_count": 33,
   "id": "c5c3e41a",
   "metadata": {},
   "outputs": [
    {
     "name": "stdout",
     "output_type": "stream",
     "text": [
      "Hello world\n",
      "Enter more yy\n",
      "Hello world\n",
      "Enter more yy\n",
      "Hello world\n",
      "Enter more yy\n",
      "Hello world\n",
      "Enter more yy\n",
      "Hello world\n",
      "Enter more yk\n"
     ]
    }
   ],
   "source": [
    "def hello():\n",
    "    print(\"Hello world\")\n",
    "    x=input(\"Enter more y\")\n",
    "    if x==\"y\":\n",
    "        hello()\n",
    "    \n",
    "hello()"
   ]
  },
  {
   "cell_type": "code",
   "execution_count": 34,
   "id": "15fbc40c",
   "metadata": {},
   "outputs": [
    {
     "name": "stdout",
     "output_type": "stream",
     "text": [
      "Enter p =5\n",
      "Enter t =5\n",
      "Enter r =5\n",
      "1.25\n",
      "Enter x = 5\n"
     ]
    }
   ],
   "source": [
    "def cal():\n",
    "    p = float(input(\"Enter p =\"))\n",
    "    t = float(input(\"Enter t =\"))\n",
    "    r = float(input(\"Enter r =\"))\n",
    "    i = p*t*r/100\n",
    "    print(i)\n",
    "    x = input(\"Enter x = \")\n",
    "    if x ==\"y\":\n",
    "        cal()\n",
    "        \n",
    "cal()"
   ]
  },
  {
   "cell_type": "code",
   "execution_count": 42,
   "id": "b83c863e",
   "metadata": {},
   "outputs": [
    {
     "name": "stdout",
     "output_type": "stream",
     "text": [
      "Enter y y\n",
      "Enter l = 5\n",
      "Enter b = 5\n"
     ]
    },
    {
     "data": {
      "text/plain": [
       "25"
      ]
     },
     "execution_count": 42,
     "metadata": {},
     "output_type": "execute_result"
    }
   ],
   "source": [
    "def area(x,y):\n",
    "    a = x*y\n",
    "    return a\n",
    "    \n",
    "\n",
    "\n",
    "x=input(\"Enter y \")\n",
    "if x==\"y\":\n",
    "    l = int(input(\"Enter l = \"))\n",
    "    b = int(input(\"Enter b = \"))\n",
    "    area(l,b)\n",
    "area(l,b)\n",
    "    "
   ]
  },
  {
   "cell_type": "code",
   "execution_count": 39,
   "id": "0e991e31",
   "metadata": {},
   "outputs": [
    {
     "name": "stdout",
     "output_type": "stream",
     "text": [
      "Enter n = 2\n",
      "Enter p =5\n",
      "Enter t =5\n",
      "Enter r =5\n",
      "1.25\n",
      "Enter p =5\n",
      "Enter t =5\n",
      "Enter r =5\n",
      "1.25\n"
     ]
    }
   ],
   "source": [
    "def cal():\n",
    "    p = float(input(\"Enter p =\"))\n",
    "    t = float(input(\"Enter t =\"))\n",
    "    r = float(input(\"Enter r =\"))\n",
    "    i = p*t*r/100\n",
    "    print(i)\n",
    "   \n",
    "n = int(input(\"Enter n = \"))\n",
    "for i in range(n):\n",
    "    cal()\n",
    "    "
   ]
  },
  {
   "cell_type": "code",
   "execution_count": 40,
   "id": "5c54d082",
   "metadata": {},
   "outputs": [
    {
     "name": "stdout",
     "output_type": "stream",
     "text": [
      "Enter the value of n3\n",
      "Enter the value of p =5\n",
      "Ente the value of t=6\n",
      "Enter teh value of r=5\n",
      "1.5\n",
      "Enter the value of p =8\n",
      "Ente the value of t=45\n",
      "Enter teh value of r=45\n",
      "162.0\n",
      "Enter the value of p =658\n",
      "Ente the value of t=45\n",
      "Enter teh value of r=24\n",
      "7106.4\n",
      "Enter the value of p =58\n",
      "Ente the value of t=584\n",
      "Enter teh value of r=85\n",
      "28791.2\n"
     ]
    }
   ],
   "source": [
    "def cal():\n",
    "    p=int(input(\"Enter the value of p =\"))\n",
    "    t=int(input(\"Ente the value of t=\"))\n",
    "    r=int(input(\"Enter teh value of r=\"))\n",
    "    i=p*t*r/100\n",
    "    print(i)\n",
    "n=int(input(\"Enter the value of n\"))\n",
    "for i in range(n):\n",
    "    cal()\n",
    "cal()"
   ]
  },
  {
   "cell_type": "code",
   "execution_count": 43,
   "id": "fd4a66cb",
   "metadata": {},
   "outputs": [
    {
     "name": "stdout",
     "output_type": "stream",
     "text": [
      "Enter the value of n2\n",
      "Enter p =5\n",
      "Enter t =5\n",
      "Enter r =5\n",
      "1.25\n",
      "Enter p =4\n",
      "Enter t =5\n",
      "Enter r =4\n",
      "0.8\n"
     ]
    }
   ],
   "source": [
    "def cal(p,t,r):\n",
    "    i=p*t*r/100\n",
    "    print(i)\n",
    "n=int(input(\"Enter the value of n\"))\n",
    "for i in range(n):\n",
    "    p = float(input(\"Enter p =\"))\n",
    "    t = float(input(\"Enter t =\"))\n",
    "    r = float(input(\"Enter r =\"))\n",
    "    cal(p,t,r)"
   ]
  },
  {
   "cell_type": "code",
   "execution_count": 45,
   "id": "e1c7ef7f",
   "metadata": {},
   "outputs": [
    {
     "name": "stdout",
     "output_type": "stream",
     "text": [
      "Enter a = 5\n",
      "Enter b = 5\n",
      "Enter + - * / +\n",
      "10\n",
      "Enter y for mol cal =5\n"
     ]
    }
   ],
   "source": [
    "def cal():\n",
    "    a = int(input(\"Enter a = \"))\n",
    "    b = int(input(\"Enter b = \"))\n",
    "    o = input(\"Enter + - * / \")\n",
    "    if o==\"+\":\n",
    "        add=a+b\n",
    "        print(add)\n",
    "    elif o==\"-\":\n",
    "        sub=a-b\n",
    "        print(sub)\n",
    "    else:\n",
    "        print(\"Invalid operation\")\n",
    "    x = input(\"Enter y for mol cal =\")\n",
    "    if x=='y':\n",
    "        cal()\n",
    "cal()"
   ]
  },
  {
   "cell_type": "code",
   "execution_count": 46,
   "id": "fa9906e5",
   "metadata": {},
   "outputs": [
    {
     "name": "stdout",
     "output_type": "stream",
     "text": [
      "Enter n = 5\n",
      "Enter name = ram\n",
      "Enter age = 87\n",
      "Enter name = hari\n",
      "Enter age = 7\n",
      "Enter name = 4\n",
      "Enter age = 5\n",
      "Enter name = 4\n",
      "Enter age = 4\n",
      "Enter name = 4\n",
      "Enter age = 4\n",
      "ram87\n",
      "hari7\n",
      "45\n",
      "44\n",
      "44\n",
      " 107\n"
     ]
    }
   ],
   "source": [
    "s =\"\"\n",
    "total = 0\n",
    "def bill(name,price):\n",
    "    global s,total\n",
    "    s = s+name+str(price)+\"\\n\"\n",
    "    total = total+price\n",
    "\n",
    "n = int(input(\"Enter n = \"))\n",
    "for i in range(n):\n",
    "    name = input(\"Enter name = \")\n",
    "    price = int(input(\"Enter age = \"))\n",
    "    bill(name,price)\n",
    "\n",
    "print(s,total)"
   ]
  },
  {
   "cell_type": "code",
   "execution_count": 48,
   "id": "7ce7661f",
   "metadata": {},
   "outputs": [
    {
     "name": "stdout",
     "output_type": "stream",
     "text": [
      "Hello World\n"
     ]
    }
   ],
   "source": [
    "class Hello():\n",
    "    print(\"Hello World\")\n",
    "obj=Hello()"
   ]
  },
  {
   "cell_type": "code",
   "execution_count": 52,
   "id": "0688cb16",
   "metadata": {},
   "outputs": [
    {
     "name": "stdout",
     "output_type": "stream",
     "text": [
      "28\n"
     ]
    }
   ],
   "source": [
    "class Cal():\n",
    "    l=4\n",
    "    b=7\n",
    "    a=l*b\n",
    "    print(a)\n",
    "obj=Cal()"
   ]
  },
  {
   "cell_type": "code",
   "execution_count": 53,
   "id": "538fd61a",
   "metadata": {},
   "outputs": [
    {
     "data": {
      "text/plain": [
       "int"
      ]
     },
     "execution_count": 53,
     "metadata": {},
     "output_type": "execute_result"
    }
   ],
   "source": [
    "type(a)"
   ]
  },
  {
   "cell_type": "code",
   "execution_count": 54,
   "id": "49b4188e",
   "metadata": {},
   "outputs": [
    {
     "data": {
      "text/plain": [
       "__main__.Cal"
      ]
     },
     "execution_count": 54,
     "metadata": {},
     "output_type": "execute_result"
    }
   ],
   "source": [
    "type(Cal())"
   ]
  },
  {
   "cell_type": "code",
   "execution_count": 55,
   "id": "99adf27c",
   "metadata": {},
   "outputs": [
    {
     "data": {
      "text/plain": [
       "28"
      ]
     },
     "execution_count": 55,
     "metadata": {},
     "output_type": "execute_result"
    }
   ],
   "source": [
    "obj.a"
   ]
  },
  {
   "cell_type": "code",
   "execution_count": 56,
   "id": "175e32e6",
   "metadata": {},
   "outputs": [
    {
     "data": {
      "text/plain": [
       "int"
      ]
     },
     "execution_count": 56,
     "metadata": {},
     "output_type": "execute_result"
    }
   ],
   "source": [
    "type(a)"
   ]
  },
  {
   "cell_type": "code",
   "execution_count": 60,
   "id": "fa1e340a",
   "metadata": {},
   "outputs": [
    {
     "name": "stdout",
     "output_type": "stream",
     "text": [
      "9\n"
     ]
    }
   ],
   "source": [
    "class Cal():\n",
    "    def area(self):\n",
    "        l=3\n",
    "        b=3\n",
    "        a=l*b\n",
    "        print(a)\n",
    "obj=Cal()\n",
    "obj.area()"
   ]
  },
  {
   "cell_type": "code",
   "execution_count": 72,
   "id": "f99c6233",
   "metadata": {},
   "outputs": [
    {
     "name": "stdout",
     "output_type": "stream",
     "text": [
      "144\n",
      "None\n"
     ]
    }
   ],
   "source": [
    "class Cal():\n",
    "    def Volume(self, l, b, h):\n",
    "        v=l*b*h\n",
    "        print(v)\n",
    "l=6\n",
    "b=6\n",
    "h=4\n",
    "obj=Cal()\n",
    "print(obj.Volume(l,b,h))"
   ]
  },
  {
   "cell_type": "code",
   "execution_count": 83,
   "id": "f963d068",
   "metadata": {},
   "outputs": [
    {
     "name": "stdout",
     "output_type": "stream",
     "text": [
      "42\n",
      "21\n"
     ]
    }
   ],
   "source": [
    "class Cal:\n",
    "    def Volume(self, l, b, h):\n",
    "        v=l*b*h\n",
    "        print(v)\n",
    "    def area(self, l, b):\n",
    "        a=l*b\n",
    "        print(a)\n",
    "l=7\n",
    "b=3\n",
    "h=2\n",
    "obj=Cal()\n",
    "obj.Volume(l, b, h)\n",
    "obj.area(l, b)"
   ]
  },
  {
   "cell_type": "code",
   "execution_count": 86,
   "id": "4f36e714",
   "metadata": {},
   "outputs": [
    {
     "name": "stdout",
     "output_type": "stream",
     "text": [
      "Enter l = 4\n",
      "Enter l = 5\n",
      "Enter l = 6\n",
      "120\n",
      "20\n"
     ]
    }
   ],
   "source": [
    "class Cal:\n",
    "    def __init__(self, l, b, h):\n",
    "        self.l=l\n",
    "        \n",
    "        self.b=b\n",
    "        self.h=h\n",
    "    def Volume(self):\n",
    "        v=self.l*self.b*self.h\n",
    "        print(v)\n",
    "    def Area(self):\n",
    "        a=self.l*self.b\n",
    "        print(a)\n",
    "l = int(input(\"Enter l = \"))\n",
    "b = int(input(\"Enter l = \"))\n",
    "h = int(input(\"Enter l = \"))\n",
    "obj=Cal(l,b,h)\n",
    "obj1=Cal(5,4,6)\n",
    "obj.Volume()\n",
    "obj.Area()"
   ]
  },
  {
   "cell_type": "code",
   "execution_count": 90,
   "id": "6805bef7",
   "metadata": {},
   "outputs": [
    {
     "name": "stdout",
     "output_type": "stream",
     "text": [
      "48\n",
      "8\n"
     ]
    }
   ],
   "source": [
    "class Cal:\n",
    "    def __init__(self, l, b):\n",
    "        self.l=l\n",
    "        self.b=b\n",
    "    def volume(self, l):\n",
    "        self.h=h\n",
    "        v=self.l*self.b*self.h\n",
    "        print(v)\n",
    "    def area(self):\n",
    "        a=self.l*self.b\n",
    "        print(a)\n",
    "obj=Cal(4,2)\n",
    "obj.volume(4)\n",
    "obj.area()"
   ]
  },
  {
   "cell_type": "code",
   "execution_count": 93,
   "id": "18523f0e",
   "metadata": {},
   "outputs": [],
   "source": [
    "class Cal:\n",
    "    def __init__(self, l, b, h):\n",
    "        self.l=l\n",
    "        self.b=b\n",
    "        self.h=h\n",
    "    def volume(self):\n",
    "        v=self.l*self.b*self.h\n",
    "        return v\n",
    "    def area(self):\n",
    "        a=self.l*self.b*self.h\n",
    "        return a\n",
    "l=4\n",
    "b=2\n",
    "h=6\n",
    "obj=Cal(l,b,h)\n",
    "x=obj.volume()\n",
    "y=obj.area()"
   ]
  },
  {
   "cell_type": "code",
   "execution_count": 94,
   "id": "fe0a5868",
   "metadata": {},
   "outputs": [
    {
     "name": "stdout",
     "output_type": "stream",
     "text": [
      "48\n"
     ]
    }
   ],
   "source": [
    "print(x)\n"
   ]
  },
  {
   "cell_type": "code",
   "execution_count": 95,
   "id": "982a9f2b",
   "metadata": {},
   "outputs": [
    {
     "name": "stdout",
     "output_type": "stream",
     "text": [
      "Area is  48\n"
     ]
    }
   ],
   "source": [
    "print(\"Area is \", y)"
   ]
  },
  {
   "cell_type": "code",
   "execution_count": 97,
   "id": "64ddf65f",
   "metadata": {},
   "outputs": [
    {
     "name": "stdout",
     "output_type": "stream",
     "text": [
      "Enter l = 5\n",
      "Enter l = 5\n",
      "Enter l = 8\n",
      "4\n"
     ]
    }
   ],
   "source": [
    "class Cal:\n",
    "    def __init__(self, l, b, h):\n",
    "        self.l=l\n",
    "        self.b=b\n",
    "        self.h=h\n",
    "    def __str__(self):\n",
    "        return str(self.l)\n",
    "    l = int(input(\"Enter l = \"))\n",
    "b = int(input(\"Enter l = \"))\n",
    "h = int(input(\"Enter l = \"))    \n",
    "obj = Cal(l,b,h)\n"
   ]
  },
  {
   "cell_type": "code",
   "execution_count": 98,
   "id": "4dd255b5",
   "metadata": {},
   "outputs": [
    {
     "name": "stdout",
     "output_type": "stream",
     "text": [
      "Enter l = 5\n",
      "Enter l = 4\n",
      "Enter l = 5\n",
      "100\n",
      "<class '__main__.Cal'>\n"
     ]
    }
   ],
   "source": [
    "class Cal:\n",
    "    def __init__(self,l,b,h):  \n",
    "        self.l = l  \n",
    "        self.b = b\n",
    "        self.h = h\n",
    "    def __str__(self): #str method should be string\n",
    "        v = self.l*self.b*self.h\n",
    "        return str(v)\n",
    "    \n",
    "l = int(input(\"Enter l = \"))\n",
    "b = int(input(\"Enter l = \"))\n",
    "h = int(input(\"Enter l = \"))    \n",
    "obj = Cal(l,b,h)\n",
    "print(obj)\n",
    "print(type(obj))"
   ]
  },
  {
   "cell_type": "code",
   "execution_count": 102,
   "id": "7580149b",
   "metadata": {},
   "outputs": [
    {
     "name": "stdout",
     "output_type": "stream",
     "text": [
      "Enter l = 5\n",
      "Enter l = 6\n",
      "Enter l = 64\n",
      "1920\n"
     ]
    }
   ],
   "source": [
    "class Cal:\n",
    "    def __init__(self, l, b, h):\n",
    "        self.l=l\n",
    "        self.b=b\n",
    "        self.h=h\n",
    "    def __str__(self):\n",
    "        v=self.l*self.b*self.h\n",
    "        return str(v)\n",
    "l = int(input(\"Enter l = \"))\n",
    "b = int(input(\"Enter l = \"))\n",
    "h = int(input(\"Enter l = \"))    \n",
    "obj = Cal(l,b,h)\n",
    "print(obj)"
   ]
  },
  {
   "cell_type": "code",
   "execution_count": 105,
   "id": "0dd898c3",
   "metadata": {},
   "outputs": [
    {
     "name": "stdout",
     "output_type": "stream",
     "text": [
      "Enter l = 4\n",
      "Enter l = 5\n",
      "Enter l = 7\n",
      "140object\n",
      "<class '__main__.Cal'>\n"
     ]
    }
   ],
   "source": [
    "class Cal:\n",
    "    def __init__(self,l,b,h):  \n",
    "        self.l = l  \n",
    "        self.b = b\n",
    "        self.h = h\n",
    "    def __repr__(self): #str method should be string\n",
    "        v = self.l*self.b*self.h\n",
    "        return str(v)\n",
    "    \n",
    "l = int(input(\"Enter l = \"))\n",
    "b = int(input(\"Enter l = \"))\n",
    "h = int(input(\"Enter l = \"))    \n",
    "obj = Cal(l,b,h)\n",
    "print(str(obj)+\"object\")\n",
    "print(type(obj))"
   ]
  },
  {
   "cell_type": "code",
   "execution_count": 106,
   "id": "31d95bf6",
   "metadata": {},
   "outputs": [
    {
     "name": "stdout",
     "output_type": "stream",
     "text": [
      "Enter l = 5\n",
      "Enter l = 2\n",
      "Enter l = 4\n",
      "{'Volume': 40}\n",
      "<class 'dict'>\n"
     ]
    }
   ],
   "source": [
    "class Cal:\n",
    "    def __init__(self,l,b,h):  \n",
    "        self.l = l  \n",
    "        self.b = b\n",
    "        self.h = h\n",
    "    def __repr__(self): #for tabular \n",
    "        v = self.l*self.b*self.h\n",
    "        vo = {\"Volume\":v}\n",
    "        return vo\n",
    "    \n",
    "l = int(input(\"Enter l = \"))\n",
    "b = int(input(\"Enter l = \"))\n",
    "h = int(input(\"Enter l = \"))    \n",
    "obj = Cal(l,b,h)\n",
    "print(obj.__repr__()) #should be called\n",
    "print(type(obj.__repr__()))"
   ]
  },
  {
   "cell_type": "code",
   "execution_count": 107,
   "id": "47c8c98a",
   "metadata": {},
   "outputs": [
    {
     "name": "stdout",
     "output_type": "stream",
     "text": [
      "Enter l = 5\n",
      "Enter l = 4\n",
      "Enter l = 4\n",
      "{'Volume': 80}\n",
      "<class 'dict'>\n"
     ]
    }
   ],
   "source": [
    "class Cal:\n",
    "    def __init__(self, l, b, h):\n",
    "        self.l=l\n",
    "        self.b=b\n",
    "        self.h=h\n",
    "    def __repr__(self):\n",
    "        v=self.l*self.b*self.h\n",
    "        vo={\"Volume\": v}\n",
    "        return vo\n",
    "l = int(input(\"Enter l = \"))\n",
    "b = int(input(\"Enter l = \"))\n",
    "h = int(input(\"Enter l = \")) \n",
    "obj=Cal(l, b, h)\n",
    "print(obj.__repr__())\n",
    "print(type(obj.__repr__()))"
   ]
  },
  {
   "cell_type": "code",
   "execution_count": 109,
   "id": "70c56654",
   "metadata": {},
   "outputs": [
    {
     "name": "stdout",
     "output_type": "stream",
     "text": [
      "(7, 7)\n"
     ]
    }
   ],
   "source": [
    "class Point:\n",
    "    def __init__(self, x=0, y=0):\n",
    "        self.x = x\n",
    "        self.y = y\n",
    "    def __str__(self):\n",
    "        return \"({0}, {1})\".format(self.x, self.y)\n",
    "    def __add__(self, other):\n",
    "        x=self.x+other.y\n",
    "        y=self.x+other.y\n",
    "        return Point(x,y)\n",
    "p1=Point(2,3)\n",
    "p2=Point(3,5)\n",
    "print(p1+p2)"
   ]
  },
  {
   "cell_type": "code",
   "execution_count": 110,
   "id": "2e79a7f3",
   "metadata": {},
   "outputs": [
    {
     "name": "stdout",
     "output_type": "stream",
     "text": [
      "This is init function 1000\n",
      "This is init function 2000\n",
      "This is init function 3455\n",
      "This is add method 3000\n",
      "This is init function 3000\n",
      "This is add method 6455\n",
      "This is init function 6455\n",
      "This is str method 6455\n",
      "6455\n"
     ]
    }
   ],
   "source": [
    "class Point:\n",
    "    def __init__(self,x = 0):\n",
    "        self.x = x\n",
    "        print(\"This is init function\",self.x)\n",
    "    def __str__(self):\n",
    "        print(\"This is str method\",self.x)\n",
    "        return f\"{self.x}\"\n",
    "    def __add__(self,other):\n",
    "        x = self.x+other.x\n",
    "        print(\"This is add method\",x)\n",
    "    \n",
    "        return Point(x)\n",
    "p1 = Point(1000)\n",
    "p2 = Point(2000)\n",
    "p3 = Point(3455)\n",
    "print(p1+p2+p3)"
   ]
  },
  {
   "cell_type": "code",
   "execution_count": 112,
   "id": "9f21c265",
   "metadata": {},
   "outputs": [
    {
     "name": "stdout",
     "output_type": "stream",
     "text": [
      "This is init function  1000\n",
      "This is init function  2000\n",
      "This is init function  3455\n"
     ]
    },
    {
     "ename": "TypeError",
     "evalue": "__add__() takes 1 positional argument but 2 were given",
     "output_type": "error",
     "traceback": [
      "\u001b[1;31m---------------------------------------------------------------------------\u001b[0m",
      "\u001b[1;31mTypeError\u001b[0m                                 Traceback (most recent call last)",
      "\u001b[1;32m<ipython-input-112-8b9a6b57b656>\u001b[0m in \u001b[0;36m<module>\u001b[1;34m\u001b[0m\n\u001b[0;32m     12\u001b[0m \u001b[0mp2\u001b[0m \u001b[1;33m=\u001b[0m \u001b[0mPoint\u001b[0m\u001b[1;33m(\u001b[0m\u001b[1;36m2000\u001b[0m\u001b[1;33m)\u001b[0m\u001b[1;33m\u001b[0m\u001b[1;33m\u001b[0m\u001b[0m\n\u001b[0;32m     13\u001b[0m \u001b[0mp3\u001b[0m \u001b[1;33m=\u001b[0m \u001b[0mPoint\u001b[0m\u001b[1;33m(\u001b[0m\u001b[1;36m3455\u001b[0m\u001b[1;33m)\u001b[0m\u001b[1;33m\u001b[0m\u001b[1;33m\u001b[0m\u001b[0m\n\u001b[1;32m---> 14\u001b[1;33m \u001b[0mprint\u001b[0m\u001b[1;33m(\u001b[0m\u001b[0mp1\u001b[0m\u001b[1;33m+\u001b[0m\u001b[0mp2\u001b[0m\u001b[1;33m+\u001b[0m\u001b[0mp3\u001b[0m\u001b[1;33m)\u001b[0m\u001b[1;33m\u001b[0m\u001b[1;33m\u001b[0m\u001b[0m\n\u001b[0m",
      "\u001b[1;31mTypeError\u001b[0m: __add__() takes 1 positional argument but 2 were given"
     ]
    }
   ],
   "source": [
    "class Point:\n",
    "    def __init__(self, x=0):\n",
    "        self.x=x\n",
    "        print(\"This is init function \",self.x)\n",
    "    def __str__(self):\n",
    "        print(\"The is str method\",self.x)\n",
    "    def __add__(other):\n",
    "        x=self.x+other.x\n",
    "        print(\"This is add method\", x)\n",
    "        return Point(x)\n",
    "p1 = Point(1000)\n",
    "p2 = Point(2000)\n",
    "p3 = Point(3455)\n",
    "print(p1+p2+p3)"
   ]
  },
  {
   "cell_type": "code",
   "execution_count": 113,
   "id": "f920b347",
   "metadata": {},
   "outputs": [
    {
     "name": "stdout",
     "output_type": "stream",
     "text": [
      "Parrot can fly\n",
      "Penguin can't fly\n"
     ]
    }
   ],
   "source": [
    "class Parrot:\n",
    "    def fly(self): #polymerphism\n",
    "        print(\"Parrot can fly\")\n",
    "    def swim(self):\n",
    "        print(\"Parrot can't swim\")\n",
    "        \n",
    "class Penguin:\n",
    "    def fly(self):\n",
    "        print(\"Penguin can't fly\")\n",
    "    def swim(self):\n",
    "        print(\"Penguin can swim\")\n",
    "        \n",
    "#common interface\n",
    "def flying_test(bird):\n",
    "    bird.fly()\n",
    "#instantiate objects\n",
    "blu = Parrot()\n",
    "peggy = Penguin()\n",
    "#passing the object\n",
    "flying_test(blu)\n",
    "flying_test(peggy)"
   ]
  },
  {
   "cell_type": "code",
   "execution_count": 114,
   "id": "6f4dcccf",
   "metadata": {},
   "outputs": [
    {
     "name": "stdout",
     "output_type": "stream",
     "text": [
      "Parrot can fly\n",
      "Penguin can't fly\n"
     ]
    }
   ],
   "source": [
    "class Parrot:\n",
    "    def fly(self):\n",
    "        print(\"Parrot can fly\")\n",
    "    def swim(self):\n",
    "        print(\"Parrot can't swim\")\n",
    "class Penguin:\n",
    "    def fly(self):\n",
    "        print(\"Penguin can't fly\")\n",
    "    def swim(self):\n",
    "        print(\"Penguin can swim\")\n",
    "def flying_test(bird):\n",
    "    bird.fly()\n",
    "blu=Parrot()\n",
    "peggy=Penguin()\n",
    "flying_test(blu)\n",
    "flying_test(peggy)"
   ]
  },
  {
   "cell_type": "code",
   "execution_count": null,
   "id": "d0995776",
   "metadata": {},
   "outputs": [],
   "source": []
  }
 ],
 "metadata": {
  "kernelspec": {
   "display_name": "Python 3",
   "language": "python",
   "name": "python3"
  },
  "language_info": {
   "codemirror_mode": {
    "name": "ipython",
    "version": 3
   },
   "file_extension": ".py",
   "mimetype": "text/x-python",
   "name": "python",
   "nbconvert_exporter": "python",
   "pygments_lexer": "ipython3",
   "version": "3.8.8"
  }
 },
 "nbformat": 4,
 "nbformat_minor": 5
}
