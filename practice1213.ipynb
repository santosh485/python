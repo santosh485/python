{
 "cells": [
  {
   "cell_type": "code",
   "execution_count": null,
   "id": "9727e9ae",
   "metadata": {},
   "outputs": [],
   "source": [
    "a=1\n",
    "b=input(\"Entee your name\")\n",
    "c=int(input(\"Enter your roll no.\"))\n",
    "d=input(\"Enter your address\")\n",
    "print(a,b,c)"
   ]
  },
  {
   "cell_type": "code",
   "execution_count": null,
   "id": "f20f2b20",
   "metadata": {},
   "outputs": [],
   "source": [
    "a = 10\n",
    "print(a)"
   ]
  },
  {
   "cell_type": "code",
   "execution_count": null,
   "id": "1e49583a",
   "metadata": {},
   "outputs": [],
   "source": []
  }
 ],
 "metadata": {
  "kernelspec": {
   "display_name": "Python 3",
   "language": "python",
   "name": "python3"
  }
 },
 "nbformat": 4,
 "nbformat_minor": 5
}
