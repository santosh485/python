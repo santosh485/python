{
 "cells": [
  {
   "cell_type": "code",
   "execution_count": 1,
   "id": "f65d7d2a",
   "metadata": {},
   "outputs": [],
   "source": [
    "b = open(\"data.txt\",\"r\")\n",
    "b.close()"
   ]
  },
  {
   "cell_type": "code",
   "execution_count": 4,
   "id": "41506686",
   "metadata": {},
   "outputs": [
    {
     "name": "stdout",
     "output_type": "stream",
     "text": [
      "1. Hello World\n",
      "2. Hello World\n",
      "3. Hello World\n",
      "4. Hello World\n",
      "1. Hello World\n",
      "2. Hello World\n",
      "3. Hello World\n",
      "4. Hello World\n"
     ]
    }
   ],
   "source": [
    "b = open(\"ram.txt\",\"r\")\n",
    "c = b.read()\n",
    "print(c)\n",
    "b.close()"
   ]
  },
  {
   "cell_type": "code",
   "execution_count": 17,
   "id": "0b8147e7",
   "metadata": {},
   "outputs": [
    {
     "name": "stdout",
     "output_type": "stream",
     "text": [
      "HETATM    7  C1  UNK   90\n"
     ]
    }
   ],
   "source": [
    "b = open(\"Tel.pdb\",\"r\")\n",
    "c = b.readline(25)\n",
    "print(c)\n",
    "b.close()"
   ]
  },
  {
   "cell_type": "code",
   "execution_count": 15,
   "id": "5af6a8d2",
   "metadata": {},
   "outputs": [
    {
     "name": "stdout",
     "output_type": "stream",
     "text": [
      "Enter n = 10\n",
      "<built-in method readline of _io.TextIOWrapper object at 0x000002D324E92AD0>\n"
     ]
    }
   ],
   "source": [
    "b = open(\"Tel.pdb\",\"r\")\n",
    "n = int(input(\"Enter n = \"))\n",
    "for i in range(1,n+1):\n",
    "    if i != n:\n",
    "        b.readline()\n",
    "    else: \n",
    "        c = b.readline\n",
    "        print(c)\n",
    "b.close()\n"
   ]
  },
  {
   "cell_type": "code",
   "execution_count": 18,
   "id": "2e99528d",
   "metadata": {},
   "outputs": [
    {
     "name": "stdout",
     "output_type": "stream",
     "text": [
      "<built-in method split of str object at 0x000002D3247B64F0>\n"
     ]
    }
   ],
   "source": [
    "b = open(\"Tel.pdb\",\"r\")\n",
    "c = b.read()\n",
    "d = c.split\n",
    "print(d)\n",
    "b.close()"
   ]
  },
  {
   "cell_type": "code",
   "execution_count": 19,
   "id": "e26c5300",
   "metadata": {},
   "outputs": [
    {
     "name": "stdout",
     "output_type": "stream",
     "text": [
      "Enter n = 3\n",
      "Enter name = ram\n",
      "Enter price = 65\n",
      "Enter qty = 65\n",
      "Enter name = Hari\n",
      "Enter price = 68\n",
      "Enter qty = 57\n",
      "Enter name = Shyam\n",
      "Enter price = 65\n",
      "Enter qty = 85\n",
      "The bill is\n",
      " ram 65 65 4225\n",
      "Hari 68 57 3876\n",
      "Shyam 65 85 5525\n",
      "\n",
      "The totak is =  5525\n"
     ]
    }
   ],
   "source": [
    "s =\"\"\n",
    "net_total = 0\n",
    "# s = str()\n",
    "n = int(input(\"Enter n = \"))\n",
    "b = open(\"bill.txt\",\"w\")\n",
    "for i in range(n):\n",
    "    name = input(\"Enter name = \")\n",
    "    price = int(input(\"Enter price = \"))\n",
    "    quantity = int(input(\"Enter qty = \"))\n",
    "    total = quantity *price\n",
    "    s = s+f\"{name} {price} {quantity} {total}\\n\"\n",
    "    net_total = net_total+price\n",
    "    \n",
    "print(\"The bill is\\n\",s)\n",
    "print(\"The totak is = \",total)\n",
    "b.write(s)\n",
    "b.close()"
   ]
  },
  {
   "cell_type": "code",
   "execution_count": 20,
   "id": "b0b0a649",
   "metadata": {},
   "outputs": [],
   "source": [
    "import os\n",
    "os.remove(\"bill.txt\")"
   ]
  },
  {
   "cell_type": "code",
   "execution_count": 21,
   "id": "ba75c2c8",
   "metadata": {},
   "outputs": [
    {
     "name": "stdout",
     "output_type": "stream",
     "text": [
      "Enter n = 2\n",
      "Enter name = Ram\n",
      "Enter price = 25\n",
      "Enter qty = 35\n",
      "Enter name = Hari\n",
      "Enter price = 65\n",
      "Enter qty = 63\n",
      "The bill is\n",
      " Ram 25 35 875\n",
      "Hari 65 63 4095\n",
      "\n",
      "The totak is =  4095\n"
     ]
    }
   ],
   "source": [
    "s =\"\"\n",
    "net_total = 0\n",
    "# s = str()\n",
    "n = int(input(\"Enter n = \"))\n",
    "b = open(\"bill.txt\",\"w\")\n",
    "for i in range(n):\n",
    "    name = input(\"Enter name = \")\n",
    "    price = int(input(\"Enter price = \"))\n",
    "    quantity = int(input(\"Enter qty = \"))\n",
    "    total = quantity *price\n",
    "    s = s+f\"{name} {price} {quantity} {total}\\n\"\n",
    "    net_total = net_total+price\n",
    "    \n",
    "print(\"The bill is\\n\",s)\n",
    "print(\"The totak is = \",total)\n",
    "b.write(s)\n",
    "b.close()"
   ]
  },
  {
   "cell_type": "code",
   "execution_count": 22,
   "id": "c4c95b41",
   "metadata": {},
   "outputs": [
    {
     "data": {
      "text/plain": [
       "'Santosh\\\\bill.txt'"
      ]
     },
     "execution_count": 22,
     "metadata": {},
     "output_type": "execute_result"
    }
   ],
   "source": [
    "import shutil\n",
    "src = 'bill.txt'\n",
    "dst = 'Santosh'\n",
    "shutil.copy(src,dst)"
   ]
  },
  {
   "cell_type": "code",
   "execution_count": 1,
   "id": "76eaf9c1",
   "metadata": {},
   "outputs": [
    {
     "ename": "FileExistsError",
     "evalue": "[Errno 17] File exists: 'data.csv'",
     "output_type": "error",
     "traceback": [
      "\u001b[1;31m---------------------------------------------------------------------------\u001b[0m",
      "\u001b[1;31mFileExistsError\u001b[0m                           Traceback (most recent call last)",
      "\u001b[1;32m<ipython-input-1-5063722b8ccb>\u001b[0m in \u001b[0;36m<module>\u001b[1;34m\u001b[0m\n\u001b[1;32m----> 1\u001b[1;33m \u001b[0mb\u001b[0m \u001b[1;33m=\u001b[0m \u001b[0mopen\u001b[0m\u001b[1;33m(\u001b[0m\u001b[1;34m\"data.csv\"\u001b[0m\u001b[1;33m,\u001b[0m\u001b[1;34m\"x\"\u001b[0m\u001b[1;33m)\u001b[0m\u001b[1;33m\u001b[0m\u001b[1;33m\u001b[0m\u001b[0m\n\u001b[0m\u001b[0;32m      2\u001b[0m \u001b[0mb\u001b[0m\u001b[1;33m.\u001b[0m\u001b[0mclose\u001b[0m\u001b[1;33m(\u001b[0m\u001b[1;33m)\u001b[0m\u001b[1;33m\u001b[0m\u001b[1;33m\u001b[0m\u001b[0m\n",
      "\u001b[1;31mFileExistsError\u001b[0m: [Errno 17] File exists: 'data.csv'"
     ]
    }
   ],
   "source": [
    "b = open(\"data.csv\",\"x\")\n",
    "b.close()\n"
   ]
  },
  {
   "cell_type": "code",
   "execution_count": 3,
   "id": "4c9ebfe7",
   "metadata": {},
   "outputs": [
    {
     "name": "stdout",
     "output_type": "stream",
     "text": [
      "SN,Name,Age,Address\n",
      "1,Ram,23,Kathmandu\n",
      "2,Shyam,45,Bara\n",
      "3,Nabin,54,Pokhara\n",
      "4,Santosh,45,Slolu\n",
      "5,Aayush,64,KTM\n",
      "6,Hari,43,Jhapa\n"
     ]
    }
   ],
   "source": [
    "b = open(\"data.csv\",\"r\")\n",
    "print(b.read())\n",
    "b.close()"
   ]
  },
  {
   "cell_type": "code",
   "execution_count": 3,
   "id": "24746e14",
   "metadata": {},
   "outputs": [
    {
     "data": {
      "text/html": [
       "<div>\n",
       "<style scoped>\n",
       "    .dataframe tbody tr th:only-of-type {\n",
       "        vertical-align: middle;\n",
       "    }\n",
       "\n",
       "    .dataframe tbody tr th {\n",
       "        vertical-align: top;\n",
       "    }\n",
       "\n",
       "    .dataframe thead th {\n",
       "        text-align: right;\n",
       "    }\n",
       "</style>\n",
       "<table border=\"1\" class=\"dataframe\">\n",
       "  <thead>\n",
       "    <tr style=\"text-align: right;\">\n",
       "      <th></th>\n",
       "      <th>SN</th>\n",
       "      <th>Name</th>\n",
       "      <th>Age</th>\n",
       "      <th>Address</th>\n",
       "    </tr>\n",
       "  </thead>\n",
       "  <tbody>\n",
       "    <tr>\n",
       "      <th>0</th>\n",
       "      <td>1</td>\n",
       "      <td>Ram</td>\n",
       "      <td>23</td>\n",
       "      <td>Kathmandu</td>\n",
       "    </tr>\n",
       "    <tr>\n",
       "      <th>1</th>\n",
       "      <td>2</td>\n",
       "      <td>Shyam</td>\n",
       "      <td>45</td>\n",
       "      <td>Bara</td>\n",
       "    </tr>\n",
       "    <tr>\n",
       "      <th>2</th>\n",
       "      <td>3</td>\n",
       "      <td>Nabin</td>\n",
       "      <td>54</td>\n",
       "      <td>Pokhara</td>\n",
       "    </tr>\n",
       "  </tbody>\n",
       "</table>\n",
       "</div>"
      ],
      "text/plain": [
       "   SN   Name  Age    Address\n",
       "0   1    Ram   23  Kathmandu\n",
       "1   2  Shyam   45       Bara\n",
       "2   3  Nabin   54    Pokhara"
      ]
     },
     "execution_count": 3,
     "metadata": {},
     "output_type": "execute_result"
    }
   ],
   "source": [
    "import pandas as pd\n",
    "df = pd.read_csv(\"data.csv\",nrows = 5)\n",
    "df.head(3)"
   ]
  },
  {
   "cell_type": "code",
   "execution_count": 5,
   "id": "738be65c",
   "metadata": {},
   "outputs": [
    {
     "data": {
      "text/html": [
       "<div>\n",
       "<style scoped>\n",
       "    .dataframe tbody tr th:only-of-type {\n",
       "        vertical-align: middle;\n",
       "    }\n",
       "\n",
       "    .dataframe tbody tr th {\n",
       "        vertical-align: top;\n",
       "    }\n",
       "\n",
       "    .dataframe thead th {\n",
       "        text-align: right;\n",
       "    }\n",
       "</style>\n",
       "<table border=\"1\" class=\"dataframe\">\n",
       "  <thead>\n",
       "    <tr style=\"text-align: right;\">\n",
       "      <th></th>\n",
       "      <th>Name</th>\n",
       "    </tr>\n",
       "    <tr>\n",
       "      <th>SN</th>\n",
       "      <th></th>\n",
       "    </tr>\n",
       "  </thead>\n",
       "  <tbody>\n",
       "    <tr>\n",
       "      <th>1</th>\n",
       "      <td>Ram</td>\n",
       "    </tr>\n",
       "    <tr>\n",
       "      <th>2</th>\n",
       "      <td>Shyam</td>\n",
       "    </tr>\n",
       "    <tr>\n",
       "      <th>3</th>\n",
       "      <td>Nabin</td>\n",
       "    </tr>\n",
       "  </tbody>\n",
       "</table>\n",
       "</div>"
      ],
      "text/plain": [
       "     Name\n",
       "SN       \n",
       "1     Ram\n",
       "2   Shyam\n",
       "3   Nabin"
      ]
     },
     "execution_count": 5,
     "metadata": {},
     "output_type": "execute_result"
    }
   ],
   "source": [
    "import pandas as pd\n",
    "df = pd.read_csv(\"data.csv\",index_col = \"SN\",usecols = [\"SN\",\"Name\"])\n",
    "df.head(3)"
   ]
  },
  {
   "cell_type": "code",
   "execution_count": 11,
   "id": "7ecc518b",
   "metadata": {},
   "outputs": [
    {
     "data": {
      "text/html": [
       "<div>\n",
       "<style scoped>\n",
       "    .dataframe tbody tr th:only-of-type {\n",
       "        vertical-align: middle;\n",
       "    }\n",
       "\n",
       "    .dataframe tbody tr th {\n",
       "        vertical-align: top;\n",
       "    }\n",
       "\n",
       "    .dataframe thead th {\n",
       "        text-align: right;\n",
       "    }\n",
       "</style>\n",
       "<table border=\"1\" class=\"dataframe\">\n",
       "  <thead>\n",
       "    <tr style=\"text-align: right;\">\n",
       "      <th></th>\n",
       "      <th>Name</th>\n",
       "      <th>Age</th>\n",
       "      <th>Address</th>\n",
       "    </tr>\n",
       "    <tr>\n",
       "      <th>SN</th>\n",
       "      <th></th>\n",
       "      <th></th>\n",
       "      <th></th>\n",
       "    </tr>\n",
       "  </thead>\n",
       "  <tbody>\n",
       "    <tr>\n",
       "      <th>5</th>\n",
       "      <td>Aayush</td>\n",
       "      <td>64</td>\n",
       "      <td>KTM</td>\n",
       "    </tr>\n",
       "  </tbody>\n",
       "</table>\n",
       "</div>"
      ],
      "text/plain": [
       "      Name  Age Address\n",
       "SN                     \n",
       "5   Aayush   64     KTM"
      ]
     },
     "execution_count": 11,
     "metadata": {},
     "output_type": "execute_result"
    }
   ],
   "source": [
    "import pandas as pd\n",
    "df = pd.read_csv(\"data.csv\",index_col = \"SN\")\n",
    "df[df[\"Address\"] == \"KTM\"]"
   ]
  },
  {
   "cell_type": "code",
   "execution_count": 12,
   "id": "1545d248",
   "metadata": {},
   "outputs": [
    {
     "data": {
      "text/html": [
       "<div>\n",
       "<style scoped>\n",
       "    .dataframe tbody tr th:only-of-type {\n",
       "        vertical-align: middle;\n",
       "    }\n",
       "\n",
       "    .dataframe tbody tr th {\n",
       "        vertical-align: top;\n",
       "    }\n",
       "\n",
       "    .dataframe thead th {\n",
       "        text-align: right;\n",
       "    }\n",
       "</style>\n",
       "<table border=\"1\" class=\"dataframe\">\n",
       "  <thead>\n",
       "    <tr style=\"text-align: right;\">\n",
       "      <th></th>\n",
       "      <th>Name</th>\n",
       "    </tr>\n",
       "    <tr>\n",
       "      <th>SN</th>\n",
       "      <th></th>\n",
       "    </tr>\n",
       "  </thead>\n",
       "  <tbody>\n",
       "    <tr>\n",
       "      <th>1</th>\n",
       "      <td>Ram</td>\n",
       "    </tr>\n",
       "    <tr>\n",
       "      <th>2</th>\n",
       "      <td>Shyam</td>\n",
       "    </tr>\n",
       "    <tr>\n",
       "      <th>3</th>\n",
       "      <td>Nabin</td>\n",
       "    </tr>\n",
       "    <tr>\n",
       "      <th>4</th>\n",
       "      <td>Santosh</td>\n",
       "    </tr>\n",
       "  </tbody>\n",
       "</table>\n",
       "</div>"
      ],
      "text/plain": [
       "       Name\n",
       "SN         \n",
       "1       Ram\n",
       "2     Shyam\n",
       "3     Nabin\n",
       "4   Santosh"
      ]
     },
     "execution_count": 12,
     "metadata": {},
     "output_type": "execute_result"
    }
   ],
   "source": [
    "import pandas as pd\n",
    "df = pd.read_csv(\"data.csv\",index_col = \"SN\",usecols = [\"SN\",\"Name\"])\n",
    "df.iloc[0:4]"
   ]
  },
  {
   "cell_type": "code",
   "execution_count": 3,
   "id": "f31693e2",
   "metadata": {},
   "outputs": [
    {
     "name": "stdout",
     "output_type": "stream",
     "text": [
      "SN,Name,Age,Address\n",
      "1,Ram,23,Kathmandu\n",
      "2,Shyam,45,Bara\n",
      "3,Nabin,54,Pokhara\n",
      "4,Santosh,45,Slolu\n",
      "5,Aayush,64,KTM\n",
      "6,Hari,43,Jhapa\n"
     ]
    }
   ],
   "source": [
    "b = open(\"data.csv\",\"r\")\n",
    "print(b.read())\n",
    "b.close()"
   ]
  },
  {
   "cell_type": "code",
   "execution_count": 4,
   "id": "cd175f6c",
   "metadata": {},
   "outputs": [
    {
     "data": {
      "text/html": [
       "<div>\n",
       "<style scoped>\n",
       "    .dataframe tbody tr th:only-of-type {\n",
       "        vertical-align: middle;\n",
       "    }\n",
       "\n",
       "    .dataframe tbody tr th {\n",
       "        vertical-align: top;\n",
       "    }\n",
       "\n",
       "    .dataframe thead th {\n",
       "        text-align: right;\n",
       "    }\n",
       "</style>\n",
       "<table border=\"1\" class=\"dataframe\">\n",
       "  <thead>\n",
       "    <tr style=\"text-align: right;\">\n",
       "      <th></th>\n",
       "      <th>SN</th>\n",
       "      <th>Name</th>\n",
       "      <th>Age</th>\n",
       "      <th>Address</th>\n",
       "    </tr>\n",
       "  </thead>\n",
       "  <tbody>\n",
       "    <tr>\n",
       "      <th>0</th>\n",
       "      <td>1</td>\n",
       "      <td>Ram</td>\n",
       "      <td>23</td>\n",
       "      <td>Kathmandu</td>\n",
       "    </tr>\n",
       "    <tr>\n",
       "      <th>1</th>\n",
       "      <td>2</td>\n",
       "      <td>Shyam</td>\n",
       "      <td>45</td>\n",
       "      <td>Bara</td>\n",
       "    </tr>\n",
       "    <tr>\n",
       "      <th>2</th>\n",
       "      <td>3</td>\n",
       "      <td>Nabin</td>\n",
       "      <td>54</td>\n",
       "      <td>Pokhara</td>\n",
       "    </tr>\n",
       "    <tr>\n",
       "      <th>3</th>\n",
       "      <td>4</td>\n",
       "      <td>Santosh</td>\n",
       "      <td>45</td>\n",
       "      <td>Slolu</td>\n",
       "    </tr>\n",
       "    <tr>\n",
       "      <th>4</th>\n",
       "      <td>5</td>\n",
       "      <td>Aayush</td>\n",
       "      <td>64</td>\n",
       "      <td>KTM</td>\n",
       "    </tr>\n",
       "    <tr>\n",
       "      <th>5</th>\n",
       "      <td>6</td>\n",
       "      <td>Hari</td>\n",
       "      <td>43</td>\n",
       "      <td>Jhapa</td>\n",
       "    </tr>\n",
       "  </tbody>\n",
       "</table>\n",
       "</div>"
      ],
      "text/plain": [
       "   SN     Name  Age    Address\n",
       "0   1      Ram   23  Kathmandu\n",
       "1   2    Shyam   45       Bara\n",
       "2   3    Nabin   54    Pokhara\n",
       "3   4  Santosh   45      Slolu\n",
       "4   5   Aayush   64        KTM\n",
       "5   6     Hari   43      Jhapa"
      ]
     },
     "execution_count": 4,
     "metadata": {},
     "output_type": "execute_result"
    }
   ],
   "source": [
    "import pandas as pd\n",
    "df = pd.read_csv(\"data.csv\")\n",
    "df"
   ]
  },
  {
   "cell_type": "code",
   "execution_count": 2,
   "id": "3a49641c",
   "metadata": {},
   "outputs": [
    {
     "name": "stdout",
     "output_type": "stream",
     "text": [
      "   SN     Name  Age    Address\n",
      "0   1      Ram   23  Kathmandu\n",
      "1   2    Shyam   45       Bara\n",
      "2   3    Nabin   54    Pokhara\n",
      "3   4  Santosh   45      Slolu\n",
      "4   5   Aayush   64        KTM\n"
     ]
    }
   ],
   "source": [
    "import pandas as pd\n",
    "df = pd.read_csv(\"data.csv\",nrows = 5)\n",
    "print(df)"
   ]
  },
  {
   "cell_type": "code",
   "execution_count": 4,
   "id": "71289e4e",
   "metadata": {},
   "outputs": [
    {
     "data": {
      "text/html": [
       "<div>\n",
       "<style scoped>\n",
       "    .dataframe tbody tr th:only-of-type {\n",
       "        vertical-align: middle;\n",
       "    }\n",
       "\n",
       "    .dataframe tbody tr th {\n",
       "        vertical-align: top;\n",
       "    }\n",
       "\n",
       "    .dataframe thead th {\n",
       "        text-align: right;\n",
       "    }\n",
       "</style>\n",
       "<table border=\"1\" class=\"dataframe\">\n",
       "  <thead>\n",
       "    <tr style=\"text-align: right;\">\n",
       "      <th></th>\n",
       "      <th>Name</th>\n",
       "      <th>Age</th>\n",
       "      <th>Address</th>\n",
       "    </tr>\n",
       "    <tr>\n",
       "      <th>SN</th>\n",
       "      <th></th>\n",
       "      <th></th>\n",
       "      <th></th>\n",
       "    </tr>\n",
       "  </thead>\n",
       "  <tbody>\n",
       "    <tr>\n",
       "      <th>1</th>\n",
       "      <td>Ram</td>\n",
       "      <td>23</td>\n",
       "      <td>Kathmandu</td>\n",
       "    </tr>\n",
       "    <tr>\n",
       "      <th>2</th>\n",
       "      <td>Shyam</td>\n",
       "      <td>45</td>\n",
       "      <td>Bara</td>\n",
       "    </tr>\n",
       "    <tr>\n",
       "      <th>3</th>\n",
       "      <td>Nabin</td>\n",
       "      <td>54</td>\n",
       "      <td>Pokhara</td>\n",
       "    </tr>\n",
       "  </tbody>\n",
       "</table>\n",
       "</div>"
      ],
      "text/plain": [
       "     Name  Age    Address\n",
       "SN                       \n",
       "1     Ram   23  Kathmandu\n",
       "2   Shyam   45       Bara\n",
       "3   Nabin   54    Pokhara"
      ]
     },
     "execution_count": 4,
     "metadata": {},
     "output_type": "execute_result"
    }
   ],
   "source": [
    "import pandas as pd\n",
    "df = pd.read_csv(\"data.csv\",index_col = \"SN\")\n",
    "df.head(3)"
   ]
  },
  {
   "cell_type": "code",
   "execution_count": 5,
   "id": "9ce40e25",
   "metadata": {},
   "outputs": [
    {
     "name": "stdout",
     "output_type": "stream",
     "text": [
      "   SN     Name  Age    Address\n",
      "0   1      Ram   23  Kathmandu\n",
      "1   2    Shyam   45       Bara\n",
      "2   3    Nabin   54    Pokhara\n",
      "3   4  Santosh   45      Slolu\n",
      "4   5   Aayush   64        KTM\n",
      "5   6     Hari   43      Jhapa\n"
     ]
    }
   ],
   "source": [
    "import pandas as pd\n",
    "df = pd.read_csv(\"data.csv\",usecols = ['SN','Name','Age','Address'])\n",
    "print(df)"
   ]
  },
  {
   "cell_type": "code",
   "execution_count": 8,
   "id": "84f83d06",
   "metadata": {},
   "outputs": [
    {
     "data": {
      "text/html": [
       "<div>\n",
       "<style scoped>\n",
       "    .dataframe tbody tr th:only-of-type {\n",
       "        vertical-align: middle;\n",
       "    }\n",
       "\n",
       "    .dataframe tbody tr th {\n",
       "        vertical-align: top;\n",
       "    }\n",
       "\n",
       "    .dataframe thead th {\n",
       "        text-align: right;\n",
       "    }\n",
       "</style>\n",
       "<table border=\"1\" class=\"dataframe\">\n",
       "  <thead>\n",
       "    <tr style=\"text-align: right;\">\n",
       "      <th></th>\n",
       "      <th>Name</th>\n",
       "      <th>Age</th>\n",
       "      <th>Address</th>\n",
       "    </tr>\n",
       "    <tr>\n",
       "      <th>SN</th>\n",
       "      <th></th>\n",
       "      <th></th>\n",
       "      <th></th>\n",
       "    </tr>\n",
       "  </thead>\n",
       "  <tbody>\n",
       "    <tr>\n",
       "      <th>2</th>\n",
       "      <td>Shyam</td>\n",
       "      <td>45</td>\n",
       "      <td>Bara</td>\n",
       "    </tr>\n",
       "    <tr>\n",
       "      <th>3</th>\n",
       "      <td>Nabin</td>\n",
       "      <td>54</td>\n",
       "      <td>Pokhara</td>\n",
       "    </tr>\n",
       "    <tr>\n",
       "      <th>4</th>\n",
       "      <td>Santosh</td>\n",
       "      <td>45</td>\n",
       "      <td>Slolu</td>\n",
       "    </tr>\n",
       "    <tr>\n",
       "      <th>5</th>\n",
       "      <td>Aayush</td>\n",
       "      <td>64</td>\n",
       "      <td>KTM</td>\n",
       "    </tr>\n",
       "    <tr>\n",
       "      <th>6</th>\n",
       "      <td>Hari</td>\n",
       "      <td>43</td>\n",
       "      <td>Jhapa</td>\n",
       "    </tr>\n",
       "  </tbody>\n",
       "</table>\n",
       "</div>"
      ],
      "text/plain": [
       "       Name  Age  Address\n",
       "SN                       \n",
       "2     Shyam   45     Bara\n",
       "3     Nabin   54  Pokhara\n",
       "4   Santosh   45    Slolu\n",
       "5    Aayush   64      KTM\n",
       "6      Hari   43    Jhapa"
      ]
     },
     "execution_count": 8,
     "metadata": {},
     "output_type": "execute_result"
    }
   ],
   "source": [
    "import pandas as pd\n",
    "df = pd.read_csv(\"data.csv\",index_col = \"SN\")\n",
    "df[df[\"Age\"]>30]"
   ]
  },
  {
   "cell_type": "code",
   "execution_count": 15,
   "id": "f523c7a5",
   "metadata": {},
   "outputs": [
    {
     "data": {
      "text/html": [
       "<div>\n",
       "<style scoped>\n",
       "    .dataframe tbody tr th:only-of-type {\n",
       "        vertical-align: middle;\n",
       "    }\n",
       "\n",
       "    .dataframe tbody tr th {\n",
       "        vertical-align: top;\n",
       "    }\n",
       "\n",
       "    .dataframe thead th {\n",
       "        text-align: right;\n",
       "    }\n",
       "</style>\n",
       "<table border=\"1\" class=\"dataframe\">\n",
       "  <thead>\n",
       "    <tr style=\"text-align: right;\">\n",
       "      <th></th>\n",
       "      <th>SN</th>\n",
       "      <th>Name</th>\n",
       "      <th>Age</th>\n",
       "      <th>Address</th>\n",
       "    </tr>\n",
       "  </thead>\n",
       "  <tbody>\n",
       "    <tr>\n",
       "      <th>3</th>\n",
       "      <td>4</td>\n",
       "      <td>Santosh</td>\n",
       "      <td>45</td>\n",
       "      <td>Slolu</td>\n",
       "    </tr>\n",
       "  </tbody>\n",
       "</table>\n",
       "</div>"
      ],
      "text/plain": [
       "   SN     Name  Age Address\n",
       "3   4  Santosh   45   Slolu"
      ]
     },
     "execution_count": 15,
     "metadata": {},
     "output_type": "execute_result"
    }
   ],
   "source": [
    "import pandas as pd\n",
    "df = pd.read_csv(\"data.csv\")\n",
    "df[(df[\"Name\"] == 'Santosh') & (df[\"Age\"]>30)]"
   ]
  },
  {
   "cell_type": "code",
   "execution_count": 22,
   "id": "a3c9a4d4",
   "metadata": {},
   "outputs": [
    {
     "data": {
      "text/html": [
       "<div>\n",
       "<style scoped>\n",
       "    .dataframe tbody tr th:only-of-type {\n",
       "        vertical-align: middle;\n",
       "    }\n",
       "\n",
       "    .dataframe tbody tr th {\n",
       "        vertical-align: top;\n",
       "    }\n",
       "\n",
       "    .dataframe thead th {\n",
       "        text-align: right;\n",
       "    }\n",
       "</style>\n",
       "<table border=\"1\" class=\"dataframe\">\n",
       "  <thead>\n",
       "    <tr style=\"text-align: right;\">\n",
       "      <th></th>\n",
       "      <th>SN</th>\n",
       "      <th>Age</th>\n",
       "      <th>Address</th>\n",
       "    </tr>\n",
       "    <tr>\n",
       "      <th>Name</th>\n",
       "      <th></th>\n",
       "      <th></th>\n",
       "      <th></th>\n",
       "    </tr>\n",
       "  </thead>\n",
       "  <tbody>\n",
       "    <tr>\n",
       "      <th>Ram</th>\n",
       "      <td>1</td>\n",
       "      <td>23</td>\n",
       "      <td>Kathmandu</td>\n",
       "    </tr>\n",
       "    <tr>\n",
       "      <th>Shyam</th>\n",
       "      <td>2</td>\n",
       "      <td>45</td>\n",
       "      <td>Bara</td>\n",
       "    </tr>\n",
       "    <tr>\n",
       "      <th>Nabin</th>\n",
       "      <td>3</td>\n",
       "      <td>54</td>\n",
       "      <td>Pokhara</td>\n",
       "    </tr>\n",
       "    <tr>\n",
       "      <th>Santosh</th>\n",
       "      <td>4</td>\n",
       "      <td>45</td>\n",
       "      <td>Slolu</td>\n",
       "    </tr>\n",
       "    <tr>\n",
       "      <th>Aayush</th>\n",
       "      <td>5</td>\n",
       "      <td>64</td>\n",
       "      <td>KTM</td>\n",
       "    </tr>\n",
       "    <tr>\n",
       "      <th>Hari</th>\n",
       "      <td>6</td>\n",
       "      <td>43</td>\n",
       "      <td>Jhapa</td>\n",
       "    </tr>\n",
       "  </tbody>\n",
       "</table>\n",
       "</div>"
      ],
      "text/plain": [
       "         SN  Age    Address\n",
       "Name                       \n",
       "Ram       1   23  Kathmandu\n",
       "Shyam     2   45       Bara\n",
       "Nabin     3   54    Pokhara\n",
       "Santosh   4   45      Slolu\n",
       "Aayush    5   64        KTM\n",
       "Hari      6   43      Jhapa"
      ]
     },
     "execution_count": 22,
     "metadata": {},
     "output_type": "execute_result"
    }
   ],
   "source": [
    "import pandas as pd\n",
    "df = pd.read_csv(\"data.csv\",index_col = \"Name\")\n",
    "df.loc[\"Ram\":\"Hari\"]"
   ]
  },
  {
   "cell_type": "code",
   "execution_count": 31,
   "id": "895a3819",
   "metadata": {},
   "outputs": [
    {
     "data": {
      "text/html": [
       "<div>\n",
       "<style scoped>\n",
       "    .dataframe tbody tr th:only-of-type {\n",
       "        vertical-align: middle;\n",
       "    }\n",
       "\n",
       "    .dataframe tbody tr th {\n",
       "        vertical-align: top;\n",
       "    }\n",
       "\n",
       "    .dataframe thead th {\n",
       "        text-align: right;\n",
       "    }\n",
       "</style>\n",
       "<table border=\"1\" class=\"dataframe\">\n",
       "  <thead>\n",
       "    <tr style=\"text-align: right;\">\n",
       "      <th></th>\n",
       "      <th>SN</th>\n",
       "      <th>Age</th>\n",
       "      <th>Address</th>\n",
       "    </tr>\n",
       "    <tr>\n",
       "      <th>Name</th>\n",
       "      <th></th>\n",
       "      <th></th>\n",
       "      <th></th>\n",
       "    </tr>\n",
       "  </thead>\n",
       "  <tbody>\n",
       "    <tr>\n",
       "      <th>Ram</th>\n",
       "      <td>1</td>\n",
       "      <td>23</td>\n",
       "      <td>Kathmandu</td>\n",
       "    </tr>\n",
       "    <tr>\n",
       "      <th>Shyam</th>\n",
       "      <td>2</td>\n",
       "      <td>45</td>\n",
       "      <td>Bara</td>\n",
       "    </tr>\n",
       "    <tr>\n",
       "      <th>Nabin</th>\n",
       "      <td>3</td>\n",
       "      <td>54</td>\n",
       "      <td>Pokhara</td>\n",
       "    </tr>\n",
       "    <tr>\n",
       "      <th>Aayush</th>\n",
       "      <td>5</td>\n",
       "      <td>64</td>\n",
       "      <td>KTM</td>\n",
       "    </tr>\n",
       "    <tr>\n",
       "      <th>Hari</th>\n",
       "      <td>6</td>\n",
       "      <td>43</td>\n",
       "      <td>Jhapa</td>\n",
       "    </tr>\n",
       "  </tbody>\n",
       "</table>\n",
       "</div>"
      ],
      "text/plain": [
       "        SN  Age    Address\n",
       "Name                      \n",
       "Ram      1   23  Kathmandu\n",
       "Shyam    2   45       Bara\n",
       "Nabin    3   54    Pokhara\n",
       "Aayush   5   64        KTM\n",
       "Hari     6   43      Jhapa"
      ]
     },
     "execution_count": 31,
     "metadata": {},
     "output_type": "execute_result"
    }
   ],
   "source": [
    "df.drop([\"Santosh\"], axis = 0)"
   ]
  },
  {
   "cell_type": "code",
   "execution_count": 28,
   "id": "06d0f59c",
   "metadata": {},
   "outputs": [
    {
     "data": {
      "text/html": [
       "<div>\n",
       "<style scoped>\n",
       "    .dataframe tbody tr th:only-of-type {\n",
       "        vertical-align: middle;\n",
       "    }\n",
       "\n",
       "    .dataframe tbody tr th {\n",
       "        vertical-align: top;\n",
       "    }\n",
       "\n",
       "    .dataframe thead th {\n",
       "        text-align: right;\n",
       "    }\n",
       "</style>\n",
       "<table border=\"1\" class=\"dataframe\">\n",
       "  <thead>\n",
       "    <tr style=\"text-align: right;\">\n",
       "      <th></th>\n",
       "      <th>SN</th>\n",
       "      <th>Age</th>\n",
       "    </tr>\n",
       "    <tr>\n",
       "      <th>Name</th>\n",
       "      <th></th>\n",
       "      <th></th>\n",
       "    </tr>\n",
       "  </thead>\n",
       "  <tbody>\n",
       "    <tr>\n",
       "      <th>Ram</th>\n",
       "      <td>1</td>\n",
       "      <td>23</td>\n",
       "    </tr>\n",
       "    <tr>\n",
       "      <th>Shyam</th>\n",
       "      <td>2</td>\n",
       "      <td>45</td>\n",
       "    </tr>\n",
       "    <tr>\n",
       "      <th>Nabin</th>\n",
       "      <td>3</td>\n",
       "      <td>54</td>\n",
       "    </tr>\n",
       "    <tr>\n",
       "      <th>Santosh</th>\n",
       "      <td>4</td>\n",
       "      <td>45</td>\n",
       "    </tr>\n",
       "    <tr>\n",
       "      <th>Aayush</th>\n",
       "      <td>5</td>\n",
       "      <td>64</td>\n",
       "    </tr>\n",
       "    <tr>\n",
       "      <th>Hari</th>\n",
       "      <td>6</td>\n",
       "      <td>43</td>\n",
       "    </tr>\n",
       "  </tbody>\n",
       "</table>\n",
       "</div>"
      ],
      "text/plain": [
       "         SN  Age\n",
       "Name            \n",
       "Ram       1   23\n",
       "Shyam     2   45\n",
       "Nabin     3   54\n",
       "Santosh   4   45\n",
       "Aayush    5   64\n",
       "Hari      6   43"
      ]
     },
     "execution_count": 28,
     "metadata": {},
     "output_type": "execute_result"
    }
   ],
   "source": [
    "df.drop([\"Address\"], axis = 1)"
   ]
  },
  {
   "cell_type": "code",
   "execution_count": 33,
   "id": "881751f0",
   "metadata": {},
   "outputs": [],
   "source": [
    "import pandas as pd\n",
    "df = pd.read_csv(\"data.csv\",index_col = \"Name\")\n",
    "fd = df['Ram':'Santosh']\n",
    "\n",
    "fd.to_csv(\"filtered_data.csv\")"
   ]
  },
  {
   "cell_type": "code",
   "execution_count": 34,
   "id": "26743b0f",
   "metadata": {},
   "outputs": [],
   "source": [
    "import csv\n",
    "fields = [\"Hari\",45,'Kathmandu']\n",
    "with open('santosh.csv','a') as f:\n",
    "    x = csv.writer(f)\n",
    "    x.writerow(fields)"
   ]
  },
  {
   "cell_type": "code",
   "execution_count": 35,
   "id": "04913301",
   "metadata": {},
   "outputs": [],
   "source": [
    "import csv\n",
    "fields = [\"Hari\",45,'Kathmandu']\n",
    "f = open('santsoh.csv','a')\n",
    "x = csv.writer(f)\n",
    "x.writerow(fields)\n",
    "f.close()"
   ]
  },
  {
   "cell_type": "code",
   "execution_count": 37,
   "id": "f21330de",
   "metadata": {},
   "outputs": [
    {
     "name": "stdout",
     "output_type": "stream",
     "text": [
      "Enter n = 3\n",
      "Enter name = Santosh\n",
      "Enter marks65\n",
      "Enter marks56\n",
      "Enter marks85\n",
      "Enter marks56\n",
      "Enter name = Hari\n",
      "Enter marks56\n",
      "Enter marks58\n",
      "Enter marks5\n",
      "Enter marks75\n",
      "Enter name = Ram\n",
      "Enter marks25\n",
      "Enter marks36\n",
      "Enter marks56\n",
      "Enter marks56\n",
      "[[1, 'Santosh', 65, 56, 85, 56, 262, 65.5], [2, 'Hari', 56, 58, 5, 75, 194, 48.5], [3, 'Ram', 25, 36, 56, 56, 173, 43.25]]\n"
     ]
    }
   ],
   "source": [
    "result = []\n",
    "n = int(input(\"Enter n = \"))\n",
    "for i in range(1,n+1):\n",
    "    name = input(\"Enter name = \")\n",
    "    physics = int(input(\"Enter marks\"))\n",
    "    chemistry = int(input(\"Enter marks\"))\n",
    "    math = int(input(\"Enter marks\"))\n",
    "    english = int(input(\"Enter marks\"))\n",
    "    total = sum([physics,chemistry,math,english])\n",
    "    per = total/4\n",
    "    marks = [i,name,physics,chemistry,math,english,total,per]\n",
    "    result.append(marks)\n",
    "print(result)"
   ]
  },
  {
   "cell_type": "code",
   "execution_count": 38,
   "id": "b89b8972",
   "metadata": {},
   "outputs": [],
   "source": [
    "import csv\n",
    "f = open('result.csv','w')\n",
    "x = csv.writer(f)\n",
    "for i in result:\n",
    "    x.writerow(i)\n",
    "f.close()"
   ]
  },
  {
   "cell_type": "code",
   "execution_count": 39,
   "id": "1d8f32be",
   "metadata": {},
   "outputs": [],
   "source": [
    "import csv\n",
    "f = open('result.csv','w')\n",
    "x = csv.writer(f)\n",
    "x.writerow([\"SN\",\"Name\",\"Physics\",\"Chemistry\",\"Math\",\"English\",\"Total\",\"Percentage\"])\n",
    "for i in result:\n",
    "    x.writerow(i)\n",
    "f.close()"
   ]
  },
  {
   "cell_type": "code",
   "execution_count": 44,
   "id": "0478e5ca",
   "metadata": {},
   "outputs": [
    {
     "data": {
      "text/html": [
       "<div>\n",
       "<style scoped>\n",
       "    .dataframe tbody tr th:only-of-type {\n",
       "        vertical-align: middle;\n",
       "    }\n",
       "\n",
       "    .dataframe tbody tr th {\n",
       "        vertical-align: top;\n",
       "    }\n",
       "\n",
       "    .dataframe thead th {\n",
       "        text-align: right;\n",
       "    }\n",
       "</style>\n",
       "<table border=\"1\" class=\"dataframe\">\n",
       "  <thead>\n",
       "    <tr style=\"text-align: right;\">\n",
       "      <th></th>\n",
       "      <th>SN</th>\n",
       "      <th>Name</th>\n",
       "      <th>Physics</th>\n",
       "      <th>Chemistry</th>\n",
       "      <th>Math</th>\n",
       "      <th>English</th>\n",
       "      <th>Total</th>\n",
       "      <th>Percentage</th>\n",
       "    </tr>\n",
       "  </thead>\n",
       "  <tbody>\n",
       "    <tr>\n",
       "      <th>0</th>\n",
       "      <td>1</td>\n",
       "      <td>Santosh</td>\n",
       "      <td>65</td>\n",
       "      <td>56</td>\n",
       "      <td>85</td>\n",
       "      <td>56</td>\n",
       "      <td>262</td>\n",
       "      <td>65.50</td>\n",
       "    </tr>\n",
       "    <tr>\n",
       "      <th>1</th>\n",
       "      <td>2</td>\n",
       "      <td>Hari</td>\n",
       "      <td>56</td>\n",
       "      <td>58</td>\n",
       "      <td>5</td>\n",
       "      <td>75</td>\n",
       "      <td>194</td>\n",
       "      <td>48.50</td>\n",
       "    </tr>\n",
       "    <tr>\n",
       "      <th>2</th>\n",
       "      <td>3</td>\n",
       "      <td>Ram</td>\n",
       "      <td>25</td>\n",
       "      <td>36</td>\n",
       "      <td>56</td>\n",
       "      <td>56</td>\n",
       "      <td>173</td>\n",
       "      <td>43.25</td>\n",
       "    </tr>\n",
       "  </tbody>\n",
       "</table>\n",
       "</div>"
      ],
      "text/plain": [
       "   SN     Name  Physics  Chemistry  Math  English  Total  Percentage\n",
       "0   1  Santosh       65         56    85       56    262       65.50\n",
       "1   2     Hari       56         58     5       75    194       48.50\n",
       "2   3      Ram       25         36    56       56    173       43.25"
      ]
     },
     "execution_count": 44,
     "metadata": {},
     "output_type": "execute_result"
    }
   ],
   "source": [
    "import pandas as pd\n",
    "df = pd.read_csv(\"result.csv\")\n",
    "df"
   ]
  },
  {
   "cell_type": "code",
   "execution_count": 46,
   "id": "8f7d79ff",
   "metadata": {},
   "outputs": [
    {
     "data": {
      "text/html": [
       "<div>\n",
       "<style scoped>\n",
       "    .dataframe tbody tr th:only-of-type {\n",
       "        vertical-align: middle;\n",
       "    }\n",
       "\n",
       "    .dataframe tbody tr th {\n",
       "        vertical-align: top;\n",
       "    }\n",
       "\n",
       "    .dataframe thead th {\n",
       "        text-align: right;\n",
       "    }\n",
       "</style>\n",
       "<table border=\"1\" class=\"dataframe\">\n",
       "  <thead>\n",
       "    <tr style=\"text-align: right;\">\n",
       "      <th></th>\n",
       "      <th>Santosh</th>\n",
       "      <th>Ram</th>\n",
       "    </tr>\n",
       "  </thead>\n",
       "  <tbody>\n",
       "    <tr>\n",
       "      <th>0</th>\n",
       "      <td>9865623658</td>\n",
       "      <td>9685689575</td>\n",
       "    </tr>\n",
       "    <tr>\n",
       "      <th>1</th>\n",
       "      <td>9865986586</td>\n",
       "      <td>9856895648</td>\n",
       "    </tr>\n",
       "    <tr>\n",
       "      <th>2</th>\n",
       "      <td>09883874837</td>\n",
       "      <td>98776543</td>\n",
       "    </tr>\n",
       "  </tbody>\n",
       "</table>\n",
       "</div>"
      ],
      "text/plain": [
       "       Santosh         Ram\n",
       "0   9865623658  9685689575\n",
       "1   9865986586  9856895648\n",
       "2  09883874837    98776543"
      ]
     },
     "execution_count": 46,
     "metadata": {},
     "output_type": "execute_result"
    }
   ],
   "source": [
    "a = {'Santosh': ['9865623658', '9865986586', '09883874837'], 'Ram': ['9685689575', '9856895648', '98776543']}\n",
    "df = pd.DataFrame(a)\n",
    "df"
   ]
  },
  {
   "cell_type": "code",
   "execution_count": 47,
   "id": "9cab4725",
   "metadata": {},
   "outputs": [],
   "source": [
    "a = {'Santosh': ['9865623658', '9865986586', '09883874837'], 'Ram': ['9685689575', '9856895648', '98776543']}\n",
    "df = pd.DataFrame(a)\n",
    "df.to_csv('call.csv')"
   ]
  },
  {
   "cell_type": "code",
   "execution_count": 48,
   "id": "49680dec",
   "metadata": {},
   "outputs": [
    {
     "data": {
      "text/html": [
       "<div>\n",
       "<style scoped>\n",
       "    .dataframe tbody tr th:only-of-type {\n",
       "        vertical-align: middle;\n",
       "    }\n",
       "\n",
       "    .dataframe tbody tr th {\n",
       "        vertical-align: top;\n",
       "    }\n",
       "\n",
       "    .dataframe thead th {\n",
       "        text-align: right;\n",
       "    }\n",
       "</style>\n",
       "<table border=\"1\" class=\"dataframe\">\n",
       "  <thead>\n",
       "    <tr style=\"text-align: right;\">\n",
       "      <th></th>\n",
       "      <th>Unnamed: 0</th>\n",
       "      <th>Santosh</th>\n",
       "      <th>Ram</th>\n",
       "    </tr>\n",
       "  </thead>\n",
       "  <tbody>\n",
       "    <tr>\n",
       "      <th>0</th>\n",
       "      <td>0</td>\n",
       "      <td>9865623658</td>\n",
       "      <td>9685689575</td>\n",
       "    </tr>\n",
       "    <tr>\n",
       "      <th>1</th>\n",
       "      <td>1</td>\n",
       "      <td>9865986586</td>\n",
       "      <td>9856895648</td>\n",
       "    </tr>\n",
       "    <tr>\n",
       "      <th>2</th>\n",
       "      <td>2</td>\n",
       "      <td>9883874837</td>\n",
       "      <td>98776543</td>\n",
       "    </tr>\n",
       "  </tbody>\n",
       "</table>\n",
       "</div>"
      ],
      "text/plain": [
       "   Unnamed: 0     Santosh         Ram\n",
       "0           0  9865623658  9685689575\n",
       "1           1  9865986586  9856895648\n",
       "2           2  9883874837    98776543"
      ]
     },
     "execution_count": 48,
     "metadata": {},
     "output_type": "execute_result"
    }
   ],
   "source": [
    "import pandas as pd\n",
    "df = pd.read_csv(\"call.csv\")\n",
    "df"
   ]
  },
  {
   "cell_type": "code",
   "execution_count": 49,
   "id": "9b35e07e",
   "metadata": {},
   "outputs": [
    {
     "name": "stdout",
     "output_type": "stream",
     "text": [
      "{'Name': 'Ram', 'SN': '1', 'Age': '23', 'Address': 'Kathmandu'}\n",
      "{'Name': 'Shyam', 'SN': '2', 'Age': '45', 'Address': 'Bara'}\n",
      "{'Name': 'Nabin', 'SN': '3', 'Age': '54', 'Address': 'Pokhara'}\n",
      "{'Name': 'Santosh', 'SN': '4', 'Age': '45', 'Address': 'Slolu'}\n"
     ]
    }
   ],
   "source": [
    "import csv\n",
    "b = open(\"filtered_data.csv\")\n",
    "reader = csv.DictReader(b)\n",
    "for row in reader:\n",
    "    print(row)"
   ]
  },
  {
   "cell_type": "code",
   "execution_count": 50,
   "id": "c61b92be",
   "metadata": {},
   "outputs": [
    {
     "name": "stdout",
     "output_type": "stream",
     "text": [
      "{'Name': 'Ram', 'SN': '1', 'Age': '23', 'Address': 'Kathmandu'}\n",
      "{'Name': 'Shyam', 'SN': '2', 'Age': '45', 'Address': 'Bara'}\n",
      "{'Name': 'Nabin', 'SN': '3', 'Age': '54', 'Address': 'Pokhara'}\n",
      "{'Name': 'Santosh', 'SN': '4', 'Age': '45', 'Address': 'Slolu'}\n"
     ]
    }
   ],
   "source": [
    "import csv\n",
    "b = open('filtered_data.csv')\n",
    "reader = csv.DictReader(b)\n",
    "\n",
    "for row in reader:\n",
    "    print(dict(row))"
   ]
  },
  {
   "cell_type": "code",
   "execution_count": 51,
   "id": "c7a6f5b3",
   "metadata": {},
   "outputs": [
    {
     "data": {
      "text/html": [
       "<div>\n",
       "<style scoped>\n",
       "    .dataframe tbody tr th:only-of-type {\n",
       "        vertical-align: middle;\n",
       "    }\n",
       "\n",
       "    .dataframe tbody tr th {\n",
       "        vertical-align: top;\n",
       "    }\n",
       "\n",
       "    .dataframe thead th {\n",
       "        text-align: right;\n",
       "    }\n",
       "</style>\n",
       "<table border=\"1\" class=\"dataframe\">\n",
       "  <thead>\n",
       "    <tr style=\"text-align: right;\">\n",
       "      <th></th>\n",
       "      <th>Name</th>\n",
       "      <th>SN</th>\n",
       "      <th>Age</th>\n",
       "      <th>Address</th>\n",
       "    </tr>\n",
       "  </thead>\n",
       "  <tbody>\n",
       "    <tr>\n",
       "      <th>0</th>\n",
       "      <td>Ram</td>\n",
       "      <td>1</td>\n",
       "      <td>23</td>\n",
       "      <td>Kathmandu</td>\n",
       "    </tr>\n",
       "    <tr>\n",
       "      <th>1</th>\n",
       "      <td>Shyam</td>\n",
       "      <td>2</td>\n",
       "      <td>45</td>\n",
       "      <td>Bara</td>\n",
       "    </tr>\n",
       "    <tr>\n",
       "      <th>2</th>\n",
       "      <td>Nabin</td>\n",
       "      <td>3</td>\n",
       "      <td>54</td>\n",
       "      <td>Pokhara</td>\n",
       "    </tr>\n",
       "    <tr>\n",
       "      <th>3</th>\n",
       "      <td>Santosh</td>\n",
       "      <td>4</td>\n",
       "      <td>45</td>\n",
       "      <td>Slolu</td>\n",
       "    </tr>\n",
       "  </tbody>\n",
       "</table>\n",
       "</div>"
      ],
      "text/plain": [
       "      Name  SN  Age    Address\n",
       "0      Ram   1   23  Kathmandu\n",
       "1    Shyam   2   45       Bara\n",
       "2    Nabin   3   54    Pokhara\n",
       "3  Santosh   4   45      Slolu"
      ]
     },
     "execution_count": 51,
     "metadata": {},
     "output_type": "execute_result"
    }
   ],
   "source": [
    "import pandas as pd\n",
    "df = pd.read_csv('filtered_data.csv')\n",
    "df"
   ]
  },
  {
   "cell_type": "code",
   "execution_count": 52,
   "id": "ae6ad999",
   "metadata": {},
   "outputs": [
    {
     "name": "stdout",
     "output_type": "stream",
     "text": [
      "[{'Name': 'Ram', 'SN': '1', 'Age': '23', 'Address': 'Kathmandu'}, {'Name': 'Shyam', 'SN': '2', 'Age': '45', 'Address': 'Bara'}, {'Name': 'Nabin', 'SN': '3', 'Age': '54', 'Address': 'Pokhara'}, {'Name': 'Santosh', 'SN': '4', 'Age': '45', 'Address': 'Slolu'}]\n"
     ]
    }
   ],
   "source": [
    "import csv\n",
    "final_data = []\n",
    "b = open('filtered_data.csv')\n",
    "reader = csv.DictReader(b)\n",
    "\n",
    "for row in reader:\n",
    "    final_data.append(dict(row))\n",
    "print(final_data)"
   ]
  },
  {
   "cell_type": "code",
   "execution_count": 53,
   "id": "8d5c1d95",
   "metadata": {},
   "outputs": [
    {
     "data": {
      "text/plain": [
       "[{'Name': 'Chor', 'SN': '1', 'Age': '23', 'Address': 'Kathmandu'},\n",
       " {'Name': 'Shyam', 'SN': '2', 'Age': '45', 'Address': 'Bara'},\n",
       " {'Name': 'Nabin', 'SN': '3', 'Age': '54', 'Address': 'Pokhara'},\n",
       " {'Name': 'Santosh', 'SN': '4', 'Age': '45', 'Address': 'Slolu'}]"
      ]
     },
     "execution_count": 53,
     "metadata": {},
     "output_type": "execute_result"
    }
   ],
   "source": [
    "final_data[0][\"Name\"] = \"Chor\"\n",
    "final_data"
   ]
  },
  {
   "cell_type": "code",
   "execution_count": 54,
   "id": "409e3bad",
   "metadata": {},
   "outputs": [],
   "source": [
    "import csv\n",
    "csv_columns = ['Name', 'SN', 'Age', 'Address']\n",
    "dict = final_data\n",
    "\n",
    "b = open(\"filtered_data.sv\",\"w\")\n",
    "writer = csv.DictWriter(b, fieldnames = csv_columns)\n",
    "writer.writeheader()\n",
    "for data in dict:\n",
    "    writer.writerow(data)\n",
    "b.close()"
   ]
  },
  {
   "cell_type": "code",
   "execution_count": 3,
   "id": "a82a7a9f",
   "metadata": {},
   "outputs": [],
   "source": [
    "import mysql.connector\n",
    "database = mysql.connector.connect(\n",
    "    host=\"localhost\",\n",
    "    user=\"root\",\n",
    "    password=\"\",\n",
    "    database = \"class6pm\"\n",
    ")\n",
    "db = database.cursor()"
   ]
  },
  {
   "cell_type": "code",
   "execution_count": 7,
   "id": "4f3cfd03",
   "metadata": {},
   "outputs": [
    {
     "name": "stdout",
     "output_type": "stream",
     "text": [
      "(1, 'Acer Laptop', 555555, 666666, 'This is the latest laptop', 56, datetime.datetime(2021, 6, 18, 15, 0, 28), 66)\n",
      "(2, 'Samsung Laptop', 10000, 11111111, 'This is the latest laptop', 45, datetime.datetime(2021, 6, 18, 15, 2, 18), 12)\n"
     ]
    }
   ],
   "source": [
    "db.execute(\"SELECT * FROM product1\")\n",
    "result = db.fetchall()\n",
    "for x in result:\n",
    "    print(x)"
   ]
  },
  {
   "cell_type": "code",
   "execution_count": 8,
   "id": "0f9389e4",
   "metadata": {},
   "outputs": [
    {
     "name": "stdout",
     "output_type": "stream",
     "text": [
      "('Acer Laptop', 555555, 666666)\n",
      "('Samsung Laptop', 10000, 11111111)\n"
     ]
    }
   ],
   "source": [
    "db.execute(\"SELECT name,cost_price,sell_price FROM  product1\")\n",
    "result = db.fetchall()\n",
    "for x in result:\n",
    "    print(x)"
   ]
  },
  {
   "cell_type": "code",
   "execution_count": 9,
   "id": "c8e059ad",
   "metadata": {},
   "outputs": [
    {
     "name": "stdout",
     "output_type": "stream",
     "text": [
      "('Acer Laptop', 555555, 666666)\n"
     ]
    }
   ],
   "source": [
    "db.execute(\"SELECT name,cost_price,sell_price FROM  product1 WHERE stock>15\")\n",
    "result = db.fetchall()\n",
    "for x in result:\n",
    "    print(x)"
   ]
  },
  {
   "cell_type": "code",
   "execution_count": 12,
   "id": "6432d079",
   "metadata": {},
   "outputs": [
    {
     "name": "stdout",
     "output_type": "stream",
     "text": [
      "('Acer Laptop', 555555, 666666)\n",
      "('Samsung Laptop', 10000, 11111111)\n"
     ]
    }
   ],
   "source": [
    "db.execute(\"SELECT name,cost_price,sell_price FROM  product1 WHERE description LIKE '%This%'\")\n",
    "result = db.fetchall()\n",
    "for x in result:\n",
    "    print(x)"
   ]
  },
  {
   "cell_type": "code",
   "execution_count": 19,
   "id": "324f46c8",
   "metadata": {},
   "outputs": [
    {
     "name": "stdout",
     "output_type": "stream",
     "text": [
      "INSERT INTO product1(name,cost_price,sell_price,description,quantity,stock) VALUES('keyboard',200,500,'This is the gaming keyboard',25,56)\n"
     ]
    }
   ],
   "source": [
    "name = \"keyboard\"\n",
    "cost_price = 200\n",
    "sell_price = 500\n",
    "description = \"This is the gaming keyboard\"\n",
    "quantity = 25\n",
    "stock = 56\n",
    "sql = f\"INSERT INTO product1(name,cost_price,sell_price,description,quantity,stock) VALUES('{name}',{cost_price},{sell_price},'{description}',{quantity},{stock})\"\n",
    "print(sql)    \n",
    "db.execute(sql)\n",
    "database.commit()"
   ]
  },
  {
   "cell_type": "code",
   "execution_count": 20,
   "id": "88ee00a7",
   "metadata": {},
   "outputs": [],
   "source": [
    "sql = \"DELETE FROM product1 WHERE id = 3\"\n",
    "db.execute(sql)\n",
    "database.commit()"
   ]
  },
  {
   "cell_type": "code",
   "execution_count": 26,
   "id": "bb5cbb5f",
   "metadata": {},
   "outputs": [],
   "source": [
    "sql = \"UPDATE product1 SET stock = 45 WHERE id  = 1\"\n",
    "db.execute(sql)\n",
    "database.commit()"
   ]
  },
  {
   "cell_type": "code",
   "execution_count": 2,
   "id": "4a6b5ce9",
   "metadata": {},
   "outputs": [
    {
     "name": "stdout",
     "output_type": "stream",
     "text": [
      "Hello World\n"
     ]
    }
   ],
   "source": [
    "class Hello:\n",
    "    print(\"Hello World\")\n",
    "\n",
    "obj = Hello()"
   ]
  },
  {
   "cell_type": "code",
   "execution_count": 3,
   "id": "934de06e",
   "metadata": {},
   "outputs": [
    {
     "name": "stdout",
     "output_type": "stream",
     "text": [
      "60\n"
     ]
    }
   ],
   "source": [
    "class Cal:\n",
    "    l = 4\n",
    "    b = 5\n",
    "    h = 3\n",
    "    v = l*b*h\n",
    "    print(v)"
   ]
  },
  {
   "cell_type": "code",
   "execution_count": 4,
   "id": "feda6699",
   "metadata": {},
   "outputs": [
    {
     "name": "stdout",
     "output_type": "stream",
     "text": [
      "60\n"
     ]
    }
   ],
   "source": [
    "class Cal:\n",
    "    def volume(self):\n",
    "        l = 4\n",
    "        b = 5\n",
    "        h = 3\n",
    "        v = l*b*h\n",
    "        print(v)\n",
    "obj = Cal()\n",
    "obj.volume()"
   ]
  },
  {
   "cell_type": "code",
   "execution_count": 6,
   "id": "49b910b7",
   "metadata": {},
   "outputs": [
    {
     "name": "stdout",
     "output_type": "stream",
     "text": [
      "60\n"
     ]
    }
   ],
   "source": [
    "class Cal:\n",
    "    def volume(self,l,b,h):\n",
    "       \n",
    "        v = l*b*h\n",
    "        print(v)\n",
    "l = 4\n",
    "b = 5\n",
    "h = 3\n",
    "obj = Cal()\n",
    "obj.volume(l,b,h)"
   ]
  },
  {
   "cell_type": "code",
   "execution_count": 7,
   "id": "05aab5c7",
   "metadata": {},
   "outputs": [
    {
     "name": "stdout",
     "output_type": "stream",
     "text": [
      "60\n",
      "20\n"
     ]
    }
   ],
   "source": [
    "class Cal:\n",
    "    def __init__(self,l,b,h):  #constructor  \n",
    "        self.l = l #aghadi j vayeni paxadi same \n",
    "        self.b = b\n",
    "        self.h = h\n",
    "        \n",
    "    def volume(self): \n",
    "        v = self.l*self.b*self.h\n",
    "        print(v)\n",
    "    def area(self):\n",
    "        a = self.l*self.b\n",
    "        print(a)\n",
    "l = 4\n",
    "b = 5\n",
    "h = 3    \n",
    "obj = Cal(l,b,h)\n",
    "obj.volume()  \n",
    "obj.area()"
   ]
  },
  {
   "cell_type": "code",
   "execution_count": 10,
   "id": "a0669635",
   "metadata": {},
   "outputs": [
    {
     "name": "stdout",
     "output_type": "stream",
     "text": [
      "Enter l = 25\n",
      "Enter l = 25\n",
      "22500\n",
      "625\n"
     ]
    }
   ],
   "source": [
    "class Cal:\n",
    "    def __init__(self,l,b):  \n",
    "        self.l = l  \n",
    "        self.b = b\n",
    "                \n",
    "    def volume(self,h): \n",
    "        v = self.l*self.b*h\n",
    "        return v\n",
    "    \n",
    "    def area(self):\n",
    "        a = self.l*self.b\n",
    "        return a\n",
    "    \n",
    "l = int(input(\"Enter l = \"))\n",
    "b = int(input(\"Enter l = \"))\n",
    "    \n",
    "obj = Cal(l,b)\n",
    "print(obj.volume(h))  \n",
    "print(obj.area())"
   ]
  },
  {
   "cell_type": "code",
   "execution_count": 1,
   "id": "a970aae1",
   "metadata": {},
   "outputs": [
    {
     "name": "stdout",
     "output_type": "stream",
     "text": [
      "Hello World\n"
     ]
    }
   ],
   "source": [
    "class Hello:\n",
    "    print(\"Hello World\")\n",
    "obj = Hello()"
   ]
  },
  {
   "cell_type": "code",
   "execution_count": 2,
   "id": "e7dac508",
   "metadata": {},
   "outputs": [
    {
     "name": "stdout",
     "output_type": "stream",
     "text": [
      "15\n"
     ]
    }
   ],
   "source": [
    "class cal:\n",
    "    l = 1\n",
    "    b = 3\n",
    "    h = 5\n",
    "    v = l*b*h\n",
    "    print(v)"
   ]
  },
  {
   "cell_type": "code",
   "execution_count": 2,
   "id": "b0d0e518",
   "metadata": {},
   "outputs": [
    {
     "name": "stdout",
     "output_type": "stream",
     "text": [
      "32\n"
     ]
    }
   ],
   "source": [
    "class Cal:\n",
    "    l = 2\n",
    "    b = 4\n",
    "    h = 4\n",
    "    v = l*b*h\n",
    "    print(v)\n",
    "    \n",
    "obj = Cal()"
   ]
  },
  {
   "cell_type": "code",
   "execution_count": 3,
   "id": "310a33de",
   "metadata": {},
   "outputs": [
    {
     "name": "stdout",
     "output_type": "stream",
     "text": [
      "32\n"
     ]
    }
   ],
   "source": [
    "class Cal:\n",
    "    def volume(self):\n",
    "        l = 2\n",
    "        b = 4\n",
    "        h = 4\n",
    "        v = l*b*h\n",
    "        print(v)\n",
    "    \n",
    "obj = Cal()\n",
    "obj.volume()"
   ]
  },
  {
   "cell_type": "code",
   "execution_count": 4,
   "id": "a0a1660e",
   "metadata": {},
   "outputs": [
    {
     "name": "stdout",
     "output_type": "stream",
     "text": [
      "80\n"
     ]
    }
   ],
   "source": [
    "class Cal:\n",
    "    def volume(self,l,b,h):\n",
    "        v = l*b*h\n",
    "        print(v)\n",
    "        \n",
    "l = 4\n",
    "b = 5\n",
    "h = 4\n",
    "\n",
    "obj = Cal()\n",
    "obj.volume(l,b,h)"
   ]
  },
  {
   "cell_type": "code",
   "execution_count": 3,
   "id": "a543f8a1",
   "metadata": {},
   "outputs": [
    {
     "name": "stdout",
     "output_type": "stream",
     "text": [
      "80\n",
      "16\n"
     ]
    }
   ],
   "source": [
    "class Cal:\n",
    "    def __init__(self,l,b,h):\n",
    "        self.l = l\n",
    "        self.b = b\n",
    "        self.h = h\n",
    "        \n",
    "    def volume(self):\n",
    "        v = self.l*self.b*self.h\n",
    "        print(v)\n",
    "    def area(self):\n",
    "        a = self.l*self.b\n",
    "        print(a)\n",
    "        \n",
    "l = 4\n",
    "b = 4\n",
    "h = 5\n",
    "obj = Cal(l,b,h)\n",
    "obj.volume()\n",
    "obj.area()"
   ]
  },
  {
   "cell_type": "code",
   "execution_count": 6,
   "id": "07de9241",
   "metadata": {},
   "outputs": [
    {
     "name": "stdout",
     "output_type": "stream",
     "text": [
      "Enter l = 25\n",
      "Enter b = 25\n",
      "Enter h = 65\n"
     ]
    },
    {
     "ename": "AttributeError",
     "evalue": "'Cal' object has no attribute 'volume'",
     "output_type": "error",
     "traceback": [
      "\u001b[1;31m---------------------------------------------------------------------------\u001b[0m",
      "\u001b[1;31mAttributeError\u001b[0m                            Traceback (most recent call last)",
      "\u001b[1;32m<ipython-input-6-1aba3e23d3ea>\u001b[0m in \u001b[0;36m<module>\u001b[1;34m\u001b[0m\n\u001b[0;32m     10\u001b[0m \u001b[0mh\u001b[0m \u001b[1;33m=\u001b[0m \u001b[0mint\u001b[0m\u001b[1;33m(\u001b[0m\u001b[0minput\u001b[0m\u001b[1;33m(\u001b[0m\u001b[1;34m\"Enter h = \"\u001b[0m\u001b[1;33m)\u001b[0m\u001b[1;33m)\u001b[0m\u001b[1;33m\u001b[0m\u001b[1;33m\u001b[0m\u001b[0m\n\u001b[0;32m     11\u001b[0m \u001b[0mobj\u001b[0m \u001b[1;33m=\u001b[0m \u001b[0mCal\u001b[0m\u001b[1;33m(\u001b[0m\u001b[0ml\u001b[0m\u001b[1;33m,\u001b[0m\u001b[0mb\u001b[0m\u001b[1;33m)\u001b[0m\u001b[1;33m\u001b[0m\u001b[1;33m\u001b[0m\u001b[0m\n\u001b[1;32m---> 12\u001b[1;33m \u001b[0mx\u001b[0m \u001b[1;33m=\u001b[0m \u001b[0mobj\u001b[0m\u001b[1;33m.\u001b[0m\u001b[0mvolume\u001b[0m\u001b[1;33m(\u001b[0m\u001b[0mh\u001b[0m\u001b[1;33m)\u001b[0m\u001b[1;33m\u001b[0m\u001b[1;33m\u001b[0m\u001b[0m\n\u001b[0m\u001b[0;32m     13\u001b[0m \u001b[0my\u001b[0m \u001b[1;33m=\u001b[0m \u001b[0mobj\u001b[0m\u001b[1;33m.\u001b[0m\u001b[0marea\u001b[0m\u001b[1;33m(\u001b[0m\u001b[1;33m)\u001b[0m\u001b[1;33m\u001b[0m\u001b[1;33m\u001b[0m\u001b[0m\n\u001b[0;32m     14\u001b[0m \u001b[0mtype\u001b[0m\u001b[1;33m(\u001b[0m\u001b[0mx\u001b[0m\u001b[1;33m)\u001b[0m\u001b[1;33m,\u001b[0m\u001b[0mtype\u001b[0m\u001b[1;33m(\u001b[0m\u001b[0my\u001b[0m\u001b[1;33m)\u001b[0m\u001b[1;33m\u001b[0m\u001b[1;33m\u001b[0m\u001b[0m\n",
      "\u001b[1;31mAttributeError\u001b[0m: 'Cal' object has no attribute 'volume'"
     ]
    }
   ],
   "source": [
    "class Cal:\n",
    "    def __init__(self,l,b):\n",
    "        self.l = l\n",
    "        self.b = b\n",
    "    def __str__(self):\n",
    "        return str(self.l)\n",
    "    \n",
    "l = int(input(\"Enter l = \"))\n",
    "b = int(input(\"Enter b = \"))\n",
    "h = int(input(\"Enter h = \"))\n",
    "obj = Cal(l,b)\n",
    "x = obj.volume(h)\n",
    "y = obj.area()\n",
    "type(x),type(y)\n",
    "print(obj)"
   ]
  },
  {
   "cell_type": "code",
   "execution_count": 1,
   "id": "c694054e",
   "metadata": {},
   "outputs": [
    {
     "name": "stdout",
     "output_type": "stream",
     "text": [
      "Enter l =5\n",
      "Enter b = 56\n",
      "Enter h = 56\n",
      "{'Volume': 15680}\n"
     ]
    }
   ],
   "source": [
    "class cal:\n",
    "    def __init__(self,l,b,h):\n",
    "        self.l = l\n",
    "        self.b = b\n",
    "        self.h = h\n",
    "    def __repr__(self):\n",
    "        v = self.l*self.b*self.h\n",
    "        vo = {\"Volume\":v}\n",
    "        return vo\n",
    "l = int(int(input(\"Enter l =\")))\n",
    "b = int(int(input(\"Enter b = \")))\n",
    "h = int(int(input(\"Enter h = \")))\n",
    "obj = cal(l,b,h)\n",
    "print(obj.__repr__())"
   ]
  },
  {
   "cell_type": "code",
   "execution_count": 2,
   "id": "80c53b62",
   "metadata": {},
   "outputs": [
    {
     "name": "stdout",
     "output_type": "stream",
     "text": [
      "Enter l = 56\n",
      "Enter l = 56\n",
      "Enter l = 58\n",
      "{'Volume': 181888}\n",
      "<class 'dict'>\n"
     ]
    }
   ],
   "source": [
    "class Cal:\n",
    "    def __init__(self,l,b,h):  \n",
    "        self.l = l  \n",
    "        self.b = b\n",
    "        self.h = h\n",
    "    def __repr__(self): #for tabular \n",
    "        v = self.l*self.b*self.h\n",
    "        vo = {\"Volume\":v}\n",
    "        return vo\n",
    "    \n",
    "l = int(input(\"Enter l = \"))\n",
    "b = int(input(\"Enter l = \"))\n",
    "h = int(input(\"Enter l = \"))    \n",
    "obj = Cal(l,b,h)\n",
    "print(obj.__repr__())\n",
    "print(type(obj.__repr__()))"
   ]
  },
  {
   "cell_type": "code",
   "execution_count": 7,
   "id": "c3c53dfa",
   "metadata": {},
   "outputs": [
    {
     "ename": "TypeError",
     "evalue": "unsupported operand type(s) for -: 'Point' and 'Point'",
     "output_type": "error",
     "traceback": [
      "\u001b[1;31m---------------------------------------------------------------------------\u001b[0m",
      "\u001b[1;31mTypeError\u001b[0m                                 Traceback (most recent call last)",
      "\u001b[1;32m<ipython-input-7-0f7fb39de3d2>\u001b[0m in \u001b[0;36m<module>\u001b[1;34m\u001b[0m\n\u001b[0;32m     11\u001b[0m \u001b[0mp1\u001b[0m \u001b[1;33m=\u001b[0m \u001b[0mPoint\u001b[0m\u001b[1;33m(\u001b[0m\u001b[1;36m2\u001b[0m\u001b[1;33m,\u001b[0m\u001b[1;36m3\u001b[0m\u001b[1;33m)\u001b[0m\u001b[1;33m\u001b[0m\u001b[1;33m\u001b[0m\u001b[0m\n\u001b[0;32m     12\u001b[0m \u001b[0mp2\u001b[0m \u001b[1;33m=\u001b[0m \u001b[0mPoint\u001b[0m\u001b[1;33m(\u001b[0m\u001b[1;33m-\u001b[0m\u001b[1;36m1\u001b[0m\u001b[1;33m,\u001b[0m\u001b[1;36m2\u001b[0m\u001b[1;33m)\u001b[0m\u001b[1;33m\u001b[0m\u001b[1;33m\u001b[0m\u001b[0m\n\u001b[1;32m---> 13\u001b[1;33m \u001b[0mprint\u001b[0m\u001b[1;33m(\u001b[0m\u001b[0mp1\u001b[0m\u001b[1;33m-\u001b[0m\u001b[0mp2\u001b[0m\u001b[1;33m)\u001b[0m\u001b[1;33m\u001b[0m\u001b[1;33m\u001b[0m\u001b[0m\n\u001b[0m\u001b[0;32m     14\u001b[0m \u001b[0mprint\u001b[0m\u001b[1;33m(\u001b[0m\u001b[0mtype\u001b[0m\u001b[1;33m(\u001b[0m\u001b[1;33m(\u001b[0m\u001b[0mp1\u001b[0m\u001b[1;33m-\u001b[0m\u001b[0mp2\u001b[0m\u001b[1;33m)\u001b[0m\u001b[1;33m)\u001b[0m\u001b[1;33m)\u001b[0m\u001b[1;33m\u001b[0m\u001b[1;33m\u001b[0m\u001b[0m\n",
      "\u001b[1;31mTypeError\u001b[0m: unsupported operand type(s) for -: 'Point' and 'Point'"
     ]
    }
   ],
   "source": [
    "class Point:\n",
    "    def __init__(self,x = 0, y = 0):\n",
    "        self.x = x\n",
    "        self.y = y\n",
    "    def __str__(self):\n",
    "        return \"({0},{1})\".format(self.x,self.y) #string format\n",
    "    def __subtract__(self,other):\n",
    "        x = self.x-other.x\n",
    "        y = self.y-other.y\n",
    "        return Point(x,y)\n",
    "p1 = Point(2,3)\n",
    "p2 = Point(-1,2)\n",
    "print(p1-p2)\n",
    "print(type((p1-p2)))"
   ]
  },
  {
   "cell_type": "code",
   "execution_count": 8,
   "id": "816ecee2",
   "metadata": {},
   "outputs": [
    {
     "name": "stdout",
     "output_type": "stream",
     "text": [
      "This is init function 1000\n",
      "This is init function 2000\n",
      "This is init function 3455\n",
      "This is add method 3000\n",
      "This is init function 3000\n",
      "This is add method 6455\n",
      "This is init function 6455\n",
      "This is str method 6455\n",
      "6455\n"
     ]
    }
   ],
   "source": [
    "class Point:\n",
    "    def __init__(self,x = 0):\n",
    "        self.x = x\n",
    "        print(\"This is init function\",self.x)\n",
    "    def __str__(self):\n",
    "        print(\"This is str method\",self.x)\n",
    "        return f\"{self.x}\"\n",
    "    def __add__(self,other):\n",
    "        x = self.x+other.x\n",
    "        print(\"This is add method\",x)\n",
    "    \n",
    "        return Point(x)\n",
    "p1 = Point(1000)\n",
    "p2 = Point(2000)\n",
    "p3 = Point(3455)\n",
    "print(p1+p2+p3)"
   ]
  },
  {
   "cell_type": "code",
   "execution_count": 9,
   "id": "308c26ba",
   "metadata": {},
   "outputs": [
    {
     "name": "stdout",
     "output_type": "stream",
     "text": [
      "6455\n"
     ]
    }
   ],
   "source": [
    "class Point:\n",
    "    def __init__(self,x = 0):\n",
    "        self.x = x\n",
    "        \n",
    "    def __str__(self):\n",
    "        return f\"{self.x}\"\n",
    "    def __add__(self,other):\n",
    "        x = self.x+other.x\n",
    "            \n",
    "        return Point(x)\n",
    "p1 = Point(1000)\n",
    "p2 = Point(2000)\n",
    "p3 = Point(3455)  #for dynamic programme\n",
    "print(p1+p2+p3)"
   ]
  },
  {
   "cell_type": "code",
   "execution_count": 10,
   "id": "69d63a1a",
   "metadata": {},
   "outputs": [
    {
     "name": "stdout",
     "output_type": "stream",
     "text": [
      "Parrot can fly\n",
      "Penguin can't fly\n"
     ]
    }
   ],
   "source": [
    "class Parrot:\n",
    "    def fly(self): #polymerphism\n",
    "        print(\"Parrot can fly\")\n",
    "    def swim(self):\n",
    "        print(\"Parrot can't swim\")\n",
    "        \n",
    "class Penguin:\n",
    "    def fly(self):\n",
    "        print(\"Penguin can't fly\")\n",
    "    def swim(self):\n",
    "        print(\"Penguin can swim\")\n",
    "        \n",
    "#common interface\n",
    "def flying_test(bird):\n",
    "    bird.fly()\n",
    "#instantiate objects\n",
    "blu = Parrot()\n",
    "peggy = Penguin()\n",
    "#passing the object\n",
    "flying_test(blu)\n",
    "flying_test(peggy)"
   ]
  },
  {
   "cell_type": "code",
   "execution_count": 11,
   "id": "d7ca8d83",
   "metadata": {},
   "outputs": [],
   "source": [
    "class A:\n",
    "    pass\n",
    "class B(A):\n",
    "    pass\n",
    "obj = B()"
   ]
  },
  {
   "cell_type": "code",
   "execution_count": 12,
   "id": "7e45b06c",
   "metadata": {},
   "outputs": [
    {
     "name": "stdout",
     "output_type": "stream",
     "text": [
      "Enter l = 5\n",
      "Enter b = 6\n",
      "The area is  30\n"
     ]
    }
   ],
   "source": [
    "class Profile: #inteheritance arko class bat copy\n",
    "    def __init__(self):\n",
    "        self.l = int(input(\"Enter l = \"))\n",
    "        self.b = int(input(\"Enter b = \"))\n",
    "        self.a = self.l*self.b\n",
    "        \n",
    "class Hr(Profile):\n",
    "    def area(self):\n",
    "        print(\"The area is \",self.a)\n",
    "obj = Hr()\n",
    "obj.area()"
   ]
  },
  {
   "cell_type": "code",
   "execution_count": 13,
   "id": "e5896290",
   "metadata": {},
   "outputs": [
    {
     "name": "stdout",
     "output_type": "stream",
     "text": [
      "Enter l = 4\n",
      "Enter b = 54\n",
      "The volume is  2160\n"
     ]
    }
   ],
   "source": [
    "class area: #inteheritance arko class bat copy\n",
    "    def __init__(self):\n",
    "        self.l = int(input(\"Enter l = \"))\n",
    "        self.b = int(input(\"Enter b = \"))\n",
    "        self.a = self.l*self.b\n",
    "        \n",
    "class volume(Profile):\n",
    "    def __init__(self,h): #talko h initialize\n",
    "        self.h = h\n",
    "        area.__init__(self) #copy from above\n",
    "    def volume(self):\n",
    "        v = self.a*self.h\n",
    "        print(\"The volume is \",v)\n",
    "obj = volume(10)\n",
    "obj.volume()"
   ]
  },
  {
   "cell_type": "code",
   "execution_count": 3,
   "id": "3fd06fa8",
   "metadata": {},
   "outputs": [
    {
     "name": "stdout",
     "output_type": "stream",
     "text": [
      "Ram\n",
      "34\n"
     ]
    }
   ],
   "source": [
    "class A:\n",
    "    def __init__(self,add):\n",
    "        self.add = add\n",
    "class B(A):\n",
    "    def __init__(self,age,add):\n",
    "        self.age = age\n",
    "        A.__init__(self,add)\n",
    "class C(B):\n",
    "    def __init__(self,name,age,add):\n",
    "        self.name = name\n",
    "        B.__init__(self,age,add)\n",
    "obj = C(\"Ram\",34,\"Kathmandu\")\n",
    "print(obj.name)\n",
    "print(obj.age)"
   ]
  },
  {
   "cell_type": "code",
   "execution_count": 4,
   "id": "0d441156",
   "metadata": {},
   "outputs": [
    {
     "name": "stdout",
     "output_type": "stream",
     "text": [
      "Ram\n",
      "23\n",
      "Kathmandu\n"
     ]
    }
   ],
   "source": [
    "class A:\n",
    "    def __init__(self,add):\n",
    "        self.add = add\n",
    "class B:\n",
    "    def __init__(self,age):\n",
    "        self.age = age\n",
    "class C(A,B):\n",
    "    def __init__(self,name,age,add):\n",
    "        self.name = name\n",
    "        B.__init__(self,age)\n",
    "        A.__init__(self,add)\n",
    "obj = C(\"Ram\",23,\"Kathmandu\")\n",
    "print(obj.name)\n",
    "print(obj.age)\n",
    "print(obj.add)"
   ]
  },
  {
   "cell_type": "code",
   "execution_count": 5,
   "id": "c29cb23f",
   "metadata": {},
   "outputs": [
    {
     "name": "stdout",
     "output_type": "stream",
     "text": [
      "Enter name = ram\n",
      "Enter age25\n",
      "Enter add = kathmandu\n",
      "ram\n",
      "25\n",
      "kathmandu\n"
     ]
    }
   ],
   "source": [
    "class A:\n",
    "    def __init__(self):\n",
    "        self.add = input(\"Enter add = \")\n",
    "class B:\n",
    "    def __init__(self):\n",
    "        self.age = int(input(\"Enter age\"))\n",
    "class C(A,B):\n",
    "    def __init__(self):\n",
    "        self.name = input(\"Enter name = \")\n",
    "        B. __init__(self)\n",
    "        A. __init__(self)\n",
    "obj = C()\n",
    "print(obj.name)\n",
    "print(obj.age)\n",
    "print(obj.add)"
   ]
  },
  {
   "cell_type": "code",
   "execution_count": 6,
   "id": "4defa987",
   "metadata": {},
   "outputs": [
    {
     "name": "stdout",
     "output_type": "stream",
     "text": [
      "Ram\n",
      "23\n",
      "Kathmandu\n"
     ]
    }
   ],
   "source": [
    "class profile:\n",
    "    def __init__(self):\n",
    "        self.name = \"Ram\"\n",
    "        self.age = 23\n",
    "        self.add = \"Kathmandu\"\n",
    "obj = profile()\n",
    "print(obj.name)\n",
    "print(obj.age)\n",
    "print(obj.add)"
   ]
  },
  {
   "cell_type": "code",
   "execution_count": 8,
   "id": "00ec32d8",
   "metadata": {},
   "outputs": [
    {
     "name": "stdout",
     "output_type": "stream",
     "text": [
      "Ram\n",
      "23\n",
      "Kathmandu\n"
     ]
    }
   ],
   "source": [
    "class profile:\n",
    "    def __init__(self):\n",
    "        self._name = \"Ram\"\n",
    "        self._age = 23\n",
    "        self._add = \"Kathmandu\"\n",
    "obj = profile()\n",
    "print(obj._name)\n",
    "print(obj._age)\n",
    "print(obj._add)"
   ]
  },
  {
   "cell_type": "code",
   "execution_count": 10,
   "id": "13129e2d",
   "metadata": {},
   "outputs": [
    {
     "name": "stdout",
     "output_type": "stream",
     "text": [
      "Ram\n",
      "23\n",
      "Kathmandu\n"
     ]
    }
   ],
   "source": [
    "class profile:\n",
    "    def __init__(self):\n",
    "        self.__name = \"Ram\"\n",
    "        self.__age = 23\n",
    "        self.__add = \"Kathmandu\"\n",
    "obj = profile()\n",
    "print(obj._profile__name)\n",
    "print(obj._profile__age)\n",
    "print(obj._profile__add)"
   ]
  },
  {
   "cell_type": "code",
   "execution_count": 11,
   "id": "7826fac3",
   "metadata": {},
   "outputs": [
    {
     "name": "stdout",
     "output_type": "stream",
     "text": [
      "Enter name =2\n",
      "Enter age =5\n",
      "Enter add =5\n",
      "2\n",
      "Hello I am {self.name}. Iam from{self._add}. Iam {self.ag}\n"
     ]
    }
   ],
   "source": [
    "class A: \n",
    "    def __init__(self):\n",
    "        self._add = input(\"Enter add =\")\n",
    "class B:\n",
    "    def __init__(self):\n",
    "        self.__age = int(input(\"Enter age =\"))\n",
    "        self.ag = 23\n",
    "        \n",
    "class C(A,B):\n",
    "    def __init__(self):\n",
    "        self.name = input(\"Enter name =\")\n",
    "        B. __init__(self)\n",
    "        A. __init__(self)\n",
    "    def info(self):\n",
    "        print(\"Hello I am {self.name}. Iam from{self._add}. Iam {self.ag}\")\n",
    "obj = C()\n",
    "print(obj.name)\n",
    "obj.info()"
   ]
  },
  {
   "cell_type": "code",
   "execution_count": 12,
   "id": "b346ea15",
   "metadata": {},
   "outputs": [
    {
     "name": "stdout",
     "output_type": "stream",
     "text": [
      "Enter l = 25\n",
      "Enter b = 52\n",
      "The area is  1300\n"
     ]
    }
   ],
   "source": [
    "#super function\n",
    "class Profile: \n",
    "    def __init__(self):\n",
    "        self.l = int(input(\"Enter l = \"))\n",
    "        self.b = int(input(\"Enter b = \"))\n",
    "        self.a = self.l*self.b\n",
    "    def area(self):\n",
    "        a = self.l*self.b\n",
    "        return a\n",
    "        \n",
    "class Hr(Profile):\n",
    "    def area(self):\n",
    "        ar = super().area()\n",
    "        print(\"The area is \",ar)\n",
    "obj = Hr()\n",
    "obj.area()"
   ]
  },
  {
   "cell_type": "code",
   "execution_count": 1,
   "id": "0141300c",
   "metadata": {},
   "outputs": [
    {
     "name": "stdout",
     "output_type": "stream",
     "text": [
      "Hello world\n"
     ]
    }
   ],
   "source": [
    "class hello:\n",
    "    print(\"Hello world\")\n",
    "obj = hello()"
   ]
  },
  {
   "cell_type": "code",
   "execution_count": 4,
   "id": "7a994b4c",
   "metadata": {},
   "outputs": [],
   "source": [
    "class cal:\n",
    "    l = 4\n",
    "    b = 5\n",
    "    h = 5\n",
    "    v = l*b*h\n",
    "    \n",
    "obj = cal()"
   ]
  },
  {
   "cell_type": "code",
   "execution_count": 7,
   "id": "6ae6ed30",
   "metadata": {},
   "outputs": [
    {
     "name": "stdout",
     "output_type": "stream",
     "text": [
      "100\n"
     ]
    }
   ],
   "source": [
    "class Cal:\n",
    "    def volume(self):\n",
    "        l = 4\n",
    "        b = 5\n",
    "        h = 5\n",
    "        v = l*b*h\n",
    "        print(v)\n",
    "obj = Cal()\n",
    "obj.volume()"
   ]
  },
  {
   "cell_type": "code",
   "execution_count": 8,
   "id": "65ca17a5",
   "metadata": {},
   "outputs": [
    {
     "name": "stdout",
     "output_type": "stream",
     "text": [
      "120\n"
     ]
    }
   ],
   "source": [
    "class Cal:\n",
    "    def volume(self,l,b,h):\n",
    "        v = l*b*h\n",
    "        print(v)\n",
    "l = 4\n",
    "b = 5\n",
    "h = 6\n",
    "obj = Cal()\n",
    "obj.volume(l,b,h)"
   ]
  },
  {
   "cell_type": "code",
   "execution_count": 9,
   "id": "c7e95f78",
   "metadata": {},
   "outputs": [
    {
     "name": "stdout",
     "output_type": "stream",
     "text": [
      "80\n",
      "20\n"
     ]
    }
   ],
   "source": [
    "class Cal:\n",
    "    def volume(self,l,b,h):\n",
    "        v = l*b*h\n",
    "        print(v)\n",
    "    def area(self,l,b):\n",
    "        a = l*b\n",
    "        print(a)\n",
    "l = 4\n",
    "b = 5\n",
    "h = 4\n",
    "obj = Cal()\n",
    "obj.volume(l,b,h)\n",
    "obj.area(l,b)"
   ]
  },
  {
   "cell_type": "code",
   "execution_count": 11,
   "id": "6b504d9c",
   "metadata": {},
   "outputs": [
    {
     "name": "stdout",
     "output_type": "stream",
     "text": [
      "120\n",
      "20\n"
     ]
    }
   ],
   "source": [
    "class cal:\n",
    "    def __init__(self,l,b,h):\n",
    "        self.l = l\n",
    "        self.b = b\n",
    "        self.h = h\n",
    "    def volume(self):\n",
    "        v = self.l*self.b*self.h\n",
    "        print(v)\n",
    "    def area(self):\n",
    "        a = self.l*self.b\n",
    "        print(a)\n",
    "l = 4\n",
    "b = 5\n",
    "h = 6\n",
    "obj = cal(l,b,h)\n",
    "obj.volume()\n",
    "obj.area()"
   ]
  },
  {
   "cell_type": "code",
   "execution_count": 14,
   "id": "d04e7652",
   "metadata": {},
   "outputs": [
    {
     "name": "stdout",
     "output_type": "stream",
     "text": [
      "Enter l = 5\n",
      "Enter b = 5\n",
      "Enter h = 5\n",
      "200\n",
      "40\n",
      "125\n",
      "25\n"
     ]
    }
   ],
   "source": [
    "class cal:\n",
    "    def __init__(self,l,b,h):\n",
    "        self.l = l\n",
    "        self.b = b\n",
    "        self.h = h\n",
    "    def volume(self):\n",
    "        v = self.l*self.b*self.h\n",
    "        print(v)\n",
    "    def area(self):\n",
    "        a = self.l*self.b\n",
    "        print(a)\n",
    "l = int(input(\"Enter l = \"))\n",
    "b = int(input(\"Enter b = \"))\n",
    "h = int(input(\"Enter h = \"))\n",
    "obj = cal(l,b,h)\n",
    "obj1 = cal(10,4,5)\n",
    "obj1.volume()\n",
    "obj1.area()\n",
    "obj.volume()\n",
    "obj.area()"
   ]
  },
  {
   "cell_type": "code",
   "execution_count": 15,
   "id": "ba035260",
   "metadata": {},
   "outputs": [
    {
     "name": "stdout",
     "output_type": "stream",
     "text": [
      "Enter l = 5\n",
      "Enter l = 5\n",
      "Enter l = 5\n",
      "125\n",
      "25\n"
     ]
    }
   ],
   "source": [
    "class Cal:\n",
    "    def __init__(self,l,b):  #constructor automatc initialization\n",
    "        self.l = l #aghadi j vayeni paxadi same \n",
    "        self.b = b\n",
    "                \n",
    "    def volume(self,h): #\n",
    "        v = self.l*self.b*h\n",
    "        print(v)\n",
    "    def area(self):\n",
    "        a = self.l*self.b\n",
    "        print(a)\n",
    "l = int(input(\"Enter l = \"))\n",
    "b = int(input(\"Enter l = \"))\n",
    "h = int(input(\"Enter l = \"))    \n",
    "obj = Cal(l,b)\n",
    "obj.volume(h)  \n",
    "obj.area()"
   ]
  },
  {
   "cell_type": "code",
   "execution_count": 16,
   "id": "c4948cb9",
   "metadata": {},
   "outputs": [
    {
     "name": "stdout",
     "output_type": "stream",
     "text": [
      "Enter l = 5\n",
      "Enter b = 6\n",
      "Enter h = 5\n",
      "150\n",
      "30\n"
     ]
    }
   ],
   "source": [
    "class cal:\n",
    "    def __init__(self,l,b):\n",
    "        self.l = l\n",
    "        self.b = b\n",
    "    def volume(self,h):\n",
    "        v= self.l*self.b*h\n",
    "        return v\n",
    "    def area(self):\n",
    "        a = self.l*self.b\n",
    "        return a\n",
    "l = int(input(\"Enter l = \"))\n",
    "b = int(input(\"Enter b = \"))\n",
    "h = int(input(\"Enter h = \"))\n",
    "obj = cal(l,b)\n",
    "print(obj.volume(h))\n",
    "print(obj.area())"
   ]
  },
  {
   "cell_type": "code",
   "execution_count": 17,
   "id": "8d68282d",
   "metadata": {},
   "outputs": [
    {
     "name": "stdout",
     "output_type": "stream",
     "text": [
      "Enter l = 5\n",
      "Enter l = 5\n",
      "Enter l = 5\n"
     ]
    },
    {
     "data": {
      "text/plain": [
       "(int, int)"
      ]
     },
     "execution_count": 17,
     "metadata": {},
     "output_type": "execute_result"
    }
   ],
   "source": [
    "class Cal:\n",
    "    def __init__(self,l,b):  \n",
    "        self.l = l  \n",
    "        self.b = b\n",
    "                \n",
    "    def volume(self,h): \n",
    "        v = self.l*self.b*h\n",
    "        return v\n",
    "    \n",
    "    def area(self):\n",
    "        a = self.l*self.b\n",
    "        return a\n",
    "    \n",
    "l = int(input(\"Enter l = \"))\n",
    "b = int(input(\"Enter l = \"))\n",
    "h = int(input(\"Enter l = \"))    \n",
    "obj = Cal(l,b)\n",
    "x = obj.volume(h)\n",
    "y = obj.area()\n",
    "type(x),type(y)"
   ]
  },
  {
   "cell_type": "code",
   "execution_count": 18,
   "id": "0112a919",
   "metadata": {},
   "outputs": [
    {
     "name": "stdout",
     "output_type": "stream",
     "text": [
      "Enter l = 5\n",
      "Enter b = 6\n",
      "Enter h = 5\n",
      "5\n"
     ]
    }
   ],
   "source": [
    "class cal:\n",
    "    def __init__(self,l,b,h):\n",
    "        self.l = l\n",
    "        self.b = b\n",
    "        self.h = h\n",
    "    def __str__(self):\n",
    "        return str(self.l)\n",
    "l = int(input(\"Enter l = \"))\n",
    "b = int(input(\"Enter b = \"))\n",
    "h = int(input(\"Enter h = \"))\n",
    "obj = cal(l,b,h)\n",
    "print(obj)"
   ]
  },
  {
   "cell_type": "code",
   "execution_count": 21,
   "id": "952af0d8",
   "metadata": {},
   "outputs": [
    {
     "name": "stdout",
     "output_type": "stream",
     "text": [
      "Enter l = 5\n",
      "Enter b = 6\n",
      "Enter h = 8\n",
      "240\n",
      "<class '__main__.cal'>\n"
     ]
    }
   ],
   "source": [
    "class cal:\n",
    "    def __init__(self,l,b,h):\n",
    "        self.l = l\n",
    "        self.b = b\n",
    "        self.h = h\n",
    "    def __str__(self):\n",
    "        v = self.l*self.b*self.h\n",
    "        return str(v)\n",
    "l = int(input(\"Enter l = \"))\n",
    "b = int(input(\"Enter b = \"))\n",
    "h = int(input(\"Enter h = \"))\n",
    "obj = cal(l,b,h)\n",
    "print(obj)\n",
    "print(type(obj))"
   ]
  },
  {
   "cell_type": "code",
   "execution_count": 23,
   "id": "4e4bff23",
   "metadata": {},
   "outputs": [
    {
     "name": "stdout",
     "output_type": "stream",
     "text": [
      "Enter l = 5\n",
      "Enter b = 5\n",
      "Enter h = 5\n",
      "125 object\n",
      "<class '__main__.cal'>\n"
     ]
    }
   ],
   "source": [
    "class cal:\n",
    "    def __init__(self,l,b,h):\n",
    "        self.l = l\n",
    "        self.b = b\n",
    "        self.h = h\n",
    "    def __str__(self):\n",
    "        v = self.l*self.b*self.h\n",
    "        return str(v)\n",
    "l = int(input(\"Enter l = \"))\n",
    "b = int(input(\"Enter b = \"))\n",
    "h = int(input(\"Enter h = \"))\n",
    "obj = cal(l,b,h)\n",
    "print(str(obj)+\" object\")\n",
    "print(type(obj))"
   ]
  },
  {
   "cell_type": "code",
   "execution_count": 31,
   "id": "541468ab",
   "metadata": {},
   "outputs": [
    {
     "name": "stdout",
     "output_type": "stream",
     "text": [
      "Enter l = 5\n",
      "Enter b = 5\n",
      "Enter h = 5\n",
      "{'Volume': 125}\n",
      "<class 'dict'>\n"
     ]
    }
   ],
   "source": [
    "class cal:\n",
    "    def __init__(self,l,b,h):\n",
    "        self.l = l\n",
    "        self.b = b\n",
    "        self.h = h\n",
    "    def __repr__(self):\n",
    "        v = self.l*self.b*self.h\n",
    "        vo = {\"Volume\":v}\n",
    "        return vo\n",
    "l = int(input(\"Enter l = \"))\n",
    "b = int(input(\"Enter b = \"))\n",
    "h = int(input(\"Enter h = \"))\n",
    "obj = cal(l,b,h)\n",
    "print(obj.__repr__())\n",
    "print(type(obj.__repr__()))"
   ]
  },
  {
   "cell_type": "code",
   "execution_count": 32,
   "id": "cef755dd",
   "metadata": {},
   "outputs": [
    {
     "name": "stdout",
     "output_type": "stream",
     "text": [
      "(1,7)\n"
     ]
    }
   ],
   "source": [
    "class point:\n",
    "    def __init__(self,x = 0, y = 0):\n",
    "        self.x = x\n",
    "        self.y = y\n",
    "    def __str__(self):\n",
    "        return \"({0},{1})\".format(self.x,self.y)\n",
    "    def __add__(self,other):\n",
    "        x = self.x+other.x\n",
    "        y = self.y+other.y\n",
    "        return point(x,y)\n",
    "p1 = point(2,3)\n",
    "p2 = point(-1,4)\n",
    "print(p1+p2)"
   ]
  },
  {
   "cell_type": "code",
   "execution_count": 33,
   "id": "536cb2b8",
   "metadata": {},
   "outputs": [
    {
     "name": "stdout",
     "output_type": "stream",
     "text": [
      "09\n"
     ]
    }
   ],
   "source": [
    "class point:\n",
    "    def __init__(self,x = 0, y = 0):\n",
    "        self.x = x\n",
    "        self.y = y\n",
    "    def __str__(self):\n",
    "        return f\"{self.x}{self.y}\"\n",
    "    def __add__(self,other):\n",
    "        x = self.x+other.x\n",
    "        y = self.y+other.y\n",
    "        return point(x,y)\n",
    "p1 = point(3,4)\n",
    "p2 = point(-3,5)\n",
    "print(p1+p2)"
   ]
  },
  {
   "cell_type": "code",
   "execution_count": 34,
   "id": "8e5e34ab",
   "metadata": {},
   "outputs": [
    {
     "name": "stdout",
     "output_type": "stream",
     "text": [
      "This is init function 2222\n",
      "This is init function 33344\n",
      "This is init function 34644\n",
      "This is add method 35566\n",
      "This is init function 35566\n",
      "This is add method 70210\n",
      "This is init function 70210\n",
      "This is str method 70210\n",
      "70210\n"
     ]
    }
   ],
   "source": [
    "class point:\n",
    "    def __init__(self,x = 0):\n",
    "        self.x = x\n",
    "        print(\"This is init function\",self.x)\n",
    "    def __str__(self):\n",
    "        print(\"This is str method\",self.x)\n",
    "        return f\"{self.x}\"\n",
    "    def __add__(self,other):\n",
    "        x = self.x+other.x\n",
    "        print(\"This is add method\",x)\n",
    "        \n",
    "        return point(x)\n",
    "p1 = point(2222)\n",
    "p2 = point(33344)\n",
    "p3 = point(34644)\n",
    "print(p1+p2+p3)"
   ]
  },
  {
   "cell_type": "code",
   "execution_count": 39,
   "id": "ea98944e",
   "metadata": {},
   "outputs": [
    {
     "name": "stdout",
     "output_type": "stream",
     "text": [
      "parrot can fly\n",
      "Penguin can't fly\n"
     ]
    }
   ],
   "source": [
    "class Parrot:\n",
    "    def fly(self):\n",
    "        print(\"parrot can fly\")\n",
    "    def swim(self):\n",
    "        print(\"parrot can't swim\")\n",
    "class Penguin:\n",
    "    def fly(self):\n",
    "        print(\"Penguin can't fly\")\n",
    "    def swim(self):\n",
    "        print(\"Penguin can swim\")\n",
    "def flying_test(bird):\n",
    "    bird.fly()\n",
    "blu = Parrot()\n",
    "peggy = Penguin()\n",
    "\n",
    "flying_test(blu)\n",
    "flying_test(peggy)"
   ]
  },
  {
   "cell_type": "code",
   "execution_count": 40,
   "id": "e04efe87",
   "metadata": {},
   "outputs": [
    {
     "name": "stdout",
     "output_type": "stream",
     "text": [
      "Enter l 5\n",
      "Enter b = 5\n",
      "Enter h = 4\n",
      "The area is  25\n"
     ]
    }
   ],
   "source": [
    "class profile:\n",
    "    def __init__(self):\n",
    "        self.l = int(input(\"Enter l \"))\n",
    "        self.b = int(input(\"Enter b = \"))\n",
    "        self.h = int(input(\"Enter h = \"))\n",
    "        self.a = self.l*self.b\n",
    "class hr(profile):\n",
    "    def area(self):\n",
    "        print(\"The area is \",self.a)\n",
    "obj = hr()\n",
    "obj.area()"
   ]
  },
  {
   "cell_type": "code",
   "execution_count": 41,
   "id": "c71517b9",
   "metadata": {},
   "outputs": [
    {
     "name": "stdout",
     "output_type": "stream",
     "text": [
      "Enter l 5\n",
      "Enter b = 5\n",
      "Enter h = 5\n",
      "This volume is 125\n"
     ]
    }
   ],
   "source": [
    "class profile:\n",
    "    def __init__(self):\n",
    "        self.l = int(input(\"Enter l \"))\n",
    "        self.b = int(input(\"Enter b = \"))\n",
    "        self.h = int(input(\"Enter h = \"))\n",
    "        self.a = self.l*self.b\n",
    "class volume(profile):\n",
    "    def volume(self):\n",
    "        v = self.a*self.h\n",
    "        print(\"This volume is\",v)\n",
    "obj = volume()\n",
    "obj.volume()"
   ]
  },
  {
   "cell_type": "code",
   "execution_count": 48,
   "id": "a70356c0",
   "metadata": {},
   "outputs": [
    {
     "name": "stdout",
     "output_type": "stream",
     "text": [
      "Ram\n",
      "34\n",
      "Kathmandu\n"
     ]
    }
   ],
   "source": [
    "class A:\n",
    "    def __init__(self,add):\n",
    "        self.add =add\n",
    "class B:\n",
    "    def __init__(self,age):\n",
    "        self.age = age\n",
    "        \n",
    "class C(B,A):\n",
    "    def __init__(self,name,age,add):\n",
    "        self.name = name\n",
    "        B.__init__(self,age)\n",
    "        A.__init__(self,add)\n",
    "obj = C(\"Ram\",34,\"Kathmandu\")\n",
    "print(obj.name)\n",
    "print(obj.age)\n",
    "print(obj.add)"
   ]
  },
  {
   "cell_type": "code",
   "execution_count": 49,
   "id": "ed4b0a27",
   "metadata": {},
   "outputs": [
    {
     "name": "stdout",
     "output_type": "stream",
     "text": [
      "Ramm\n",
      "23\n",
      "Kathmandu\n"
     ]
    }
   ],
   "source": [
    "# private__\n",
    "class Profile:\n",
    "    def __init__(self):\n",
    "        self.__name = \"Ramm\"\n",
    "        self.__age= 23\n",
    "        self.__add = \"Kathmandu\"\n",
    "obj = Profile()\n",
    "print(obj._Profile__name) #for debuging purpose only\n",
    "print(obj._Profile__age)\n",
    "print(obj._Profile__add)"
   ]
  },
  {
   "cell_type": "code",
   "execution_count": 3,
   "id": "8589cbb1",
   "metadata": {},
   "outputs": [
    {
     "ename": "FileExistsError",
     "evalue": "[Errno 17] File exists: 'data.csv'",
     "output_type": "error",
     "traceback": [
      "\u001b[1;31m---------------------------------------------------------------------------\u001b[0m",
      "\u001b[1;31mFileExistsError\u001b[0m                           Traceback (most recent call last)",
      "\u001b[1;32m<ipython-input-3-5063722b8ccb>\u001b[0m in \u001b[0;36m<module>\u001b[1;34m\u001b[0m\n\u001b[1;32m----> 1\u001b[1;33m \u001b[0mb\u001b[0m \u001b[1;33m=\u001b[0m \u001b[0mopen\u001b[0m\u001b[1;33m(\u001b[0m\u001b[1;34m\"data.csv\"\u001b[0m\u001b[1;33m,\u001b[0m\u001b[1;34m\"x\"\u001b[0m\u001b[1;33m)\u001b[0m\u001b[1;33m\u001b[0m\u001b[1;33m\u001b[0m\u001b[0m\n\u001b[0m\u001b[0;32m      2\u001b[0m \u001b[0mb\u001b[0m\u001b[1;33m.\u001b[0m\u001b[0mclose\u001b[0m\u001b[1;33m(\u001b[0m\u001b[1;33m)\u001b[0m\u001b[1;33m\u001b[0m\u001b[1;33m\u001b[0m\u001b[0m\n",
      "\u001b[1;31mFileExistsError\u001b[0m: [Errno 17] File exists: 'data.csv'"
     ]
    }
   ],
   "source": [
    "b = open(\"data.csv\",\"x\")\n",
    "b.close()"
   ]
  },
  {
   "cell_type": "code",
   "execution_count": 6,
   "id": "6e044f95",
   "metadata": {},
   "outputs": [
    {
     "name": "stdout",
     "output_type": "stream",
     "text": [
      "SN,Name,Age,Address\n",
      "1,Ram,23,Kathmandu\n",
      "2,Shyam,45,Bara\n",
      "3,Nabin,54,Pokhara\n",
      "4,Santosh,45,Slolu\n",
      "5,Aayush,64,KTM\n",
      "6,Hari,43,Jhapa\n"
     ]
    }
   ],
   "source": [
    "b = open('data.csv','r')\n",
    "print(b.read())\n",
    "b.close()"
   ]
  },
  {
   "cell_type": "code",
   "execution_count": 7,
   "id": "f168d101",
   "metadata": {},
   "outputs": [
    {
     "data": {
      "text/html": [
       "<div>\n",
       "<style scoped>\n",
       "    .dataframe tbody tr th:only-of-type {\n",
       "        vertical-align: middle;\n",
       "    }\n",
       "\n",
       "    .dataframe tbody tr th {\n",
       "        vertical-align: top;\n",
       "    }\n",
       "\n",
       "    .dataframe thead th {\n",
       "        text-align: right;\n",
       "    }\n",
       "</style>\n",
       "<table border=\"1\" class=\"dataframe\">\n",
       "  <thead>\n",
       "    <tr style=\"text-align: right;\">\n",
       "      <th></th>\n",
       "      <th>SN</th>\n",
       "      <th>Name</th>\n",
       "      <th>Age</th>\n",
       "      <th>Address</th>\n",
       "    </tr>\n",
       "  </thead>\n",
       "  <tbody>\n",
       "    <tr>\n",
       "      <th>0</th>\n",
       "      <td>1</td>\n",
       "      <td>Ram</td>\n",
       "      <td>23</td>\n",
       "      <td>Kathmandu</td>\n",
       "    </tr>\n",
       "    <tr>\n",
       "      <th>1</th>\n",
       "      <td>2</td>\n",
       "      <td>Shyam</td>\n",
       "      <td>45</td>\n",
       "      <td>Bara</td>\n",
       "    </tr>\n",
       "    <tr>\n",
       "      <th>2</th>\n",
       "      <td>3</td>\n",
       "      <td>Nabin</td>\n",
       "      <td>54</td>\n",
       "      <td>Pokhara</td>\n",
       "    </tr>\n",
       "    <tr>\n",
       "      <th>3</th>\n",
       "      <td>4</td>\n",
       "      <td>Santosh</td>\n",
       "      <td>45</td>\n",
       "      <td>Slolu</td>\n",
       "    </tr>\n",
       "    <tr>\n",
       "      <th>4</th>\n",
       "      <td>5</td>\n",
       "      <td>Aayush</td>\n",
       "      <td>64</td>\n",
       "      <td>KTM</td>\n",
       "    </tr>\n",
       "    <tr>\n",
       "      <th>5</th>\n",
       "      <td>6</td>\n",
       "      <td>Hari</td>\n",
       "      <td>43</td>\n",
       "      <td>Jhapa</td>\n",
       "    </tr>\n",
       "  </tbody>\n",
       "</table>\n",
       "</div>"
      ],
      "text/plain": [
       "   SN     Name  Age    Address\n",
       "0   1      Ram   23  Kathmandu\n",
       "1   2    Shyam   45       Bara\n",
       "2   3    Nabin   54    Pokhara\n",
       "3   4  Santosh   45      Slolu\n",
       "4   5   Aayush   64        KTM\n",
       "5   6     Hari   43      Jhapa"
      ]
     },
     "execution_count": 7,
     "metadata": {},
     "output_type": "execute_result"
    }
   ],
   "source": [
    "import pandas as pd\n",
    "df = pd.read_csv(\"data.csv\")\n",
    "df"
   ]
  },
  {
   "cell_type": "code",
   "execution_count": 1,
   "id": "4f8d82db",
   "metadata": {},
   "outputs": [
    {
     "data": {
      "text/html": [
       "<div>\n",
       "<style scoped>\n",
       "    .dataframe tbody tr th:only-of-type {\n",
       "        vertical-align: middle;\n",
       "    }\n",
       "\n",
       "    .dataframe tbody tr th {\n",
       "        vertical-align: top;\n",
       "    }\n",
       "\n",
       "    .dataframe thead th {\n",
       "        text-align: right;\n",
       "    }\n",
       "</style>\n",
       "<table border=\"1\" class=\"dataframe\">\n",
       "  <thead>\n",
       "    <tr style=\"text-align: right;\">\n",
       "      <th></th>\n",
       "      <th>SN</th>\n",
       "      <th>Name</th>\n",
       "      <th>Age</th>\n",
       "      <th>Address</th>\n",
       "    </tr>\n",
       "  </thead>\n",
       "  <tbody>\n",
       "    <tr>\n",
       "      <th>0</th>\n",
       "      <td>1</td>\n",
       "      <td>Ram</td>\n",
       "      <td>23</td>\n",
       "      <td>Kathmandu</td>\n",
       "    </tr>\n",
       "    <tr>\n",
       "      <th>1</th>\n",
       "      <td>2</td>\n",
       "      <td>Shyam</td>\n",
       "      <td>45</td>\n",
       "      <td>Bara</td>\n",
       "    </tr>\n",
       "    <tr>\n",
       "      <th>2</th>\n",
       "      <td>3</td>\n",
       "      <td>Nabin</td>\n",
       "      <td>54</td>\n",
       "      <td>Pokhara</td>\n",
       "    </tr>\n",
       "    <tr>\n",
       "      <th>3</th>\n",
       "      <td>4</td>\n",
       "      <td>Santosh</td>\n",
       "      <td>45</td>\n",
       "      <td>Slolu</td>\n",
       "    </tr>\n",
       "    <tr>\n",
       "      <th>4</th>\n",
       "      <td>5</td>\n",
       "      <td>Aayush</td>\n",
       "      <td>64</td>\n",
       "      <td>KTM</td>\n",
       "    </tr>\n",
       "  </tbody>\n",
       "</table>\n",
       "</div>"
      ],
      "text/plain": [
       "   SN     Name  Age    Address\n",
       "0   1      Ram   23  Kathmandu\n",
       "1   2    Shyam   45       Bara\n",
       "2   3    Nabin   54    Pokhara\n",
       "3   4  Santosh   45      Slolu\n",
       "4   5   Aayush   64        KTM"
      ]
     },
     "execution_count": 1,
     "metadata": {},
     "output_type": "execute_result"
    }
   ],
   "source": [
    "import pandas as pd\n",
    "df = pd.read_csv(\"data.csv\",nrows = 5)\n",
    "df"
   ]
  },
  {
   "cell_type": "code",
   "execution_count": 2,
   "id": "475e2e39",
   "metadata": {},
   "outputs": [
    {
     "data": {
      "text/html": [
       "<div>\n",
       "<style scoped>\n",
       "    .dataframe tbody tr th:only-of-type {\n",
       "        vertical-align: middle;\n",
       "    }\n",
       "\n",
       "    .dataframe tbody tr th {\n",
       "        vertical-align: top;\n",
       "    }\n",
       "\n",
       "    .dataframe thead th {\n",
       "        text-align: right;\n",
       "    }\n",
       "</style>\n",
       "<table border=\"1\" class=\"dataframe\">\n",
       "  <thead>\n",
       "    <tr style=\"text-align: right;\">\n",
       "      <th></th>\n",
       "      <th>SN</th>\n",
       "      <th>Name</th>\n",
       "      <th>Age</th>\n",
       "      <th>Address</th>\n",
       "    </tr>\n",
       "  </thead>\n",
       "  <tbody>\n",
       "    <tr>\n",
       "      <th>0</th>\n",
       "      <td>1</td>\n",
       "      <td>Ram</td>\n",
       "      <td>23</td>\n",
       "      <td>Kathmandu</td>\n",
       "    </tr>\n",
       "    <tr>\n",
       "      <th>1</th>\n",
       "      <td>2</td>\n",
       "      <td>Shyam</td>\n",
       "      <td>45</td>\n",
       "      <td>Bara</td>\n",
       "    </tr>\n",
       "    <tr>\n",
       "      <th>2</th>\n",
       "      <td>3</td>\n",
       "      <td>Nabin</td>\n",
       "      <td>54</td>\n",
       "      <td>Pokhara</td>\n",
       "    </tr>\n",
       "  </tbody>\n",
       "</table>\n",
       "</div>"
      ],
      "text/plain": [
       "   SN   Name  Age    Address\n",
       "0   1    Ram   23  Kathmandu\n",
       "1   2  Shyam   45       Bara\n",
       "2   3  Nabin   54    Pokhara"
      ]
     },
     "execution_count": 2,
     "metadata": {},
     "output_type": "execute_result"
    }
   ],
   "source": [
    "import pandas as pd\n",
    "df = pd.read_csv(\"data.csv\",nrows = 5)\n",
    "df.head(3)"
   ]
  },
  {
   "cell_type": "code",
   "execution_count": 5,
   "id": "ae807c02",
   "metadata": {},
   "outputs": [
    {
     "data": {
      "text/html": [
       "<div>\n",
       "<style scoped>\n",
       "    .dataframe tbody tr th:only-of-type {\n",
       "        vertical-align: middle;\n",
       "    }\n",
       "\n",
       "    .dataframe tbody tr th {\n",
       "        vertical-align: top;\n",
       "    }\n",
       "\n",
       "    .dataframe thead th {\n",
       "        text-align: right;\n",
       "    }\n",
       "</style>\n",
       "<table border=\"1\" class=\"dataframe\">\n",
       "  <thead>\n",
       "    <tr style=\"text-align: right;\">\n",
       "      <th></th>\n",
       "      <th>Name</th>\n",
       "      <th>Age</th>\n",
       "    </tr>\n",
       "    <tr>\n",
       "      <th>SN</th>\n",
       "      <th></th>\n",
       "      <th></th>\n",
       "    </tr>\n",
       "  </thead>\n",
       "  <tbody>\n",
       "    <tr>\n",
       "      <th>3</th>\n",
       "      <td>Nabin</td>\n",
       "      <td>54</td>\n",
       "    </tr>\n",
       "    <tr>\n",
       "      <th>4</th>\n",
       "      <td>Santosh</td>\n",
       "      <td>45</td>\n",
       "    </tr>\n",
       "    <tr>\n",
       "      <th>5</th>\n",
       "      <td>Aayush</td>\n",
       "      <td>64</td>\n",
       "    </tr>\n",
       "  </tbody>\n",
       "</table>\n",
       "</div>"
      ],
      "text/plain": [
       "       Name  Age\n",
       "SN              \n",
       "3     Nabin   54\n",
       "4   Santosh   45\n",
       "5    Aayush   64"
      ]
     },
     "execution_count": 5,
     "metadata": {},
     "output_type": "execute_result"
    }
   ],
   "source": [
    "import pandas as pd\n",
    "df = pd.read_csv(\"data.csv\",nrows = 5,index_col = \"SN\",usecols = [\"SN\",\"Name\",\"Age\"])\n",
    "df.tail(3)"
   ]
  },
  {
   "cell_type": "code",
   "execution_count": 6,
   "id": "930f3843",
   "metadata": {},
   "outputs": [
    {
     "data": {
      "text/plain": [
       "SN\n",
       "1    23\n",
       "2    45\n",
       "3    54\n",
       "4    45\n",
       "5    64\n",
       "Name: Age, dtype: int64"
      ]
     },
     "execution_count": 6,
     "metadata": {},
     "output_type": "execute_result"
    }
   ],
   "source": [
    "import pandas as pd\n",
    "df = pd.read_csv(\"data.csv\",nrows = 5,index_col = \"SN\",usecols = [\"SN\",\"Name\",\"Age\"])\n",
    "df[\"Age\"]"
   ]
  },
  {
   "cell_type": "code",
   "execution_count": 7,
   "id": "fd73258c",
   "metadata": {},
   "outputs": [
    {
     "data": {
      "text/plain": [
       "SN\n",
       "1    False\n",
       "2     True\n",
       "3     True\n",
       "4     True\n",
       "5     True\n",
       "Name: Age, dtype: bool"
      ]
     },
     "execution_count": 7,
     "metadata": {},
     "output_type": "execute_result"
    }
   ],
   "source": [
    "import pandas as pd\n",
    "df = pd.read_csv(\"data.csv\",nrows = 5,index_col = \"SN\",usecols = [\"SN\",\"Name\",\"Age\"])\n",
    "df[\"Age\"]>40"
   ]
  },
  {
   "cell_type": "code",
   "execution_count": 8,
   "id": "c7cf06d1",
   "metadata": {},
   "outputs": [
    {
     "data": {
      "text/html": [
       "<div>\n",
       "<style scoped>\n",
       "    .dataframe tbody tr th:only-of-type {\n",
       "        vertical-align: middle;\n",
       "    }\n",
       "\n",
       "    .dataframe tbody tr th {\n",
       "        vertical-align: top;\n",
       "    }\n",
       "\n",
       "    .dataframe thead th {\n",
       "        text-align: right;\n",
       "    }\n",
       "</style>\n",
       "<table border=\"1\" class=\"dataframe\">\n",
       "  <thead>\n",
       "    <tr style=\"text-align: right;\">\n",
       "      <th></th>\n",
       "      <th>Name</th>\n",
       "      <th>Age</th>\n",
       "      <th>Address</th>\n",
       "    </tr>\n",
       "    <tr>\n",
       "      <th>SN</th>\n",
       "      <th></th>\n",
       "      <th></th>\n",
       "      <th></th>\n",
       "    </tr>\n",
       "  </thead>\n",
       "  <tbody>\n",
       "    <tr>\n",
       "      <th>3</th>\n",
       "      <td>Nabin</td>\n",
       "      <td>54</td>\n",
       "      <td>Pokhara</td>\n",
       "    </tr>\n",
       "    <tr>\n",
       "      <th>5</th>\n",
       "      <td>Aayush</td>\n",
       "      <td>64</td>\n",
       "      <td>KTM</td>\n",
       "    </tr>\n",
       "  </tbody>\n",
       "</table>\n",
       "</div>"
      ],
      "text/plain": [
       "      Name  Age  Address\n",
       "SN                      \n",
       "3    Nabin   54  Pokhara\n",
       "5   Aayush   64      KTM"
      ]
     },
     "execution_count": 8,
     "metadata": {},
     "output_type": "execute_result"
    }
   ],
   "source": [
    "import pandas as pd\n",
    "df = pd.read_csv(\"data.csv\",index_col=\"SN\")\n",
    "df[df[\"Age\"]>45]"
   ]
  },
  {
   "cell_type": "code",
   "execution_count": 10,
   "id": "e1781bae",
   "metadata": {},
   "outputs": [
    {
     "data": {
      "text/html": [
       "<div>\n",
       "<style scoped>\n",
       "    .dataframe tbody tr th:only-of-type {\n",
       "        vertical-align: middle;\n",
       "    }\n",
       "\n",
       "    .dataframe tbody tr th {\n",
       "        vertical-align: top;\n",
       "    }\n",
       "\n",
       "    .dataframe thead th {\n",
       "        text-align: right;\n",
       "    }\n",
       "</style>\n",
       "<table border=\"1\" class=\"dataframe\">\n",
       "  <thead>\n",
       "    <tr style=\"text-align: right;\">\n",
       "      <th></th>\n",
       "      <th>Name</th>\n",
       "      <th>Age</th>\n",
       "      <th>Address</th>\n",
       "    </tr>\n",
       "    <tr>\n",
       "      <th>SN</th>\n",
       "      <th></th>\n",
       "      <th></th>\n",
       "      <th></th>\n",
       "    </tr>\n",
       "  </thead>\n",
       "  <tbody>\n",
       "    <tr>\n",
       "      <th>5</th>\n",
       "      <td>Aayush</td>\n",
       "      <td>64</td>\n",
       "      <td>KTM</td>\n",
       "    </tr>\n",
       "  </tbody>\n",
       "</table>\n",
       "</div>"
      ],
      "text/plain": [
       "      Name  Age Address\n",
       "SN                     \n",
       "5   Aayush   64     KTM"
      ]
     },
     "execution_count": 10,
     "metadata": {},
     "output_type": "execute_result"
    }
   ],
   "source": [
    "import pandas as pd\n",
    "df = pd.read_csv(\"data.csv\",index_col = \"SN\")\n",
    "df[df[\"Address\"] == \"KTM\"]"
   ]
  },
  {
   "cell_type": "code",
   "execution_count": 14,
   "id": "6c1788c9",
   "metadata": {},
   "outputs": [
    {
     "ename": "SyntaxError",
     "evalue": "closing parenthesis ']' does not match opening parenthesis '(' (<ipython-input-14-406a02656c8f>, line 3)",
     "output_type": "error",
     "traceback": [
      "\u001b[1;36m  File \u001b[1;32m\"<ipython-input-14-406a02656c8f>\"\u001b[1;36m, line \u001b[1;32m3\u001b[0m\n\u001b[1;33m    df[(df['Address'] == \"KTM\") & (df['Age']>10]\u001b[0m\n\u001b[1;37m                                               ^\u001b[0m\n\u001b[1;31mSyntaxError\u001b[0m\u001b[1;31m:\u001b[0m closing parenthesis ']' does not match opening parenthesis '('\n"
     ]
    }
   ],
   "source": [
    "import pandas as pd\n",
    "df = pd.read_csv('data.csv')\n",
    "df[(df['Address'] == \"KTM\") & (df['Age']>10]"
   ]
  },
  {
   "cell_type": "code",
   "execution_count": 16,
   "id": "61817eac",
   "metadata": {},
   "outputs": [
    {
     "data": {
      "text/html": [
       "<div>\n",
       "<style scoped>\n",
       "    .dataframe tbody tr th:only-of-type {\n",
       "        vertical-align: middle;\n",
       "    }\n",
       "\n",
       "    .dataframe tbody tr th {\n",
       "        vertical-align: top;\n",
       "    }\n",
       "\n",
       "    .dataframe thead th {\n",
       "        text-align: right;\n",
       "    }\n",
       "</style>\n",
       "<table border=\"1\" class=\"dataframe\">\n",
       "  <thead>\n",
       "    <tr style=\"text-align: right;\">\n",
       "      <th></th>\n",
       "      <th>SN</th>\n",
       "      <th>Name</th>\n",
       "      <th>Age</th>\n",
       "      <th>Address</th>\n",
       "    </tr>\n",
       "  </thead>\n",
       "  <tbody>\n",
       "    <tr>\n",
       "      <th>0</th>\n",
       "      <td>1</td>\n",
       "      <td>Ram</td>\n",
       "      <td>23</td>\n",
       "      <td>Kathmandu</td>\n",
       "    </tr>\n",
       "    <tr>\n",
       "      <th>1</th>\n",
       "      <td>2</td>\n",
       "      <td>Shyam</td>\n",
       "      <td>45</td>\n",
       "      <td>Bara</td>\n",
       "    </tr>\n",
       "    <tr>\n",
       "      <th>2</th>\n",
       "      <td>3</td>\n",
       "      <td>Nabin</td>\n",
       "      <td>54</td>\n",
       "      <td>Pokhara</td>\n",
       "    </tr>\n",
       "    <tr>\n",
       "      <th>3</th>\n",
       "      <td>4</td>\n",
       "      <td>Santosh</td>\n",
       "      <td>45</td>\n",
       "      <td>Slolu</td>\n",
       "    </tr>\n",
       "  </tbody>\n",
       "</table>\n",
       "</div>"
      ],
      "text/plain": [
       "   SN     Name  Age    Address\n",
       "0   1      Ram   23  Kathmandu\n",
       "1   2    Shyam   45       Bara\n",
       "2   3    Nabin   54    Pokhara\n",
       "3   4  Santosh   45      Slolu"
      ]
     },
     "execution_count": 16,
     "metadata": {},
     "output_type": "execute_result"
    }
   ],
   "source": [
    "import pandas as pd\n",
    "df = pd.read_csv(\"data.csv\")\n",
    "df.iloc[0:4,0:4]"
   ]
  },
  {
   "cell_type": "code",
   "execution_count": 17,
   "id": "b8b14eaa",
   "metadata": {},
   "outputs": [
    {
     "data": {
      "text/html": [
       "<div>\n",
       "<style scoped>\n",
       "    .dataframe tbody tr th:only-of-type {\n",
       "        vertical-align: middle;\n",
       "    }\n",
       "\n",
       "    .dataframe tbody tr th {\n",
       "        vertical-align: top;\n",
       "    }\n",
       "\n",
       "    .dataframe thead th {\n",
       "        text-align: right;\n",
       "    }\n",
       "</style>\n",
       "<table border=\"1\" class=\"dataframe\">\n",
       "  <thead>\n",
       "    <tr style=\"text-align: right;\">\n",
       "      <th></th>\n",
       "      <th>SN</th>\n",
       "      <th>Name</th>\n",
       "      <th>Age</th>\n",
       "      <th>Address</th>\n",
       "    </tr>\n",
       "  </thead>\n",
       "  <tbody>\n",
       "    <tr>\n",
       "      <th>0</th>\n",
       "      <td>1</td>\n",
       "      <td>Ram</td>\n",
       "      <td>23</td>\n",
       "      <td>Kathmandu</td>\n",
       "    </tr>\n",
       "    <tr>\n",
       "      <th>1</th>\n",
       "      <td>2</td>\n",
       "      <td>Shyam</td>\n",
       "      <td>45</td>\n",
       "      <td>Bara</td>\n",
       "    </tr>\n",
       "    <tr>\n",
       "      <th>2</th>\n",
       "      <td>3</td>\n",
       "      <td>Nabin</td>\n",
       "      <td>54</td>\n",
       "      <td>Pokhara</td>\n",
       "    </tr>\n",
       "    <tr>\n",
       "      <th>3</th>\n",
       "      <td>4</td>\n",
       "      <td>Santosh</td>\n",
       "      <td>45</td>\n",
       "      <td>Slolu</td>\n",
       "    </tr>\n",
       "  </tbody>\n",
       "</table>\n",
       "</div>"
      ],
      "text/plain": [
       "   SN     Name  Age    Address\n",
       "0   1      Ram   23  Kathmandu\n",
       "1   2    Shyam   45       Bara\n",
       "2   3    Nabin   54    Pokhara\n",
       "3   4  Santosh   45      Slolu"
      ]
     },
     "execution_count": 17,
     "metadata": {},
     "output_type": "execute_result"
    }
   ],
   "source": [
    "import pandas as pd\n",
    "df = pd.read_csv(\"data.csv\")\n",
    "df.iloc[0:4,0:5]"
   ]
  },
  {
   "cell_type": "code",
   "execution_count": 18,
   "id": "378a3a82",
   "metadata": {},
   "outputs": [
    {
     "data": {
      "text/html": [
       "<div>\n",
       "<style scoped>\n",
       "    .dataframe tbody tr th:only-of-type {\n",
       "        vertical-align: middle;\n",
       "    }\n",
       "\n",
       "    .dataframe tbody tr th {\n",
       "        vertical-align: top;\n",
       "    }\n",
       "\n",
       "    .dataframe thead th {\n",
       "        text-align: right;\n",
       "    }\n",
       "</style>\n",
       "<table border=\"1\" class=\"dataframe\">\n",
       "  <thead>\n",
       "    <tr style=\"text-align: right;\">\n",
       "      <th></th>\n",
       "      <th>SN</th>\n",
       "      <th>Name</th>\n",
       "      <th>Age</th>\n",
       "      <th>Address</th>\n",
       "    </tr>\n",
       "  </thead>\n",
       "  <tbody>\n",
       "    <tr>\n",
       "      <th>2</th>\n",
       "      <td>3</td>\n",
       "      <td>Nabin</td>\n",
       "      <td>54</td>\n",
       "      <td>Pokhara</td>\n",
       "    </tr>\n",
       "    <tr>\n",
       "      <th>3</th>\n",
       "      <td>4</td>\n",
       "      <td>Santosh</td>\n",
       "      <td>45</td>\n",
       "      <td>Slolu</td>\n",
       "    </tr>\n",
       "    <tr>\n",
       "      <th>4</th>\n",
       "      <td>5</td>\n",
       "      <td>Aayush</td>\n",
       "      <td>64</td>\n",
       "      <td>KTM</td>\n",
       "    </tr>\n",
       "  </tbody>\n",
       "</table>\n",
       "</div>"
      ],
      "text/plain": [
       "   SN     Name  Age  Address\n",
       "2   3    Nabin   54  Pokhara\n",
       "3   4  Santosh   45    Slolu\n",
       "4   5   Aayush   64      KTM"
      ]
     },
     "execution_count": 18,
     "metadata": {},
     "output_type": "execute_result"
    }
   ],
   "source": [
    "import pandas as pd\n",
    "df = pd.read_csv(\"data.csv\")\n",
    "df.iloc[2:5]"
   ]
  },
  {
   "cell_type": "code",
   "execution_count": 22,
   "id": "7eb81805",
   "metadata": {},
   "outputs": [],
   "source": [
    "import pandas as pd\n",
    "df = pd.read_csv(\"data.csv\",index_col = \"Name\")\n",
    "fd = df['Nabin':'Aayush']\n",
    "fd.to_csv(\"filtered_data.csv\")"
   ]
  },
  {
   "cell_type": "code",
   "execution_count": 23,
   "id": "b2647d3b",
   "metadata": {},
   "outputs": [],
   "source": [
    "import csv\n",
    "fields = ['Ram',34,'Kathmandu']\n",
    "with open('copy.csv','a') as f:\n",
    "    x = csv.writer(f)\n",
    "    x.writerow(fields)"
   ]
  },
  {
   "cell_type": "code",
   "execution_count": 24,
   "id": "b251aa3e",
   "metadata": {},
   "outputs": [],
   "source": [
    "import csv\n",
    "fields = ['Kamal',29,'Kathamndu']\n",
    "f = open('copy.csv','a')\n",
    "x = csv.writer(f)\n",
    "x.writerow(fields)\n",
    "f.close()"
   ]
  },
  {
   "cell_type": "code",
   "execution_count": 3,
   "id": "ccfa08e8",
   "metadata": {},
   "outputs": [
    {
     "name": "stdout",
     "output_type": "stream",
     "text": [
      "Enter n = 1\n",
      "Enter name = Ram\n",
      "Enter physics25\n",
      "Enter chemsitry = 25\n",
      "[[1, 'Ram', 25, 25, 50, 25.0]]\n"
     ]
    }
   ],
   "source": [
    "finalresult = []\n",
    "n = int(input(\"Enter n = \"))\n",
    "for i in range(1,n+1):\n",
    "    name = input(\"Enter name = \")\n",
    "    physics = int(input(\"Enter physics\"))\n",
    "    chemistry = int(input(\"Enter chemsitry = \"))\n",
    "    total = sum([physics,chemistry])\n",
    "    per = total/2\n",
    "    marks = [i,name,physics,chemistry,total,per]\n",
    "    finalresult.append(marks)\n",
    "print(finalresult)"
   ]
  },
  {
   "cell_type": "code",
   "execution_count": 4,
   "id": "6a09a4e6",
   "metadata": {},
   "outputs": [],
   "source": [
    "import csv\n",
    "f = open('finalresult.csv','w')\n",
    "x = csv.writer(f)\n",
    "for i in finalresult:\n",
    "    x.writerow(i)\n",
    "f.close()"
   ]
  },
  {
   "cell_type": "code",
   "execution_count": 5,
   "id": "57771140",
   "metadata": {},
   "outputs": [],
   "source": [
    "import csv\n",
    "f = open('finalresult.csv','w')\n",
    "x = csv.writer(f)\n",
    "x.writerow([\"SN\",\"Name\",\"Physics\",\"Chemistry\",\"Total\",\"Per\"])\n",
    "for i in finalresult:\n",
    "    x.writerow(i)\n",
    "f.close()"
   ]
  },
  {
   "cell_type": "code",
   "execution_count": 2,
   "id": "8b5c869e",
   "metadata": {},
   "outputs": [
    {
     "data": {
      "text/html": [
       "<div>\n",
       "<style scoped>\n",
       "    .dataframe tbody tr th:only-of-type {\n",
       "        vertical-align: middle;\n",
       "    }\n",
       "\n",
       "    .dataframe tbody tr th {\n",
       "        vertical-align: top;\n",
       "    }\n",
       "\n",
       "    .dataframe thead th {\n",
       "        text-align: right;\n",
       "    }\n",
       "</style>\n",
       "<table border=\"1\" class=\"dataframe\">\n",
       "  <thead>\n",
       "    <tr style=\"text-align: right;\">\n",
       "      <th></th>\n",
       "      <th>Santosh</th>\n",
       "      <th>Ram</th>\n",
       "    </tr>\n",
       "  </thead>\n",
       "  <tbody>\n",
       "    <tr>\n",
       "      <th>0</th>\n",
       "      <td>9865623658</td>\n",
       "      <td>9685689575</td>\n",
       "    </tr>\n",
       "    <tr>\n",
       "      <th>1</th>\n",
       "      <td>9865986586</td>\n",
       "      <td>9856895648</td>\n",
       "    </tr>\n",
       "  </tbody>\n",
       "</table>\n",
       "</div>"
      ],
      "text/plain": [
       "      Santosh         Ram\n",
       "0  9865623658  9685689575\n",
       "1  9865986586  9856895648"
      ]
     },
     "execution_count": 2,
     "metadata": {},
     "output_type": "execute_result"
    }
   ],
   "source": [
    "import pandas as pd\n",
    "a = {'Santosh': ['9865623658', '9865986586'], 'Ram': ['9685689575', '9856895648']}\n",
    "df = pd.DataFrame(a)\n",
    "df"
   ]
  },
  {
   "cell_type": "code",
   "execution_count": 3,
   "id": "ab8b089d",
   "metadata": {},
   "outputs": [
    {
     "name": "stdout",
     "output_type": "stream",
     "text": [
      "{'Name': 'Nabin', 'SN': '3', 'Age': '54', 'Address': 'Pokhara'}\n",
      "{'Name': 'Santosh', 'SN': '4', 'Age': '45', 'Address': 'Slolu'}\n",
      "{'Name': 'Aayush', 'SN': '5', 'Age': '64', 'Address': 'KTM'}\n"
     ]
    }
   ],
   "source": [
    "import csv\n",
    "b = open('filtered_data.csv') #dictreader\n",
    "reader = csv.DictReader(b) #without pandas read for update delete\n",
    "for row in reader:\n",
    "    print(row)"
   ]
  },
  {
   "cell_type": "code",
   "execution_count": 4,
   "id": "99723dd8",
   "metadata": {},
   "outputs": [
    {
     "name": "stdout",
     "output_type": "stream",
     "text": [
      "{'Name': 'Nabin', 'SN': '3', 'Age': '54', 'Address': 'Pokhara'}\n",
      "{'Name': 'Santosh', 'SN': '4', 'Age': '45', 'Address': 'Slolu'}\n",
      "{'Name': 'Aayush', 'SN': '5', 'Age': '64', 'Address': 'KTM'}\n"
     ]
    }
   ],
   "source": [
    "import csv\n",
    "b = open('filtered_data.csv')\n",
    "reader = csv.DictReader(b)\n",
    "\n",
    "for row in reader:\n",
    "    print(dict(row))"
   ]
  },
  {
   "cell_type": "code",
   "execution_count": 5,
   "id": "9b7d352c",
   "metadata": {},
   "outputs": [
    {
     "data": {
      "text/html": [
       "<div>\n",
       "<style scoped>\n",
       "    .dataframe tbody tr th:only-of-type {\n",
       "        vertical-align: middle;\n",
       "    }\n",
       "\n",
       "    .dataframe tbody tr th {\n",
       "        vertical-align: top;\n",
       "    }\n",
       "\n",
       "    .dataframe thead th {\n",
       "        text-align: right;\n",
       "    }\n",
       "</style>\n",
       "<table border=\"1\" class=\"dataframe\">\n",
       "  <thead>\n",
       "    <tr style=\"text-align: right;\">\n",
       "      <th></th>\n",
       "      <th>Name</th>\n",
       "      <th>SN</th>\n",
       "      <th>Age</th>\n",
       "      <th>Address</th>\n",
       "    </tr>\n",
       "  </thead>\n",
       "  <tbody>\n",
       "    <tr>\n",
       "      <th>0</th>\n",
       "      <td>Nabin</td>\n",
       "      <td>3</td>\n",
       "      <td>54</td>\n",
       "      <td>Pokhara</td>\n",
       "    </tr>\n",
       "    <tr>\n",
       "      <th>1</th>\n",
       "      <td>Santosh</td>\n",
       "      <td>4</td>\n",
       "      <td>45</td>\n",
       "      <td>Slolu</td>\n",
       "    </tr>\n",
       "    <tr>\n",
       "      <th>2</th>\n",
       "      <td>Aayush</td>\n",
       "      <td>5</td>\n",
       "      <td>64</td>\n",
       "      <td>KTM</td>\n",
       "    </tr>\n",
       "  </tbody>\n",
       "</table>\n",
       "</div>"
      ],
      "text/plain": [
       "      Name  SN  Age  Address\n",
       "0    Nabin   3   54  Pokhara\n",
       "1  Santosh   4   45    Slolu\n",
       "2   Aayush   5   64      KTM"
      ]
     },
     "execution_count": 5,
     "metadata": {},
     "output_type": "execute_result"
    }
   ],
   "source": [
    "import pandas as pd\n",
    "df = pd.read_csv('filtered_data.csv') #\n",
    "df"
   ]
  },
  {
   "cell_type": "code",
   "execution_count": 6,
   "id": "e4758674",
   "metadata": {},
   "outputs": [
    {
     "name": "stdout",
     "output_type": "stream",
     "text": [
      "[{'Name': 'Nabin', 'SN': '3', 'Age': '54', 'Address': 'Pokhara'}, {'Name': 'Santosh', 'SN': '4', 'Age': '45', 'Address': 'Slolu'}, {'Name': 'Aayush', 'SN': '5', 'Age': '64', 'Address': 'KTM'}]\n"
     ]
    }
   ],
   "source": [
    "import csv #for update\n",
    "final_data=[]\n",
    "b = open('filtered_data.csv')\n",
    "reader = csv.DictReader(b)\n",
    "\n",
    "for row in reader:\n",
    "    final_data.append(dict(row))\n",
    "print(final_data)"
   ]
  },
  {
   "cell_type": "code",
   "execution_count": 7,
   "id": "7549e887",
   "metadata": {},
   "outputs": [
    {
     "data": {
      "text/plain": [
       "[{'Name': 'Ramprasad', 'SN': '3', 'Age': '54', 'Address': 'Pokhara'},\n",
       " {'Name': 'Santosh', 'SN': '4', 'Age': '45', 'Address': 'Slolu'},\n",
       " {'Name': 'Aayush', 'SN': '5', 'Age': '64', 'Address': 'KTM'}]"
      ]
     },
     "execution_count": 7,
     "metadata": {},
     "output_type": "execute_result"
    }
   ],
   "source": [
    "final_data[0][\"Name\"] = \"Ramprasad\"\n",
    "final_data"
   ]
  },
  {
   "cell_type": "code",
   "execution_count": 9,
   "id": "86441cfb",
   "metadata": {},
   "outputs": [
    {
     "ename": "ModuleNotFoundError",
     "evalue": "No module named 'mysql'",
     "output_type": "error",
     "traceback": [
      "\u001b[1;31m---------------------------------------------------------------------------\u001b[0m",
      "\u001b[1;31mModuleNotFoundError\u001b[0m                       Traceback (most recent call last)",
      "\u001b[1;32m<ipython-input-9-33004ba6f486>\u001b[0m in \u001b[0;36m<module>\u001b[1;34m\u001b[0m\n\u001b[1;32m----> 1\u001b[1;33m \u001b[1;32mimport\u001b[0m \u001b[0mmysql\u001b[0m\u001b[1;33m.\u001b[0m\u001b[0mconnector\u001b[0m\u001b[1;33m\u001b[0m\u001b[1;33m\u001b[0m\u001b[0m\n\u001b[0m\u001b[0;32m      2\u001b[0m database = mysql.connector.connect(\n\u001b[0;32m      3\u001b[0m     \u001b[0mhost\u001b[0m\u001b[1;33m=\u001b[0m\u001b[1;34m\"localhost\"\u001b[0m\u001b[1;33m,\u001b[0m\u001b[1;33m\u001b[0m\u001b[1;33m\u001b[0m\u001b[0m\n\u001b[0;32m      4\u001b[0m     \u001b[0muser\u001b[0m\u001b[1;33m=\u001b[0m\u001b[1;34m\"root\"\u001b[0m\u001b[1;33m,\u001b[0m\u001b[1;33m\u001b[0m\u001b[1;33m\u001b[0m\u001b[0m\n\u001b[0;32m      5\u001b[0m     \u001b[0mpassword\u001b[0m\u001b[1;33m=\u001b[0m\u001b[1;34m\"\"\u001b[0m\u001b[1;33m,\u001b[0m\u001b[1;33m\u001b[0m\u001b[1;33m\u001b[0m\u001b[0m\n",
      "\u001b[1;31mModuleNotFoundError\u001b[0m: No module named 'mysql'"
     ]
    }
   ],
   "source": [
    "import mysql.connector\n",
    "database = mysql.connector.connect(\n",
    "    host=\"localhost\",\n",
    "    user=\"root\",\n",
    "    password=\"\",\n",
    "    database = \"class6pm\"\n",
    ")\n",
    "db = database.cursor()"
   ]
  },
  {
   "cell_type": "code",
   "execution_count": null,
   "id": "e110de2a",
   "metadata": {},
   "outputs": [],
   "source": []
  }
 ],
 "metadata": {
  "kernelspec": {
   "display_name": "Python 3",
   "language": "python",
   "name": "python3"
  },
  "language_info": {
   "codemirror_mode": {
    "name": "ipython",
    "version": 3
   },
   "file_extension": ".py",
   "mimetype": "text/x-python",
   "name": "python",
   "nbconvert_exporter": "python",
   "pygments_lexer": "ipython3",
   "version": "3.8.8"
  }
 },
 "nbformat": 4,
 "nbformat_minor": 5
}
