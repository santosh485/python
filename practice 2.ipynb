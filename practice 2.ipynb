{
 "cells": [
  {
   "cell_type": "code",
   "execution_count": 1,
   "id": "d413f1c3",
   "metadata": {},
   "outputs": [
    {
     "name": "stdout",
     "output_type": "stream",
     "text": [
      "('apple', 'Ball')\n"
     ]
    }
   ],
   "source": [
    "a = (\"apple\",\"Ball\")\n",
    "print(a)"
   ]
  },
  {
   "cell_type": "code",
   "execution_count": 5,
   "id": "a4e30daf",
   "metadata": {},
   "outputs": [
    {
     "name": "stdout",
     "output_type": "stream",
     "text": [
      "Apple Ball\n"
     ]
    }
   ],
   "source": [
    "a = (\"Apple\")\n",
    "b = (\" Ball\")\n",
    "c = a+b\n",
    "print(c)"
   ]
  },
  {
   "cell_type": "code",
   "execution_count": 13,
   "id": "1e8cd155",
   "metadata": {},
   "outputs": [
    {
     "name": "stdout",
     "output_type": "stream",
     "text": [
      "Enter n = 3\n",
      "Enter x = 9\n",
      "Enter x = 56\n",
      "Enter x = 25\n",
      "(9, 56, 25)\n"
     ]
    }
   ],
   "source": [
    "t = tuple()\n",
    "n = int(input(\"Enter n = \"))\n",
    "for i in range(n):\n",
    "    x = int(input(\"Enter x = \"))\n",
    "    t = t+(x,)\n",
    "print(t)"
   ]
  },
  {
   "cell_type": "code",
   "execution_count": 14,
   "id": "ed2a8b04",
   "metadata": {},
   "outputs": [
    {
     "name": "stdout",
     "output_type": "stream",
     "text": [
      "9\n",
      "56\n",
      "25\n",
      "9\n",
      "56\n",
      "25\n",
      "9\n",
      "56\n",
      "25\n"
     ]
    }
   ],
   "source": [
    "for i in t:\n",
    "    for j in t:\n",
    "        print(j)"
   ]
  },
  {
   "cell_type": "code",
   "execution_count": 17,
   "id": "44b4eaa3",
   "metadata": {},
   "outputs": [
    {
     "name": "stdout",
     "output_type": "stream",
     "text": [
      "the sum no is =  90\n",
      "the maximu value is =  56\n",
      "the minimum value is =  9\n"
     ]
    }
   ],
   "source": [
    "print(\"the sum no is = \",sum(t))\n",
    "print(\"the maximu value is = \",max(t))\n",
    "print(\"the minimum value is = \",min(t))"
   ]
  },
  {
   "cell_type": "code",
   "execution_count": 21,
   "id": "6599e7a4",
   "metadata": {},
   "outputs": [
    {
     "data": {
      "text/plain": [
       "[9, 25, 56]"
      ]
     },
     "execution_count": 21,
     "metadata": {},
     "output_type": "execute_result"
    }
   ],
   "source": [
    "sorted(t)\n"
   ]
  },
  {
   "cell_type": "code",
   "execution_count": 26,
   "id": "2f177a01",
   "metadata": {},
   "outputs": [
    {
     "name": "stdout",
     "output_type": "stream",
     "text": [
      "yes\n",
      "0\n"
     ]
    }
   ],
   "source": [
    "if 9 in t:\n",
    "    print(\"yes\")\n",
    "    print(t.count(\"9\"))"
   ]
  },
  {
   "cell_type": "code",
   "execution_count": 28,
   "id": "e3b1d8c9",
   "metadata": {},
   "outputs": [
    {
     "name": "stdout",
     "output_type": "stream",
     "text": [
      "(1, 2, 3, 4, 5)\n",
      "(1, 2, 3, 4, 5)\n",
      "(1, 2, 3, 4, 5)\n",
      "(1, 2, 3, 4, 5)\n"
     ]
    }
   ],
   "source": [
    "a = 1,2,3,4,5\n",
    "for i in a:\n",
    "    if i ==2:\n",
    "        continue\n",
    "    print(a)"
   ]
  },
  {
   "cell_type": "code",
   "execution_count": 29,
   "id": "a0a6f0ca",
   "metadata": {},
   "outputs": [
    {
     "name": "stdout",
     "output_type": "stream",
     "text": [
      "((1, 2, 3, 4, 5), (1, 2, 3, 4, 5), (1, 2, 3, 4, 5), (1, 2, 3, 4, 5))\n"
     ]
    }
   ],
   "source": [
    "a = ((1, 2, 3, 4, 5),\n",
    "     (1, 2, 3, 4, 5),\n",
    "     (1, 2, 3, 4, 5),\n",
    "     (1, 2, 3, 4, 5))\n",
    "print(a)"
   ]
  },
  {
   "cell_type": "code",
   "execution_count": 38,
   "id": "73ad06d5",
   "metadata": {},
   "outputs": [
    {
     "ename": "AttributeError",
     "evalue": "'tuple' object has no attribute 'item'",
     "output_type": "error",
     "traceback": [
      "\u001b[1;31m---------------------------------------------------------------------------\u001b[0m",
      "\u001b[1;31mAttributeError\u001b[0m                            Traceback (most recent call last)",
      "\u001b[1;32m<ipython-input-38-171bf2a32006>\u001b[0m in \u001b[0;36m<module>\u001b[1;34m\u001b[0m\n\u001b[1;32m----> 1\u001b[1;33m \u001b[1;32mfor\u001b[0m \u001b[0mj\u001b[0m \u001b[1;32min\u001b[0m \u001b[0ma\u001b[0m\u001b[1;33m.\u001b[0m\u001b[0mitem\u001b[0m\u001b[1;33m:\u001b[0m\u001b[1;33m\u001b[0m\u001b[1;33m\u001b[0m\u001b[0m\n\u001b[0m\u001b[0;32m      2\u001b[0m     \u001b[0mprint\u001b[0m\u001b[1;33m(\u001b[0m\u001b[0mj\u001b[0m\u001b[1;33m)\u001b[0m\u001b[1;33m\u001b[0m\u001b[1;33m\u001b[0m\u001b[0m\n",
      "\u001b[1;31mAttributeError\u001b[0m: 'tuple' object has no attribute 'item'"
     ]
    }
   ],
   "source": [
    "for j in a.item:\n",
    "    print(j)"
   ]
  },
  {
   "cell_type": "code",
   "execution_count": 42,
   "id": "ed714399",
   "metadata": {},
   "outputs": [
    {
     "name": "stdout",
     "output_type": "stream",
     "text": [
      "Enter n = 2\n",
      "Enter name = Ram\n",
      "Enter Address = Santoh\n",
      "Enter agef = 25\n",
      "Enter name = 25\n",
      "Enter Address = 25\n",
      "Enter agef = 25\n",
      "((0, 'Ram', 'Santoh', 25), (1, '25', '25', 25))\n"
     ]
    }
   ],
   "source": [
    "t = tuple()\n",
    "n = int(input(\"Enter n = \"))\n",
    "for i in range(n):\n",
    "    name = input(\"Enter name = \")\n",
    "    address = input(\"Enter Address = \")\n",
    "    age = int(input(\"Enter agef = \"))\n",
    "    info = (i,name,address,age)\n",
    "    t = t+(info,)\n",
    "print(t)"
   ]
  },
  {
   "cell_type": "code",
   "execution_count": 49,
   "id": "5ecbd0b7",
   "metadata": {},
   "outputs": [
    {
     "name": "stdout",
     "output_type": "stream",
     "text": [
      "((0, 'Ram', 'Santoh', 25), (1, '25', '25', 25))\n",
      "((0, 'Ram', 'Santoh', 25), (1, '25', '25', 25))\n"
     ]
    }
   ],
   "source": [
    "for i in t:\n",
    "    print(t)"
   ]
  },
  {
   "cell_type": "code",
   "execution_count": 50,
   "id": "c9e58598",
   "metadata": {},
   "outputs": [
    {
     "name": "stdout",
     "output_type": "stream",
     "text": [
      "Enter name = 0\n",
      "((0, 'Ram', 'Santoh', 25), (1, '25', '25', 25))\n",
      "((0, 'Ram', 'Santoh', 25), (1, '25', '25', 25))\n"
     ]
    }
   ],
   "source": [
    "a = ((0, 'Ram', 'Santoh', 25), (1, '25', '25', 25))\n",
    "name = input(\"Enter name = \")\n",
    "for i in a:\n",
    "    print(a)"
   ]
  },
  {
   "cell_type": "code",
   "execution_count": 53,
   "id": "66874ad8",
   "metadata": {},
   "outputs": [
    {
     "name": "stdout",
     "output_type": "stream",
     "text": [
      "[(0, 'ram', 3665544, 256645), (0, 1, 3, 4, 5)]\n"
     ]
    }
   ],
   "source": [
    "a = [(0, 'ram', 3665544, 256645), (1, 'hair', 35652, 2564)]\n",
    "a[1] = (0,1,3,4,5)\n",
    "print(a) #tuple inside list"
   ]
  },
  {
   "cell_type": "code",
   "execution_count": 58,
   "id": "02df5cb5",
   "metadata": {},
   "outputs": [
    {
     "name": "stdout",
     "output_type": "stream",
     "text": [
      "[1, 3, 4, 5]\n",
      "[5, 6, 6, 5]\n"
     ]
    }
   ],
   "source": [
    "a = ((1,3,4,5),\n",
    "     (5,6,6,5))\n",
    "print(list(a[0]))\n",
    "print(list(a[1]))"
   ]
  },
  {
   "cell_type": "code",
   "execution_count": 60,
   "id": "b9777cf0",
   "metadata": {},
   "outputs": [
    {
     "name": "stdout",
     "output_type": "stream",
     "text": [
      "((1, 3, 4, 5), (5, 6, 6, 5))\n"
     ]
    }
   ],
   "source": [
    "c = ()\n",
    "a = [[1,3,4,5],\n",
    "     [5,6,6,5]]\n",
    "for i in a:\n",
    "    x = tuple(i)\n",
    "    c = c+(x,)\n",
    "    \n",
    "print(c)"
   ]
  },
  {
   "cell_type": "code",
   "execution_count": 67,
   "id": "f632d93b",
   "metadata": {},
   "outputs": [
    {
     "name": "stdout",
     "output_type": "stream",
     "text": [
      "([1, 3, 4, 5], [5, 6, 6, 5])\n"
     ]
    }
   ],
   "source": [
    "t = tuple()\n",
    "a = [[1,3,4,5],\n",
    "     [5,6,6,5]]\n",
    "for i in a:\n",
    "    x = list(i)\n",
    "    t = t+(x,)\n",
    "\n",
    "print(t)"
   ]
  },
  {
   "cell_type": "code",
   "execution_count": 7,
   "id": "72af3752",
   "metadata": {},
   "outputs": [
    {
     "name": "stdout",
     "output_type": "stream",
     "text": [
      "noitisop ruoy si tahw dna era woH ,lapeN ,gninroM dooG\n"
     ]
    }
   ],
   "source": [
    "a = \"Good Morning, Nepal, How are and what is your position\"\n",
    "n = len(a)\n",
    "print(a[n : :-1])"
   ]
  },
  {
   "cell_type": "code",
   "execution_count": 9,
   "id": "9a3ed982",
   "metadata": {},
   "outputs": [
    {
     "name": "stdout",
     "output_type": "stream",
     "text": [
      "Good Morning, Nepal, How are and what is your position Let hope will be good in the future. Good Morning, Beta,  I am good and you.\n"
     ]
    }
   ],
   "source": [
    "a = \"Good Morning, Nepal, How are and what is your position\"\n",
    "b = \"Good Morning, Beta,  I am good and you.\"\n",
    "c = f\"{a} Let hope will be good in the future. {b}\"\n",
    "print(c)"
   ]
  },
  {
   "cell_type": "code",
   "execution_count": 25,
   "id": "78b00a61",
   "metadata": {},
   "outputs": [
    {
     "name": "stdout",
     "output_type": "stream",
     "text": [
      "Enter n = 2\n",
      "Enter Name = Santosh\n",
      "Enter addresss = KTM\n",
      "Enter Age = 25\n",
      "Enter Name = Hari\n",
      "Enter addresss = KTM\n",
      "Enter Age = 25\n",
      "Santosh KTM 25\n",
      "Hari KTM 25\n",
      "\n"
     ]
    }
   ],
   "source": [
    "s = ''\n",
    "n = int(input(\"Enter n = \"))\n",
    "for i in range(n):\n",
    "    Name = input(\"Enter Name = \")\n",
    "    Address = input(\"Enter addresss = \")\n",
    "    Age = int(input(\"Enter Age = \"))\n",
    "    data = f\"{Name } {Address} {Age}\\n\"\n",
    "    s = s+data\n",
    "    \n",
    "print(s)"
   ]
  },
  {
   "cell_type": "code",
   "execution_count": 28,
   "id": "1720fe0b",
   "metadata": {},
   "outputs": [
    {
     "name": "stdout",
     "output_type": "stream",
     "text": [
      "Santosh KTM 25\n",
      "Hari KTM 25\n"
     ]
    }
   ],
   "source": [
    "for i in s:\n",
    "    print(i,end = \"\")"
   ]
  },
  {
   "cell_type": "code",
   "execution_count": 36,
   "id": "36e6c9aa",
   "metadata": {},
   "outputs": [
    {
     "data": {
      "text/plain": [
       "'HELLO WORLD'"
      ]
     },
     "execution_count": 36,
     "metadata": {},
     "output_type": "execute_result"
    }
   ],
   "source": [
    "a.upper()"
   ]
  },
  {
   "cell_type": "code",
   "execution_count": 39,
   "id": "381c69c5",
   "metadata": {},
   "outputs": [
    {
     "data": {
      "text/plain": [
       "'hello world'"
      ]
     },
     "execution_count": 39,
     "metadata": {},
     "output_type": "execute_result"
    }
   ],
   "source": [
    "a.lower()"
   ]
  },
  {
   "cell_type": "code",
   "execution_count": 44,
   "id": "710e2642",
   "metadata": {},
   "outputs": [
    {
     "data": {
      "text/plain": [
       "'Hello World'"
      ]
     },
     "execution_count": 44,
     "metadata": {},
     "output_type": "execute_result"
    }
   ],
   "source": [
    "a.replace(\"hello\",\"\")"
   ]
  },
  {
   "cell_type": "code",
   "execution_count": 45,
   "id": "8b9fa1e6",
   "metadata": {},
   "outputs": [
    {
     "data": {
      "text/plain": [
       "['Hello', 'World']"
      ]
     },
     "execution_count": 45,
     "metadata": {},
     "output_type": "execute_result"
    }
   ],
   "source": [
    "a.split()"
   ]
  },
  {
   "cell_type": "code",
   "execution_count": 46,
   "id": "b93c2915",
   "metadata": {},
   "outputs": [
    {
     "name": "stdout",
     "output_type": "stream",
     "text": [
      "Enter n = 5\n",
      "Enter x = 56\n",
      "Enter x = 564\n",
      "Enter x = 565\n",
      "Enter x = 35\n",
      "Enter x = 8659\n",
      "The maximum value is =  8659\n",
      "The minimum value is  = 35\n",
      "The averagef value is  =  1731.8\n",
      "the sum o fvalue is =  9879\n"
     ]
    }
   ],
   "source": [
    "l = list()\n",
    "n = int(input(\"Enter n = \"))\n",
    "for i in range(n):\n",
    "    x = int(input(\"Enter x = \"))\n",
    "    l = l+[x]\n",
    "    \n",
    "print(\"The maximum value is = \",max(l))\n",
    "print(\"The minimum value is  =\",min(l))\n",
    "print(\"The averagef value is  = \",max(l)/n)\n",
    "print(\"the sum o fvalue is = \",sum(l))\n"
   ]
  },
  {
   "cell_type": "code",
   "execution_count": 47,
   "id": "1183451c",
   "metadata": {},
   "outputs": [
    {
     "name": "stdout",
     "output_type": "stream",
     "text": [
      "[56, 564, 565, 35, 8659]\n",
      "[56, 564, 565, 35, 8659]\n",
      "[56, 564, 565, 35, 8659]\n",
      "[56, 564, 565, 35, 8659]\n",
      "[56, 564, 565, 35, 8659]\n"
     ]
    }
   ],
   "source": [
    "for i in l:\n",
    "    print(l)"
   ]
  },
  {
   "cell_type": "code",
   "execution_count": 49,
   "id": "962804ac",
   "metadata": {},
   "outputs": [
    {
     "name": "stdout",
     "output_type": "stream",
     "text": [
      "[35, 56, 564, 565, 8659]\n"
     ]
    }
   ],
   "source": [
    "l.sort()\n",
    "print(l)"
   ]
  },
  {
   "cell_type": "code",
   "execution_count": 53,
   "id": "70ab59db",
   "metadata": {},
   "outputs": [
    {
     "name": "stdout",
     "output_type": "stream",
     "text": [
      "['Apple', 'Budi', 'Budi', 'Cat', 'Dog']\n"
     ]
    }
   ],
   "source": [
    "# remove() \n",
    "a = [\"Apple\",\"Ball\",\"Ball\",\"Cat\",\"Dog\"]\n",
    "for i in range(len(a)):\n",
    "    if a[i] == \"Ball\":\n",
    "        a[i] = \"Budi\"\n",
    "print(a)"
   ]
  },
  {
   "cell_type": "code",
   "execution_count": 55,
   "id": "661d9146",
   "metadata": {},
   "outputs": [
    {
     "name": "stdout",
     "output_type": "stream",
     "text": [
      "Enter n = 2\n",
      "Name = Ram\n",
      "ntc = 9865265\n",
      "ncell = 9856265\n",
      "Name = Hari\n",
      "ntc = 98659865\n",
      "ncell = 98659865\n",
      "[['Ram', '9865265', '9856265'], ['Hari', '98659865', '98659865']]\n"
     ]
    }
   ],
   "source": [
    "l = []\n",
    "n = int(input(\"Enter n = \"))\n",
    "for i in range(n):\n",
    "    name = input(\"Name = \")\n",
    "    ntc = input(\"ntc = \")\n",
    "    ncell = input(\"ncell = \")\n",
    "    info = [name,ntc,ncell]\n",
    "    l.append(info)\n",
    "print(l)"
   ]
  },
  {
   "cell_type": "code",
   "execution_count": 56,
   "id": "d6029115",
   "metadata": {},
   "outputs": [
    {
     "name": "stdout",
     "output_type": "stream",
     "text": [
      "[['Ram', '9865265', '9856265'], ['Hari', '98659865', '98659865']]\n",
      "[['Ram', '9865265', '9856265'], ['Hari', '98659865', '98659865']]\n"
     ]
    }
   ],
   "source": [
    "for i in l:\n",
    "    print(l)"
   ]
  },
  {
   "cell_type": "code",
   "execution_count": 59,
   "id": "8fe078c4",
   "metadata": {},
   "outputs": [
    {
     "ename": "AttributeError",
     "evalue": "'list' object has no attribute 'upper'",
     "output_type": "error",
     "traceback": [
      "\u001b[1;31m---------------------------------------------------------------------------\u001b[0m",
      "\u001b[1;31mAttributeError\u001b[0m                            Traceback (most recent call last)",
      "\u001b[1;32m<ipython-input-59-5339e9d2420a>\u001b[0m in \u001b[0;36m<module>\u001b[1;34m\u001b[0m\n\u001b[1;32m----> 1\u001b[1;33m \u001b[0ml\u001b[0m\u001b[1;33m[\u001b[0m\u001b[1;36m0\u001b[0m\u001b[1;33m]\u001b[0m\u001b[1;33m.\u001b[0m\u001b[0mupper\u001b[0m\u001b[1;33m(\u001b[0m\u001b[1;33m)\u001b[0m\u001b[1;33m\u001b[0m\u001b[1;33m\u001b[0m\u001b[0m\n\u001b[0m",
      "\u001b[1;31mAttributeError\u001b[0m: 'list' object has no attribute 'upper'"
     ]
    }
   ],
   "source": [
    "l[0].upper()"
   ]
  },
  {
   "cell_type": "code",
   "execution_count": 2,
   "id": "e2b5d243",
   "metadata": {},
   "outputs": [
    {
     "name": "stdout",
     "output_type": "stream",
     "text": [
      "{1, 2, 3, 4, 5, 6, 7, 8, 9}\n"
     ]
    }
   ],
   "source": [
    "a = {1,2,3,4,5,6}\n",
    "b = {1,2,3,7,9,8}\n",
    "c = {1,3,5,9,5,6,7}\n",
    "print(a.union(b))"
   ]
  },
  {
   "cell_type": "code",
   "execution_count": 4,
   "id": "ebe07dd5",
   "metadata": {},
   "outputs": [
    {
     "name": "stdout",
     "output_type": "stream",
     "text": [
      "{1, 2, 3, 4, 5, 6, 7, 8, 9}\n"
     ]
    }
   ],
   "source": [
    "a = [1,2,3,4,5,6,7,8,9]\n",
    "b = set(a)\n",
    "print(b)"
   ]
  },
  {
   "cell_type": "code",
   "execution_count": 7,
   "id": "3acb3ff5",
   "metadata": {},
   "outputs": [
    {
     "name": "stdout",
     "output_type": "stream",
     "text": [
      "{'l', 'e', 'H', 'o'}\n",
      "['H', 'e', 'l', 'l', 'o']\n",
      "('H', 'e', 'l', 'l', 'o')\n"
     ]
    }
   ],
   "source": [
    "a = \"Hello\"\n",
    "print(set(a))\n",
    "print(list(a))\n",
    "print(tuple(a))"
   ]
  },
  {
   "cell_type": "code",
   "execution_count": 11,
   "id": "3b76be8f",
   "metadata": {},
   "outputs": [
    {
     "data": {
      "text/plain": [
       "{(1, 2, 3, 7, 9, 8), 1, 2, 3, 4, 5, 6}"
      ]
     },
     "execution_count": 11,
     "metadata": {},
     "output_type": "execute_result"
    }
   ],
   "source": [
    "a = {1,2,3,4,5,6}\n",
    "b = 1,2,3,7,9,8\n",
    "a.add(b)\n",
    "a"
   ]
  },
  {
   "cell_type": "code",
   "execution_count": 14,
   "id": "4fadadf3",
   "metadata": {},
   "outputs": [
    {
     "name": "stdout",
     "output_type": "stream",
     "text": [
      "Enter n = 2\n",
      "Enter the value of x = 35\n",
      "Enter the value of x = 63\n",
      "{35, 63}\n"
     ]
    }
   ],
   "source": [
    "s = set()\n",
    "n = int(input(\"Enter n = \"))\n",
    "for i in range(n):\n",
    "    x = int(input(\"Enter the value of x = \"))\n",
    "    s.add(x)\n",
    "print(s)"
   ]
  },
  {
   "cell_type": "markdown",
   "id": "33df93bd",
   "metadata": {},
   "source": [
    "a = {1, 2, 3, 7, 9, 8, 1, 2, 3, 4, 5, 6}\n",
    "a.remove(1)"
   ]
  },
  {
   "cell_type": "code",
   "execution_count": null,
   "id": "533d0946",
   "metadata": {},
   "outputs": [],
   "source": [
    "a = {1, 2, 3, 7, 9, 8, 1, 2, 3, 4, 5, 6}\n",
    "a.remove(1)"
   ]
  }
 ],
 "metadata": {
  "kernelspec": {
   "display_name": "Python 3",
   "language": "python",
   "name": "python3"
  },
  "language_info": {
   "codemirror_mode": {
    "name": "ipython",
    "version": 3
   },
   "file_extension": ".py",
   "mimetype": "text/x-python",
   "name": "python",
   "nbconvert_exporter": "python",
   "pygments_lexer": "ipython3",
   "version": "3.8.8"
  }
 },
 "nbformat": 4,
 "nbformat_minor": 5
}
